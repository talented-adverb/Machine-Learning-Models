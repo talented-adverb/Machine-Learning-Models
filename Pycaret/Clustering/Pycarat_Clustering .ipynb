{
 "cells": [
  {
   "cell_type": "code",
   "execution_count": 2,
   "id": "8fe78b1f",
   "metadata": {},
   "outputs": [
    {
     "name": "stdout",
     "output_type": "stream",
     "text": [
      "Requirement already satisfied: pycaret in c:\\users\\pratham\\anaconda3\\lib\\site-packages (3.3.0)\n",
      "Requirement already satisfied: ipython>=5.5.0 in c:\\users\\pratham\\anaconda3\\lib\\site-packages (from pycaret) (8.15.0)\n",
      "Requirement already satisfied: ipywidgets>=7.6.5 in c:\\users\\pratham\\anaconda3\\lib\\site-packages (from pycaret) (8.0.4)\n",
      "Requirement already satisfied: tqdm>=4.62.0 in c:\\users\\pratham\\anaconda3\\lib\\site-packages (from pycaret) (4.65.0)\n",
      "Requirement already satisfied: numpy<1.27,>=1.21 in c:\\users\\pratham\\anaconda3\\lib\\site-packages (from pycaret) (1.24.3)\n",
      "Requirement already satisfied: pandas<2.2.0 in c:\\users\\pratham\\anaconda3\\lib\\site-packages (from pycaret) (2.0.3)\n",
      "Requirement already satisfied: jinja2>=3 in c:\\users\\pratham\\anaconda3\\lib\\site-packages (from pycaret) (3.1.2)\n",
      "Requirement already satisfied: scipy<=1.11.4,>=1.6.1 in c:\\users\\pratham\\anaconda3\\lib\\site-packages (from pycaret) (1.11.1)\n",
      "Requirement already satisfied: joblib>=1.2.0 in c:\\users\\pratham\\anaconda3\\lib\\site-packages (from pycaret) (1.2.0)\n",
      "Requirement already satisfied: scikit-learn>1.4.0 in c:\\users\\pratham\\anaconda3\\lib\\site-packages (from pycaret) (1.4.2)\n",
      "Requirement already satisfied: pyod>=1.1.3 in c:\\users\\pratham\\anaconda3\\lib\\site-packages (from pycaret) (1.1.3)\n",
      "Requirement already satisfied: imbalanced-learn>=0.12.0 in c:\\users\\pratham\\anaconda3\\lib\\site-packages (from pycaret) (0.12.2)\n",
      "Requirement already satisfied: category-encoders>=2.4.0 in c:\\users\\pratham\\anaconda3\\lib\\site-packages (from pycaret) (2.6.3)\n",
      "Requirement already satisfied: lightgbm>=3.0.0 in c:\\users\\pratham\\anaconda3\\lib\\site-packages (from pycaret) (4.3.0)\n",
      "Requirement already satisfied: numba>=0.55.0 in c:\\users\\pratham\\anaconda3\\lib\\site-packages (from pycaret) (0.57.1)\n",
      "Requirement already satisfied: requests>=2.27.1 in c:\\users\\pratham\\anaconda3\\lib\\site-packages (from pycaret) (2.31.0)\n",
      "Requirement already satisfied: psutil>=5.9.0 in c:\\users\\pratham\\anaconda3\\lib\\site-packages (from pycaret) (5.9.0)\n",
      "Requirement already satisfied: markupsafe>=2.0.1 in c:\\users\\pratham\\anaconda3\\lib\\site-packages (from pycaret) (2.1.1)\n",
      "Requirement already satisfied: importlib-metadata>=4.12.0 in c:\\users\\pratham\\anaconda3\\lib\\site-packages (from pycaret) (6.0.0)\n",
      "Requirement already satisfied: nbformat>=4.2.0 in c:\\users\\pratham\\anaconda3\\lib\\site-packages (from pycaret) (5.9.2)\n",
      "Requirement already satisfied: cloudpickle in c:\\users\\pratham\\anaconda3\\lib\\site-packages (from pycaret) (2.2.1)\n",
      "Requirement already satisfied: deprecation>=2.1.0 in c:\\users\\pratham\\anaconda3\\lib\\site-packages (from pycaret) (2.1.0)\n",
      "Requirement already satisfied: xxhash in c:\\users\\pratham\\anaconda3\\lib\\site-packages (from pycaret) (2.0.2)\n",
      "Requirement already satisfied: matplotlib<3.8.0 in c:\\users\\pratham\\anaconda3\\lib\\site-packages (from pycaret) (3.7.5)\n",
      "Requirement already satisfied: scikit-plot>=0.3.7 in c:\\users\\pratham\\anaconda3\\lib\\site-packages (from pycaret) (0.3.7)\n",
      "Requirement already satisfied: yellowbrick>=1.4 in c:\\users\\pratham\\anaconda3\\lib\\site-packages (from pycaret) (1.5)\n",
      "Requirement already satisfied: plotly>=5.14.0 in c:\\users\\pratham\\anaconda3\\lib\\site-packages (from pycaret) (5.20.0)\n",
      "Requirement already satisfied: kaleido>=0.2.1 in c:\\users\\pratham\\anaconda3\\lib\\site-packages (from pycaret) (0.2.1)\n",
      "Requirement already satisfied: schemdraw==0.15 in c:\\users\\pratham\\anaconda3\\lib\\site-packages (from pycaret) (0.15)\n",
      "Requirement already satisfied: plotly-resampler>=0.8.3.1 in c:\\users\\pratham\\anaconda3\\lib\\site-packages (from pycaret) (0.10.0)\n",
      "Requirement already satisfied: statsmodels>=0.12.1 in c:\\users\\pratham\\anaconda3\\lib\\site-packages (from pycaret) (0.14.0)\n",
      "Requirement already satisfied: sktime>=0.26.0 in c:\\users\\pratham\\anaconda3\\lib\\site-packages (from pycaret) (0.28.0)\n",
      "Requirement already satisfied: tbats>=1.1.3 in c:\\users\\pratham\\anaconda3\\lib\\site-packages (from pycaret) (1.1.3)\n",
      "Requirement already satisfied: pmdarima>=2.0.4 in c:\\users\\pratham\\anaconda3\\lib\\site-packages (from pycaret) (2.0.4)\n",
      "Requirement already satisfied: patsy>=0.5.1 in c:\\users\\pratham\\anaconda3\\lib\\site-packages (from category-encoders>=2.4.0->pycaret) (0.5.3)\n",
      "Requirement already satisfied: packaging in c:\\users\\pratham\\anaconda3\\lib\\site-packages (from deprecation>=2.1.0->pycaret) (23.1)\n",
      "Requirement already satisfied: threadpoolctl>=2.0.0 in c:\\users\\pratham\\anaconda3\\lib\\site-packages (from imbalanced-learn>=0.12.0->pycaret) (2.2.0)\n",
      "Requirement already satisfied: zipp>=0.5 in c:\\users\\pratham\\anaconda3\\lib\\site-packages (from importlib-metadata>=4.12.0->pycaret) (3.11.0)\n",
      "Requirement already satisfied: backcall in c:\\users\\pratham\\anaconda3\\lib\\site-packages (from ipython>=5.5.0->pycaret) (0.2.0)\n",
      "Requirement already satisfied: decorator in c:\\users\\pratham\\anaconda3\\lib\\site-packages (from ipython>=5.5.0->pycaret) (5.1.1)\n",
      "Requirement already satisfied: jedi>=0.16 in c:\\users\\pratham\\anaconda3\\lib\\site-packages (from ipython>=5.5.0->pycaret) (0.18.1)\n",
      "Requirement already satisfied: matplotlib-inline in c:\\users\\pratham\\anaconda3\\lib\\site-packages (from ipython>=5.5.0->pycaret) (0.1.6)\n",
      "Requirement already satisfied: pickleshare in c:\\users\\pratham\\anaconda3\\lib\\site-packages (from ipython>=5.5.0->pycaret) (0.7.5)\n",
      "Requirement already satisfied: prompt-toolkit!=3.0.37,<3.1.0,>=3.0.30 in c:\\users\\pratham\\anaconda3\\lib\\site-packages (from ipython>=5.5.0->pycaret) (3.0.36)\n",
      "Requirement already satisfied: pygments>=2.4.0 in c:\\users\\pratham\\anaconda3\\lib\\site-packages (from ipython>=5.5.0->pycaret) (2.15.1)\n",
      "Requirement already satisfied: stack-data in c:\\users\\pratham\\anaconda3\\lib\\site-packages (from ipython>=5.5.0->pycaret) (0.2.0)\n",
      "Requirement already satisfied: traitlets>=5 in c:\\users\\pratham\\anaconda3\\lib\\site-packages (from ipython>=5.5.0->pycaret) (5.7.1)\n",
      "Requirement already satisfied: colorama in c:\\users\\pratham\\anaconda3\\lib\\site-packages (from ipython>=5.5.0->pycaret) (0.4.6)\n",
      "Requirement already satisfied: ipykernel>=4.5.1 in c:\\users\\pratham\\anaconda3\\lib\\site-packages (from ipywidgets>=7.6.5->pycaret) (6.25.0)\n",
      "Requirement already satisfied: widgetsnbextension~=4.0 in c:\\users\\pratham\\anaconda3\\lib\\site-packages (from ipywidgets>=7.6.5->pycaret) (4.0.5)\n",
      "Requirement already satisfied: jupyterlab-widgets~=3.0 in c:\\users\\pratham\\anaconda3\\lib\\site-packages (from ipywidgets>=7.6.5->pycaret) (3.0.5)\n",
      "Requirement already satisfied: contourpy>=1.0.1 in c:\\users\\pratham\\anaconda3\\lib\\site-packages (from matplotlib<3.8.0->pycaret) (1.0.5)\n",
      "Requirement already satisfied: cycler>=0.10 in c:\\users\\pratham\\anaconda3\\lib\\site-packages (from matplotlib<3.8.0->pycaret) (0.11.0)\n",
      "Requirement already satisfied: fonttools>=4.22.0 in c:\\users\\pratham\\anaconda3\\lib\\site-packages (from matplotlib<3.8.0->pycaret) (4.25.0)\n",
      "Requirement already satisfied: kiwisolver>=1.0.1 in c:\\users\\pratham\\anaconda3\\lib\\site-packages (from matplotlib<3.8.0->pycaret) (1.4.4)\n",
      "Requirement already satisfied: pillow>=6.2.0 in c:\\users\\pratham\\anaconda3\\lib\\site-packages (from matplotlib<3.8.0->pycaret) (9.4.0)\n",
      "Requirement already satisfied: pyparsing>=2.3.1 in c:\\users\\pratham\\anaconda3\\lib\\site-packages (from matplotlib<3.8.0->pycaret) (3.0.9)\n",
      "Requirement already satisfied: python-dateutil>=2.7 in c:\\users\\pratham\\anaconda3\\lib\\site-packages (from matplotlib<3.8.0->pycaret) (2.8.2)\n",
      "Requirement already satisfied: fastjsonschema in c:\\users\\pratham\\anaconda3\\lib\\site-packages (from nbformat>=4.2.0->pycaret) (2.16.2)\n",
      "Requirement already satisfied: jsonschema>=2.6 in c:\\users\\pratham\\anaconda3\\lib\\site-packages (from nbformat>=4.2.0->pycaret) (4.17.3)\n",
      "Requirement already satisfied: jupyter-core in c:\\users\\pratham\\anaconda3\\lib\\site-packages (from nbformat>=4.2.0->pycaret) (5.3.0)\n",
      "Requirement already satisfied: llvmlite<0.41,>=0.40.0dev0 in c:\\users\\pratham\\anaconda3\\lib\\site-packages (from numba>=0.55.0->pycaret) (0.40.0)\n",
      "Requirement already satisfied: pytz>=2020.1 in c:\\users\\pratham\\anaconda3\\lib\\site-packages (from pandas<2.2.0->pycaret) (2023.3.post1)\n",
      "Requirement already satisfied: tzdata>=2022.1 in c:\\users\\pratham\\anaconda3\\lib\\site-packages (from pandas<2.2.0->pycaret) (2023.3)\n",
      "Requirement already satisfied: tenacity>=6.2.0 in c:\\users\\pratham\\anaconda3\\lib\\site-packages (from plotly>=5.14.0->pycaret) (8.2.2)\n",
      "Requirement already satisfied: dash>=2.9.0 in c:\\users\\pratham\\anaconda3\\lib\\site-packages (from plotly-resampler>=0.8.3.1->pycaret) (2.16.1)\n",
      "Requirement already satisfied: orjson<4.0.0,>=3.8.0 in c:\\users\\pratham\\anaconda3\\lib\\site-packages (from plotly-resampler>=0.8.3.1->pycaret) (3.10.0)\n",
      "Requirement already satisfied: tsdownsample>=0.1.3 in c:\\users\\pratham\\anaconda3\\lib\\site-packages (from plotly-resampler>=0.8.3.1->pycaret) (0.1.3)\n",
      "Requirement already satisfied: Cython!=0.29.18,!=0.29.31,>=0.29 in c:\\users\\pratham\\anaconda3\\lib\\site-packages (from pmdarima>=2.0.4->pycaret) (3.0.10)\n",
      "Requirement already satisfied: urllib3 in c:\\users\\pratham\\anaconda3\\lib\\site-packages (from pmdarima>=2.0.4->pycaret) (1.26.16)\n",
      "Requirement already satisfied: setuptools!=50.0.0,>=38.6.0 in c:\\users\\pratham\\anaconda3\\lib\\site-packages (from pmdarima>=2.0.4->pycaret) (68.0.0)\n",
      "Requirement already satisfied: six in c:\\users\\pratham\\anaconda3\\lib\\site-packages (from pyod>=1.1.3->pycaret) (1.16.0)\n",
      "Requirement already satisfied: charset-normalizer<4,>=2 in c:\\users\\pratham\\anaconda3\\lib\\site-packages (from requests>=2.27.1->pycaret) (2.0.4)\n",
      "Requirement already satisfied: idna<4,>=2.5 in c:\\users\\pratham\\anaconda3\\lib\\site-packages (from requests>=2.27.1->pycaret) (3.4)\n",
      "Requirement already satisfied: certifi>=2017.4.17 in c:\\users\\pratham\\anaconda3\\lib\\site-packages (from requests>=2.27.1->pycaret) (2023.7.22)\n",
      "Requirement already satisfied: scikit-base<0.8.0 in c:\\users\\pratham\\anaconda3\\lib\\site-packages (from sktime>=0.26.0->pycaret) (0.7.5)\n",
      "Requirement already satisfied: Flask<3.1,>=1.0.4 in c:\\users\\pratham\\anaconda3\\lib\\site-packages (from dash>=2.9.0->plotly-resampler>=0.8.3.1->pycaret) (2.2.2)\n",
      "Requirement already satisfied: Werkzeug<3.1 in c:\\users\\pratham\\anaconda3\\lib\\site-packages (from dash>=2.9.0->plotly-resampler>=0.8.3.1->pycaret) (2.2.3)\n",
      "Requirement already satisfied: dash-html-components==2.0.0 in c:\\users\\pratham\\anaconda3\\lib\\site-packages (from dash>=2.9.0->plotly-resampler>=0.8.3.1->pycaret) (2.0.0)\n",
      "Requirement already satisfied: dash-core-components==2.0.0 in c:\\users\\pratham\\anaconda3\\lib\\site-packages (from dash>=2.9.0->plotly-resampler>=0.8.3.1->pycaret) (2.0.0)\n",
      "Requirement already satisfied: dash-table==5.0.0 in c:\\users\\pratham\\anaconda3\\lib\\site-packages (from dash>=2.9.0->plotly-resampler>=0.8.3.1->pycaret) (5.0.0)\n",
      "Requirement already satisfied: typing-extensions>=4.1.1 in c:\\users\\pratham\\anaconda3\\lib\\site-packages (from dash>=2.9.0->plotly-resampler>=0.8.3.1->pycaret) (4.7.1)\n",
      "Requirement already satisfied: retrying in c:\\users\\pratham\\anaconda3\\lib\\site-packages (from dash>=2.9.0->plotly-resampler>=0.8.3.1->pycaret) (1.3.4)\n",
      "Requirement already satisfied: nest-asyncio in c:\\users\\pratham\\anaconda3\\lib\\site-packages (from dash>=2.9.0->plotly-resampler>=0.8.3.1->pycaret) (1.5.6)\n",
      "Requirement already satisfied: comm>=0.1.1 in c:\\users\\pratham\\anaconda3\\lib\\site-packages (from ipykernel>=4.5.1->ipywidgets>=7.6.5->pycaret) (0.1.2)\n",
      "Requirement already satisfied: debugpy>=1.6.5 in c:\\users\\pratham\\anaconda3\\lib\\site-packages (from ipykernel>=4.5.1->ipywidgets>=7.6.5->pycaret) (1.6.7)\n",
      "Requirement already satisfied: jupyter-client>=6.1.12 in c:\\users\\pratham\\anaconda3\\lib\\site-packages (from ipykernel>=4.5.1->ipywidgets>=7.6.5->pycaret) (7.4.9)\n",
      "Requirement already satisfied: pyzmq>=20 in c:\\users\\pratham\\anaconda3\\lib\\site-packages (from ipykernel>=4.5.1->ipywidgets>=7.6.5->pycaret) (23.2.0)\n",
      "Requirement already satisfied: tornado>=6.1 in c:\\users\\pratham\\anaconda3\\lib\\site-packages (from ipykernel>=4.5.1->ipywidgets>=7.6.5->pycaret) (6.3.2)\n",
      "Requirement already satisfied: parso<0.9.0,>=0.8.0 in c:\\users\\pratham\\anaconda3\\lib\\site-packages (from jedi>=0.16->ipython>=5.5.0->pycaret) (0.8.3)\n",
      "Requirement already satisfied: attrs>=17.4.0 in c:\\users\\pratham\\anaconda3\\lib\\site-packages (from jsonschema>=2.6->nbformat>=4.2.0->pycaret) (22.1.0)\n",
      "Requirement already satisfied: pyrsistent!=0.17.0,!=0.17.1,!=0.17.2,>=0.14.0 in c:\\users\\pratham\\anaconda3\\lib\\site-packages (from jsonschema>=2.6->nbformat>=4.2.0->pycaret) (0.18.0)\n",
      "Requirement already satisfied: platformdirs>=2.5 in c:\\users\\pratham\\anaconda3\\lib\\site-packages (from jupyter-core->nbformat>=4.2.0->pycaret) (3.10.0)\n",
      "Requirement already satisfied: pywin32>=300 in c:\\users\\pratham\\anaconda3\\lib\\site-packages (from jupyter-core->nbformat>=4.2.0->pycaret) (305.1)\n",
      "Requirement already satisfied: wcwidth in c:\\users\\pratham\\anaconda3\\lib\\site-packages (from prompt-toolkit!=3.0.37,<3.1.0,>=3.0.30->ipython>=5.5.0->pycaret) (0.2.5)\n",
      "Requirement already satisfied: executing in c:\\users\\pratham\\anaconda3\\lib\\site-packages (from stack-data->ipython>=5.5.0->pycaret) (0.8.3)\n",
      "Requirement already satisfied: asttokens in c:\\users\\pratham\\anaconda3\\lib\\site-packages (from stack-data->ipython>=5.5.0->pycaret) (2.0.5)\n",
      "Requirement already satisfied: pure-eval in c:\\users\\pratham\\anaconda3\\lib\\site-packages (from stack-data->ipython>=5.5.0->pycaret) (0.2.2)\n",
      "Requirement already satisfied: itsdangerous>=2.0 in c:\\users\\pratham\\anaconda3\\lib\\site-packages (from Flask<3.1,>=1.0.4->dash>=2.9.0->plotly-resampler>=0.8.3.1->pycaret) (2.0.1)\n",
      "Requirement already satisfied: click>=8.0 in c:\\users\\pratham\\anaconda3\\lib\\site-packages (from Flask<3.1,>=1.0.4->dash>=2.9.0->plotly-resampler>=0.8.3.1->pycaret) (8.0.4)\n",
      "Requirement already satisfied: entrypoints in c:\\users\\pratham\\anaconda3\\lib\\site-packages (from jupyter-client>=6.1.12->ipykernel>=4.5.1->ipywidgets>=7.6.5->pycaret) (0.4)\n",
      "Pycaret installed sucessfully!!\n"
     ]
    }
   ],
   "source": [
    "!pip install pycaret \n",
    "print (\"Pycaret installed sucessfully!!\")"
   ]
  },
  {
   "cell_type": "code",
   "execution_count": 3,
   "id": "4dd3dbde",
   "metadata": {},
   "outputs": [
    {
     "data": {
      "text/plain": [
       "'3.3.0'"
      ]
     },
     "execution_count": 3,
     "metadata": {},
     "output_type": "execute_result"
    }
   ],
   "source": [
    "from pycaret.utils import version\n",
    "version()"
   ]
  },
  {
   "cell_type": "code",
   "execution_count": 4,
   "id": "b8408105",
   "metadata": {},
   "outputs": [
    {
     "data": {
      "text/html": [
       "<div>\n",
       "<style scoped>\n",
       "    .dataframe tbody tr th:only-of-type {\n",
       "        vertical-align: middle;\n",
       "    }\n",
       "\n",
       "    .dataframe tbody tr th {\n",
       "        vertical-align: top;\n",
       "    }\n",
       "\n",
       "    .dataframe thead th {\n",
       "        text-align: right;\n",
       "    }\n",
       "</style>\n",
       "<table border=\"1\" class=\"dataframe\">\n",
       "  <thead>\n",
       "    <tr style=\"text-align: right;\">\n",
       "      <th></th>\n",
       "      <th>Dataset</th>\n",
       "      <th>Data Types</th>\n",
       "      <th>Default Task</th>\n",
       "      <th>Target Variable 1</th>\n",
       "      <th>Target Variable 2</th>\n",
       "      <th># Instances</th>\n",
       "      <th># Attributes</th>\n",
       "      <th>Missing Values</th>\n",
       "    </tr>\n",
       "  </thead>\n",
       "  <tbody>\n",
       "    <tr>\n",
       "      <th>0</th>\n",
       "      <td>anomaly</td>\n",
       "      <td>Multivariate</td>\n",
       "      <td>Anomaly Detection</td>\n",
       "      <td>NaN</td>\n",
       "      <td>NaN</td>\n",
       "      <td>1000</td>\n",
       "      <td>10</td>\n",
       "      <td>N</td>\n",
       "    </tr>\n",
       "    <tr>\n",
       "      <th>1</th>\n",
       "      <td>france</td>\n",
       "      <td>Multivariate</td>\n",
       "      <td>Association Rule Mining</td>\n",
       "      <td>InvoiceNo</td>\n",
       "      <td>Description</td>\n",
       "      <td>8557</td>\n",
       "      <td>8</td>\n",
       "      <td>N</td>\n",
       "    </tr>\n",
       "    <tr>\n",
       "      <th>2</th>\n",
       "      <td>germany</td>\n",
       "      <td>Multivariate</td>\n",
       "      <td>Association Rule Mining</td>\n",
       "      <td>InvoiceNo</td>\n",
       "      <td>Description</td>\n",
       "      <td>9495</td>\n",
       "      <td>8</td>\n",
       "      <td>N</td>\n",
       "    </tr>\n",
       "    <tr>\n",
       "      <th>3</th>\n",
       "      <td>bank</td>\n",
       "      <td>Multivariate</td>\n",
       "      <td>Classification (Binary)</td>\n",
       "      <td>deposit</td>\n",
       "      <td>NaN</td>\n",
       "      <td>45211</td>\n",
       "      <td>17</td>\n",
       "      <td>N</td>\n",
       "    </tr>\n",
       "    <tr>\n",
       "      <th>4</th>\n",
       "      <td>blood</td>\n",
       "      <td>Multivariate</td>\n",
       "      <td>Classification (Binary)</td>\n",
       "      <td>Class</td>\n",
       "      <td>NaN</td>\n",
       "      <td>748</td>\n",
       "      <td>5</td>\n",
       "      <td>N</td>\n",
       "    </tr>\n",
       "    <tr>\n",
       "      <th>5</th>\n",
       "      <td>cancer</td>\n",
       "      <td>Multivariate</td>\n",
       "      <td>Classification (Binary)</td>\n",
       "      <td>Class</td>\n",
       "      <td>NaN</td>\n",
       "      <td>683</td>\n",
       "      <td>10</td>\n",
       "      <td>N</td>\n",
       "    </tr>\n",
       "    <tr>\n",
       "      <th>6</th>\n",
       "      <td>credit</td>\n",
       "      <td>Multivariate</td>\n",
       "      <td>Classification (Binary)</td>\n",
       "      <td>default</td>\n",
       "      <td>NaN</td>\n",
       "      <td>24000</td>\n",
       "      <td>24</td>\n",
       "      <td>N</td>\n",
       "    </tr>\n",
       "    <tr>\n",
       "      <th>7</th>\n",
       "      <td>diabetes</td>\n",
       "      <td>Multivariate</td>\n",
       "      <td>Classification (Binary)</td>\n",
       "      <td>Class variable</td>\n",
       "      <td>NaN</td>\n",
       "      <td>768</td>\n",
       "      <td>9</td>\n",
       "      <td>N</td>\n",
       "    </tr>\n",
       "    <tr>\n",
       "      <th>8</th>\n",
       "      <td>electrical_grid</td>\n",
       "      <td>Multivariate</td>\n",
       "      <td>Classification (Binary)</td>\n",
       "      <td>stabf</td>\n",
       "      <td>NaN</td>\n",
       "      <td>10000</td>\n",
       "      <td>14</td>\n",
       "      <td>N</td>\n",
       "    </tr>\n",
       "    <tr>\n",
       "      <th>9</th>\n",
       "      <td>employee</td>\n",
       "      <td>Multivariate</td>\n",
       "      <td>Classification (Binary)</td>\n",
       "      <td>left</td>\n",
       "      <td>NaN</td>\n",
       "      <td>14999</td>\n",
       "      <td>10</td>\n",
       "      <td>N</td>\n",
       "    </tr>\n",
       "    <tr>\n",
       "      <th>10</th>\n",
       "      <td>heart</td>\n",
       "      <td>Multivariate</td>\n",
       "      <td>Classification (Binary)</td>\n",
       "      <td>DEATH</td>\n",
       "      <td>NaN</td>\n",
       "      <td>200</td>\n",
       "      <td>16</td>\n",
       "      <td>N</td>\n",
       "    </tr>\n",
       "    <tr>\n",
       "      <th>11</th>\n",
       "      <td>heart_disease</td>\n",
       "      <td>Multivariate</td>\n",
       "      <td>Classification (Binary)</td>\n",
       "      <td>Disease</td>\n",
       "      <td>NaN</td>\n",
       "      <td>270</td>\n",
       "      <td>14</td>\n",
       "      <td>N</td>\n",
       "    </tr>\n",
       "    <tr>\n",
       "      <th>12</th>\n",
       "      <td>hepatitis</td>\n",
       "      <td>Multivariate</td>\n",
       "      <td>Classification (Binary)</td>\n",
       "      <td>Class</td>\n",
       "      <td>NaN</td>\n",
       "      <td>154</td>\n",
       "      <td>32</td>\n",
       "      <td>Y</td>\n",
       "    </tr>\n",
       "    <tr>\n",
       "      <th>13</th>\n",
       "      <td>income</td>\n",
       "      <td>Multivariate</td>\n",
       "      <td>Classification (Binary)</td>\n",
       "      <td>income &gt;50K</td>\n",
       "      <td>NaN</td>\n",
       "      <td>32561</td>\n",
       "      <td>14</td>\n",
       "      <td>Y</td>\n",
       "    </tr>\n",
       "    <tr>\n",
       "      <th>14</th>\n",
       "      <td>juice</td>\n",
       "      <td>Multivariate</td>\n",
       "      <td>Classification (Binary)</td>\n",
       "      <td>Purchase</td>\n",
       "      <td>NaN</td>\n",
       "      <td>1070</td>\n",
       "      <td>15</td>\n",
       "      <td>N</td>\n",
       "    </tr>\n",
       "    <tr>\n",
       "      <th>15</th>\n",
       "      <td>nba</td>\n",
       "      <td>Multivariate</td>\n",
       "      <td>Classification (Binary)</td>\n",
       "      <td>TARGET_5Yrs</td>\n",
       "      <td>NaN</td>\n",
       "      <td>1340</td>\n",
       "      <td>21</td>\n",
       "      <td>N</td>\n",
       "    </tr>\n",
       "    <tr>\n",
       "      <th>16</th>\n",
       "      <td>wine</td>\n",
       "      <td>Multivariate</td>\n",
       "      <td>Classification (Binary)</td>\n",
       "      <td>type</td>\n",
       "      <td>NaN</td>\n",
       "      <td>6498</td>\n",
       "      <td>13</td>\n",
       "      <td>N</td>\n",
       "    </tr>\n",
       "    <tr>\n",
       "      <th>17</th>\n",
       "      <td>telescope</td>\n",
       "      <td>Multivariate</td>\n",
       "      <td>Classification (Binary)</td>\n",
       "      <td>Class</td>\n",
       "      <td>NaN</td>\n",
       "      <td>19020</td>\n",
       "      <td>11</td>\n",
       "      <td>N</td>\n",
       "    </tr>\n",
       "    <tr>\n",
       "      <th>18</th>\n",
       "      <td>titanic</td>\n",
       "      <td>Multivariate</td>\n",
       "      <td>Classification (Binary)</td>\n",
       "      <td>Survived</td>\n",
       "      <td>NaN</td>\n",
       "      <td>891</td>\n",
       "      <td>11</td>\n",
       "      <td>Y</td>\n",
       "    </tr>\n",
       "    <tr>\n",
       "      <th>19</th>\n",
       "      <td>us_presidential_election_results</td>\n",
       "      <td>Multivariate</td>\n",
       "      <td>Classification (Binary)</td>\n",
       "      <td>party_winner</td>\n",
       "      <td>NaN</td>\n",
       "      <td>497</td>\n",
       "      <td>7</td>\n",
       "      <td>N</td>\n",
       "    </tr>\n",
       "    <tr>\n",
       "      <th>20</th>\n",
       "      <td>glass</td>\n",
       "      <td>Multivariate</td>\n",
       "      <td>Classification (Multiclass)</td>\n",
       "      <td>Type</td>\n",
       "      <td>NaN</td>\n",
       "      <td>214</td>\n",
       "      <td>10</td>\n",
       "      <td>N</td>\n",
       "    </tr>\n",
       "    <tr>\n",
       "      <th>21</th>\n",
       "      <td>iris</td>\n",
       "      <td>Multivariate</td>\n",
       "      <td>Classification (Multiclass)</td>\n",
       "      <td>species</td>\n",
       "      <td>NaN</td>\n",
       "      <td>150</td>\n",
       "      <td>5</td>\n",
       "      <td>N</td>\n",
       "    </tr>\n",
       "    <tr>\n",
       "      <th>22</th>\n",
       "      <td>poker</td>\n",
       "      <td>Multivariate</td>\n",
       "      <td>Classification (Multiclass)</td>\n",
       "      <td>CLASS</td>\n",
       "      <td>NaN</td>\n",
       "      <td>100000</td>\n",
       "      <td>11</td>\n",
       "      <td>N</td>\n",
       "    </tr>\n",
       "    <tr>\n",
       "      <th>23</th>\n",
       "      <td>questions</td>\n",
       "      <td>Multivariate</td>\n",
       "      <td>Classification (Multiclass)</td>\n",
       "      <td>Next_Question</td>\n",
       "      <td>NaN</td>\n",
       "      <td>499</td>\n",
       "      <td>4</td>\n",
       "      <td>N</td>\n",
       "    </tr>\n",
       "    <tr>\n",
       "      <th>24</th>\n",
       "      <td>satellite</td>\n",
       "      <td>Multivariate</td>\n",
       "      <td>Classification (Multiclass)</td>\n",
       "      <td>Class</td>\n",
       "      <td>NaN</td>\n",
       "      <td>6435</td>\n",
       "      <td>37</td>\n",
       "      <td>N</td>\n",
       "    </tr>\n",
       "    <tr>\n",
       "      <th>25</th>\n",
       "      <td>CTG</td>\n",
       "      <td>Multivariate</td>\n",
       "      <td>Classification (Multiclass)</td>\n",
       "      <td>NSP</td>\n",
       "      <td>NaN</td>\n",
       "      <td>2129</td>\n",
       "      <td>40</td>\n",
       "      <td>Y</td>\n",
       "    </tr>\n",
       "    <tr>\n",
       "      <th>26</th>\n",
       "      <td>asia_gdp</td>\n",
       "      <td>Multivariate</td>\n",
       "      <td>Clustering</td>\n",
       "      <td>NaN</td>\n",
       "      <td>NaN</td>\n",
       "      <td>40</td>\n",
       "      <td>11</td>\n",
       "      <td>N</td>\n",
       "    </tr>\n",
       "    <tr>\n",
       "      <th>27</th>\n",
       "      <td>elections</td>\n",
       "      <td>Multivariate</td>\n",
       "      <td>Clustering</td>\n",
       "      <td>NaN</td>\n",
       "      <td>NaN</td>\n",
       "      <td>3195</td>\n",
       "      <td>54</td>\n",
       "      <td>Y</td>\n",
       "    </tr>\n",
       "    <tr>\n",
       "      <th>28</th>\n",
       "      <td>facebook</td>\n",
       "      <td>Multivariate</td>\n",
       "      <td>Clustering</td>\n",
       "      <td>NaN</td>\n",
       "      <td>NaN</td>\n",
       "      <td>7050</td>\n",
       "      <td>12</td>\n",
       "      <td>N</td>\n",
       "    </tr>\n",
       "    <tr>\n",
       "      <th>29</th>\n",
       "      <td>ipl</td>\n",
       "      <td>Multivariate</td>\n",
       "      <td>Clustering</td>\n",
       "      <td>NaN</td>\n",
       "      <td>NaN</td>\n",
       "      <td>153</td>\n",
       "      <td>25</td>\n",
       "      <td>N</td>\n",
       "    </tr>\n",
       "    <tr>\n",
       "      <th>30</th>\n",
       "      <td>jewellery</td>\n",
       "      <td>Multivariate</td>\n",
       "      <td>Clustering</td>\n",
       "      <td>NaN</td>\n",
       "      <td>NaN</td>\n",
       "      <td>505</td>\n",
       "      <td>4</td>\n",
       "      <td>N</td>\n",
       "    </tr>\n",
       "    <tr>\n",
       "      <th>31</th>\n",
       "      <td>mice</td>\n",
       "      <td>Multivariate</td>\n",
       "      <td>Clustering</td>\n",
       "      <td>NaN</td>\n",
       "      <td>NaN</td>\n",
       "      <td>1080</td>\n",
       "      <td>82</td>\n",
       "      <td>Y</td>\n",
       "    </tr>\n",
       "    <tr>\n",
       "      <th>32</th>\n",
       "      <td>migration</td>\n",
       "      <td>Multivariate</td>\n",
       "      <td>Clustering</td>\n",
       "      <td>NaN</td>\n",
       "      <td>NaN</td>\n",
       "      <td>233</td>\n",
       "      <td>12</td>\n",
       "      <td>N</td>\n",
       "    </tr>\n",
       "    <tr>\n",
       "      <th>33</th>\n",
       "      <td>perfume</td>\n",
       "      <td>Multivariate</td>\n",
       "      <td>Clustering</td>\n",
       "      <td>NaN</td>\n",
       "      <td>NaN</td>\n",
       "      <td>20</td>\n",
       "      <td>29</td>\n",
       "      <td>N</td>\n",
       "    </tr>\n",
       "    <tr>\n",
       "      <th>34</th>\n",
       "      <td>pokemon</td>\n",
       "      <td>Multivariate</td>\n",
       "      <td>Clustering</td>\n",
       "      <td>NaN</td>\n",
       "      <td>NaN</td>\n",
       "      <td>800</td>\n",
       "      <td>13</td>\n",
       "      <td>Y</td>\n",
       "    </tr>\n",
       "    <tr>\n",
       "      <th>35</th>\n",
       "      <td>population</td>\n",
       "      <td>Multivariate</td>\n",
       "      <td>Clustering</td>\n",
       "      <td>NaN</td>\n",
       "      <td>NaN</td>\n",
       "      <td>255</td>\n",
       "      <td>56</td>\n",
       "      <td>Y</td>\n",
       "    </tr>\n",
       "    <tr>\n",
       "      <th>36</th>\n",
       "      <td>public_health</td>\n",
       "      <td>Multivariate</td>\n",
       "      <td>Clustering</td>\n",
       "      <td>NaN</td>\n",
       "      <td>NaN</td>\n",
       "      <td>224</td>\n",
       "      <td>21</td>\n",
       "      <td>N</td>\n",
       "    </tr>\n",
       "    <tr>\n",
       "      <th>37</th>\n",
       "      <td>seeds</td>\n",
       "      <td>Multivariate</td>\n",
       "      <td>Clustering</td>\n",
       "      <td>NaN</td>\n",
       "      <td>NaN</td>\n",
       "      <td>210</td>\n",
       "      <td>7</td>\n",
       "      <td>N</td>\n",
       "    </tr>\n",
       "    <tr>\n",
       "      <th>38</th>\n",
       "      <td>wholesale</td>\n",
       "      <td>Multivariate</td>\n",
       "      <td>Clustering</td>\n",
       "      <td>NaN</td>\n",
       "      <td>NaN</td>\n",
       "      <td>440</td>\n",
       "      <td>8</td>\n",
       "      <td>N</td>\n",
       "    </tr>\n",
       "    <tr>\n",
       "      <th>39</th>\n",
       "      <td>tweets</td>\n",
       "      <td>Text</td>\n",
       "      <td>NLP</td>\n",
       "      <td>tweet</td>\n",
       "      <td>NaN</td>\n",
       "      <td>8594</td>\n",
       "      <td>2</td>\n",
       "      <td>N</td>\n",
       "    </tr>\n",
       "    <tr>\n",
       "      <th>40</th>\n",
       "      <td>amazon</td>\n",
       "      <td>Text</td>\n",
       "      <td>NLP / Classification</td>\n",
       "      <td>reviewText</td>\n",
       "      <td>NaN</td>\n",
       "      <td>20000</td>\n",
       "      <td>2</td>\n",
       "      <td>N</td>\n",
       "    </tr>\n",
       "    <tr>\n",
       "      <th>41</th>\n",
       "      <td>kiva</td>\n",
       "      <td>Text</td>\n",
       "      <td>NLP / Classification</td>\n",
       "      <td>en</td>\n",
       "      <td>NaN</td>\n",
       "      <td>6818</td>\n",
       "      <td>7</td>\n",
       "      <td>N</td>\n",
       "    </tr>\n",
       "    <tr>\n",
       "      <th>42</th>\n",
       "      <td>spx</td>\n",
       "      <td>Text</td>\n",
       "      <td>NLP / Regression</td>\n",
       "      <td>text</td>\n",
       "      <td>NaN</td>\n",
       "      <td>874</td>\n",
       "      <td>4</td>\n",
       "      <td>N</td>\n",
       "    </tr>\n",
       "    <tr>\n",
       "      <th>43</th>\n",
       "      <td>wikipedia</td>\n",
       "      <td>Text</td>\n",
       "      <td>NLP / Classification</td>\n",
       "      <td>Text</td>\n",
       "      <td>NaN</td>\n",
       "      <td>500</td>\n",
       "      <td>3</td>\n",
       "      <td>N</td>\n",
       "    </tr>\n",
       "    <tr>\n",
       "      <th>44</th>\n",
       "      <td>automobile</td>\n",
       "      <td>Multivariate</td>\n",
       "      <td>Regression</td>\n",
       "      <td>price</td>\n",
       "      <td>NaN</td>\n",
       "      <td>202</td>\n",
       "      <td>26</td>\n",
       "      <td>Y</td>\n",
       "    </tr>\n",
       "    <tr>\n",
       "      <th>45</th>\n",
       "      <td>bike</td>\n",
       "      <td>Multivariate</td>\n",
       "      <td>Regression</td>\n",
       "      <td>cnt</td>\n",
       "      <td>NaN</td>\n",
       "      <td>17379</td>\n",
       "      <td>15</td>\n",
       "      <td>N</td>\n",
       "    </tr>\n",
       "    <tr>\n",
       "      <th>46</th>\n",
       "      <td>boston</td>\n",
       "      <td>Multivariate</td>\n",
       "      <td>Regression</td>\n",
       "      <td>medv</td>\n",
       "      <td>NaN</td>\n",
       "      <td>506</td>\n",
       "      <td>14</td>\n",
       "      <td>N</td>\n",
       "    </tr>\n",
       "    <tr>\n",
       "      <th>47</th>\n",
       "      <td>concrete</td>\n",
       "      <td>Multivariate</td>\n",
       "      <td>Regression</td>\n",
       "      <td>strength</td>\n",
       "      <td>NaN</td>\n",
       "      <td>1030</td>\n",
       "      <td>9</td>\n",
       "      <td>N</td>\n",
       "    </tr>\n",
       "    <tr>\n",
       "      <th>48</th>\n",
       "      <td>diamond</td>\n",
       "      <td>Multivariate</td>\n",
       "      <td>Regression</td>\n",
       "      <td>Price</td>\n",
       "      <td>NaN</td>\n",
       "      <td>6000</td>\n",
       "      <td>8</td>\n",
       "      <td>N</td>\n",
       "    </tr>\n",
       "    <tr>\n",
       "      <th>49</th>\n",
       "      <td>energy</td>\n",
       "      <td>Multivariate</td>\n",
       "      <td>Regression</td>\n",
       "      <td>Heating Load</td>\n",
       "      <td>Cooling Load</td>\n",
       "      <td>768</td>\n",
       "      <td>10</td>\n",
       "      <td>N</td>\n",
       "    </tr>\n",
       "    <tr>\n",
       "      <th>50</th>\n",
       "      <td>forest</td>\n",
       "      <td>Multivariate</td>\n",
       "      <td>Regression</td>\n",
       "      <td>area</td>\n",
       "      <td>NaN</td>\n",
       "      <td>517</td>\n",
       "      <td>13</td>\n",
       "      <td>N</td>\n",
       "    </tr>\n",
       "    <tr>\n",
       "      <th>51</th>\n",
       "      <td>gold</td>\n",
       "      <td>Multivariate</td>\n",
       "      <td>Regression</td>\n",
       "      <td>Gold_T+22</td>\n",
       "      <td>NaN</td>\n",
       "      <td>2558</td>\n",
       "      <td>121</td>\n",
       "      <td>N</td>\n",
       "    </tr>\n",
       "    <tr>\n",
       "      <th>52</th>\n",
       "      <td>house</td>\n",
       "      <td>Multivariate</td>\n",
       "      <td>Regression</td>\n",
       "      <td>SalePrice</td>\n",
       "      <td>NaN</td>\n",
       "      <td>1461</td>\n",
       "      <td>81</td>\n",
       "      <td>Y</td>\n",
       "    </tr>\n",
       "    <tr>\n",
       "      <th>53</th>\n",
       "      <td>insurance</td>\n",
       "      <td>Multivariate</td>\n",
       "      <td>Regression</td>\n",
       "      <td>charges</td>\n",
       "      <td>NaN</td>\n",
       "      <td>1338</td>\n",
       "      <td>7</td>\n",
       "      <td>N</td>\n",
       "    </tr>\n",
       "    <tr>\n",
       "      <th>54</th>\n",
       "      <td>parkinsons</td>\n",
       "      <td>Multivariate</td>\n",
       "      <td>Regression</td>\n",
       "      <td>PPE</td>\n",
       "      <td>NaN</td>\n",
       "      <td>5875</td>\n",
       "      <td>22</td>\n",
       "      <td>N</td>\n",
       "    </tr>\n",
       "    <tr>\n",
       "      <th>55</th>\n",
       "      <td>traffic</td>\n",
       "      <td>Multivariate</td>\n",
       "      <td>Regression</td>\n",
       "      <td>traffic_volume</td>\n",
       "      <td>NaN</td>\n",
       "      <td>48204</td>\n",
       "      <td>8</td>\n",
       "      <td>N</td>\n",
       "    </tr>\n",
       "  </tbody>\n",
       "</table>\n",
       "</div>"
      ],
      "text/plain": [
       "                             Dataset    Data Types  \\\n",
       "0                            anomaly  Multivariate   \n",
       "1                             france  Multivariate   \n",
       "2                            germany  Multivariate   \n",
       "3                               bank  Multivariate   \n",
       "4                              blood  Multivariate   \n",
       "5                             cancer  Multivariate   \n",
       "6                             credit  Multivariate   \n",
       "7                           diabetes  Multivariate   \n",
       "8                    electrical_grid  Multivariate   \n",
       "9                           employee  Multivariate   \n",
       "10                             heart  Multivariate   \n",
       "11                     heart_disease  Multivariate   \n",
       "12                         hepatitis  Multivariate   \n",
       "13                            income  Multivariate   \n",
       "14                             juice  Multivariate   \n",
       "15                               nba  Multivariate   \n",
       "16                              wine  Multivariate   \n",
       "17                         telescope  Multivariate   \n",
       "18                           titanic  Multivariate   \n",
       "19  us_presidential_election_results  Multivariate   \n",
       "20                             glass  Multivariate   \n",
       "21                              iris  Multivariate   \n",
       "22                             poker  Multivariate   \n",
       "23                         questions  Multivariate   \n",
       "24                         satellite  Multivariate   \n",
       "25                               CTG  Multivariate   \n",
       "26                          asia_gdp  Multivariate   \n",
       "27                         elections  Multivariate   \n",
       "28                          facebook  Multivariate   \n",
       "29                               ipl  Multivariate   \n",
       "30                         jewellery  Multivariate   \n",
       "31                              mice  Multivariate   \n",
       "32                         migration  Multivariate   \n",
       "33                           perfume  Multivariate   \n",
       "34                           pokemon  Multivariate   \n",
       "35                        population  Multivariate   \n",
       "36                     public_health  Multivariate   \n",
       "37                             seeds  Multivariate   \n",
       "38                         wholesale  Multivariate   \n",
       "39                            tweets          Text   \n",
       "40                            amazon          Text   \n",
       "41                              kiva          Text   \n",
       "42                               spx          Text   \n",
       "43                         wikipedia          Text   \n",
       "44                        automobile  Multivariate   \n",
       "45                              bike  Multivariate   \n",
       "46                            boston  Multivariate   \n",
       "47                          concrete  Multivariate   \n",
       "48                           diamond  Multivariate   \n",
       "49                            energy  Multivariate   \n",
       "50                            forest  Multivariate   \n",
       "51                              gold  Multivariate   \n",
       "52                             house  Multivariate   \n",
       "53                         insurance  Multivariate   \n",
       "54                        parkinsons  Multivariate   \n",
       "55                           traffic  Multivariate   \n",
       "\n",
       "                   Default Task Target Variable 1 Target Variable 2  \\\n",
       "0             Anomaly Detection               NaN               NaN   \n",
       "1       Association Rule Mining         InvoiceNo       Description   \n",
       "2       Association Rule Mining         InvoiceNo       Description   \n",
       "3       Classification (Binary)           deposit               NaN   \n",
       "4       Classification (Binary)             Class               NaN   \n",
       "5       Classification (Binary)             Class               NaN   \n",
       "6       Classification (Binary)           default               NaN   \n",
       "7       Classification (Binary)    Class variable               NaN   \n",
       "8       Classification (Binary)             stabf               NaN   \n",
       "9       Classification (Binary)              left               NaN   \n",
       "10      Classification (Binary)             DEATH               NaN   \n",
       "11      Classification (Binary)           Disease               NaN   \n",
       "12      Classification (Binary)             Class               NaN   \n",
       "13      Classification (Binary)       income >50K               NaN   \n",
       "14      Classification (Binary)          Purchase               NaN   \n",
       "15      Classification (Binary)       TARGET_5Yrs               NaN   \n",
       "16      Classification (Binary)              type               NaN   \n",
       "17      Classification (Binary)             Class               NaN   \n",
       "18      Classification (Binary)          Survived               NaN   \n",
       "19      Classification (Binary)      party_winner               NaN   \n",
       "20  Classification (Multiclass)              Type               NaN   \n",
       "21  Classification (Multiclass)           species               NaN   \n",
       "22  Classification (Multiclass)             CLASS               NaN   \n",
       "23  Classification (Multiclass)     Next_Question               NaN   \n",
       "24  Classification (Multiclass)             Class               NaN   \n",
       "25  Classification (Multiclass)               NSP               NaN   \n",
       "26                   Clustering               NaN               NaN   \n",
       "27                   Clustering               NaN               NaN   \n",
       "28                   Clustering               NaN               NaN   \n",
       "29                   Clustering               NaN               NaN   \n",
       "30                   Clustering               NaN               NaN   \n",
       "31                   Clustering               NaN               NaN   \n",
       "32                   Clustering               NaN               NaN   \n",
       "33                   Clustering               NaN               NaN   \n",
       "34                   Clustering               NaN               NaN   \n",
       "35                   Clustering               NaN               NaN   \n",
       "36                   Clustering               NaN               NaN   \n",
       "37                   Clustering               NaN               NaN   \n",
       "38                   Clustering               NaN               NaN   \n",
       "39                          NLP             tweet               NaN   \n",
       "40         NLP / Classification        reviewText               NaN   \n",
       "41         NLP / Classification                en               NaN   \n",
       "42             NLP / Regression              text               NaN   \n",
       "43         NLP / Classification              Text               NaN   \n",
       "44                   Regression             price               NaN   \n",
       "45                   Regression               cnt               NaN   \n",
       "46                   Regression              medv               NaN   \n",
       "47                   Regression          strength               NaN   \n",
       "48                   Regression             Price               NaN   \n",
       "49                   Regression      Heating Load      Cooling Load   \n",
       "50                   Regression              area               NaN   \n",
       "51                   Regression         Gold_T+22               NaN   \n",
       "52                   Regression         SalePrice               NaN   \n",
       "53                   Regression           charges               NaN   \n",
       "54                   Regression               PPE               NaN   \n",
       "55                   Regression    traffic_volume               NaN   \n",
       "\n",
       "    # Instances  # Attributes Missing Values  \n",
       "0          1000            10              N  \n",
       "1          8557             8              N  \n",
       "2          9495             8              N  \n",
       "3         45211            17              N  \n",
       "4           748             5              N  \n",
       "5           683            10              N  \n",
       "6         24000            24              N  \n",
       "7           768             9              N  \n",
       "8         10000            14              N  \n",
       "9         14999            10              N  \n",
       "10          200            16              N  \n",
       "11          270            14              N  \n",
       "12          154            32              Y  \n",
       "13        32561            14              Y  \n",
       "14         1070            15              N  \n",
       "15         1340            21              N  \n",
       "16         6498            13              N  \n",
       "17        19020            11              N  \n",
       "18          891            11              Y  \n",
       "19          497             7              N  \n",
       "20          214            10              N  \n",
       "21          150             5              N  \n",
       "22       100000            11              N  \n",
       "23          499             4              N  \n",
       "24         6435            37              N  \n",
       "25         2129            40              Y  \n",
       "26           40            11              N  \n",
       "27         3195            54              Y  \n",
       "28         7050            12              N  \n",
       "29          153            25              N  \n",
       "30          505             4              N  \n",
       "31         1080            82              Y  \n",
       "32          233            12              N  \n",
       "33           20            29              N  \n",
       "34          800            13              Y  \n",
       "35          255            56              Y  \n",
       "36          224            21              N  \n",
       "37          210             7              N  \n",
       "38          440             8              N  \n",
       "39         8594             2              N  \n",
       "40        20000             2              N  \n",
       "41         6818             7              N  \n",
       "42          874             4              N  \n",
       "43          500             3              N  \n",
       "44          202            26              Y  \n",
       "45        17379            15              N  \n",
       "46          506            14              N  \n",
       "47         1030             9              N  \n",
       "48         6000             8              N  \n",
       "49          768            10              N  \n",
       "50          517            13              N  \n",
       "51         2558           121              N  \n",
       "52         1461            81              Y  \n",
       "53         1338             7              N  \n",
       "54         5875            22              N  \n",
       "55        48204             8              N  "
      ]
     },
     "metadata": {},
     "output_type": "display_data"
    }
   ],
   "source": [
    "from pycaret.datasets import get_data\n",
    "dataSets = get_data('index')"
   ]
  },
  {
   "cell_type": "code",
   "execution_count": 12,
   "id": "c8e6750a",
   "metadata": {},
   "outputs": [
    {
     "data": {
      "text/html": [
       "<div>\n",
       "<style scoped>\n",
       "    .dataframe tbody tr th:only-of-type {\n",
       "        vertical-align: middle;\n",
       "    }\n",
       "\n",
       "    .dataframe tbody tr th {\n",
       "        vertical-align: top;\n",
       "    }\n",
       "\n",
       "    .dataframe thead th {\n",
       "        text-align: right;\n",
       "    }\n",
       "</style>\n",
       "<table border=\"1\" class=\"dataframe\">\n",
       "  <thead>\n",
       "    <tr style=\"text-align: right;\">\n",
       "      <th></th>\n",
       "      <th>Age</th>\n",
       "      <th>Income</th>\n",
       "      <th>SpendingScore</th>\n",
       "      <th>Savings</th>\n",
       "    </tr>\n",
       "  </thead>\n",
       "  <tbody>\n",
       "    <tr>\n",
       "      <th>0</th>\n",
       "      <td>58</td>\n",
       "      <td>77769</td>\n",
       "      <td>0.791329</td>\n",
       "      <td>6559.829923</td>\n",
       "    </tr>\n",
       "    <tr>\n",
       "      <th>1</th>\n",
       "      <td>59</td>\n",
       "      <td>81799</td>\n",
       "      <td>0.791082</td>\n",
       "      <td>5417.661426</td>\n",
       "    </tr>\n",
       "    <tr>\n",
       "      <th>2</th>\n",
       "      <td>62</td>\n",
       "      <td>74751</td>\n",
       "      <td>0.702657</td>\n",
       "      <td>9258.992965</td>\n",
       "    </tr>\n",
       "    <tr>\n",
       "      <th>3</th>\n",
       "      <td>59</td>\n",
       "      <td>74373</td>\n",
       "      <td>0.765680</td>\n",
       "      <td>7346.334504</td>\n",
       "    </tr>\n",
       "    <tr>\n",
       "      <th>4</th>\n",
       "      <td>87</td>\n",
       "      <td>17760</td>\n",
       "      <td>0.348778</td>\n",
       "      <td>16869.507130</td>\n",
       "    </tr>\n",
       "  </tbody>\n",
       "</table>\n",
       "</div>"
      ],
      "text/plain": [
       "   Age  Income  SpendingScore       Savings\n",
       "0   58   77769       0.791329   6559.829923\n",
       "1   59   81799       0.791082   5417.661426\n",
       "2   62   74751       0.702657   9258.992965\n",
       "3   59   74373       0.765680   7346.334504\n",
       "4   87   17760       0.348778  16869.507130"
      ]
     },
     "metadata": {},
     "output_type": "display_data"
    }
   ],
   "source": [
    "jewelleryDataSet = get_data(\"jewellery\") \n",
    "jewelleryDataSet.to_csv(\"jewelleryDataSet.csv\")\n",
    "# SN is 30\n",
    "# This is unsupervised dataset.\n",
    "# No target is defined."
   ]
  },
  {
   "cell_type": "code",
   "execution_count": 13,
   "id": "ae97dbda",
   "metadata": {},
   "outputs": [
    {
     "data": {
      "text/html": [
       "<a href='jewelleryDataSet.csv' target='_blank'>jewelleryDataSet.csv</a><br>"
      ],
      "text/plain": [
       "C:\\Users\\pratham\\jewelleryDataSet.csv"
      ]
     },
     "execution_count": 13,
     "metadata": {},
     "output_type": "execute_result"
    }
   ],
   "source": [
    "from IPython.display import FileLink\n",
    "FileLink(\"jewelleryDataSet.csv\")"
   ]
  },
  {
   "cell_type": "code",
   "execution_count": 14,
   "id": "b494bc5e",
   "metadata": {},
   "outputs": [
    {
     "data": {
      "text/html": [
       "<style type=\"text/css\">\n",
       "#T_50fd0_row4_col1 {\n",
       "  background-color: lightgreen;\n",
       "}\n",
       "</style>\n",
       "<table id=\"T_50fd0\">\n",
       "  <thead>\n",
       "    <tr>\n",
       "      <th class=\"blank level0\" >&nbsp;</th>\n",
       "      <th id=\"T_50fd0_level0_col0\" class=\"col_heading level0 col0\" >Description</th>\n",
       "      <th id=\"T_50fd0_level0_col1\" class=\"col_heading level0 col1\" >Value</th>\n",
       "    </tr>\n",
       "  </thead>\n",
       "  <tbody>\n",
       "    <tr>\n",
       "      <th id=\"T_50fd0_level0_row0\" class=\"row_heading level0 row0\" >0</th>\n",
       "      <td id=\"T_50fd0_row0_col0\" class=\"data row0 col0\" >Session id</td>\n",
       "      <td id=\"T_50fd0_row0_col1\" class=\"data row0 col1\" >3675</td>\n",
       "    </tr>\n",
       "    <tr>\n",
       "      <th id=\"T_50fd0_level0_row1\" class=\"row_heading level0 row1\" >1</th>\n",
       "      <td id=\"T_50fd0_row1_col0\" class=\"data row1 col0\" >Original data shape</td>\n",
       "      <td id=\"T_50fd0_row1_col1\" class=\"data row1 col1\" >(505, 4)</td>\n",
       "    </tr>\n",
       "    <tr>\n",
       "      <th id=\"T_50fd0_level0_row2\" class=\"row_heading level0 row2\" >2</th>\n",
       "      <td id=\"T_50fd0_row2_col0\" class=\"data row2 col0\" >Transformed data shape</td>\n",
       "      <td id=\"T_50fd0_row2_col1\" class=\"data row2 col1\" >(505, 4)</td>\n",
       "    </tr>\n",
       "    <tr>\n",
       "      <th id=\"T_50fd0_level0_row3\" class=\"row_heading level0 row3\" >3</th>\n",
       "      <td id=\"T_50fd0_row3_col0\" class=\"data row3 col0\" >Numeric features</td>\n",
       "      <td id=\"T_50fd0_row3_col1\" class=\"data row3 col1\" >4</td>\n",
       "    </tr>\n",
       "    <tr>\n",
       "      <th id=\"T_50fd0_level0_row4\" class=\"row_heading level0 row4\" >4</th>\n",
       "      <td id=\"T_50fd0_row4_col0\" class=\"data row4 col0\" >Preprocess</td>\n",
       "      <td id=\"T_50fd0_row4_col1\" class=\"data row4 col1\" >True</td>\n",
       "    </tr>\n",
       "    <tr>\n",
       "      <th id=\"T_50fd0_level0_row5\" class=\"row_heading level0 row5\" >5</th>\n",
       "      <td id=\"T_50fd0_row5_col0\" class=\"data row5 col0\" >Imputation type</td>\n",
       "      <td id=\"T_50fd0_row5_col1\" class=\"data row5 col1\" >simple</td>\n",
       "    </tr>\n",
       "    <tr>\n",
       "      <th id=\"T_50fd0_level0_row6\" class=\"row_heading level0 row6\" >6</th>\n",
       "      <td id=\"T_50fd0_row6_col0\" class=\"data row6 col0\" >Numeric imputation</td>\n",
       "      <td id=\"T_50fd0_row6_col1\" class=\"data row6 col1\" >mean</td>\n",
       "    </tr>\n",
       "    <tr>\n",
       "      <th id=\"T_50fd0_level0_row7\" class=\"row_heading level0 row7\" >7</th>\n",
       "      <td id=\"T_50fd0_row7_col0\" class=\"data row7 col0\" >Categorical imputation</td>\n",
       "      <td id=\"T_50fd0_row7_col1\" class=\"data row7 col1\" >mode</td>\n",
       "    </tr>\n",
       "    <tr>\n",
       "      <th id=\"T_50fd0_level0_row8\" class=\"row_heading level0 row8\" >8</th>\n",
       "      <td id=\"T_50fd0_row8_col0\" class=\"data row8 col0\" >CPU Jobs</td>\n",
       "      <td id=\"T_50fd0_row8_col1\" class=\"data row8 col1\" >-1</td>\n",
       "    </tr>\n",
       "    <tr>\n",
       "      <th id=\"T_50fd0_level0_row9\" class=\"row_heading level0 row9\" >9</th>\n",
       "      <td id=\"T_50fd0_row9_col0\" class=\"data row9 col0\" >Use GPU</td>\n",
       "      <td id=\"T_50fd0_row9_col1\" class=\"data row9 col1\" >False</td>\n",
       "    </tr>\n",
       "    <tr>\n",
       "      <th id=\"T_50fd0_level0_row10\" class=\"row_heading level0 row10\" >10</th>\n",
       "      <td id=\"T_50fd0_row10_col0\" class=\"data row10 col0\" >Log Experiment</td>\n",
       "      <td id=\"T_50fd0_row10_col1\" class=\"data row10 col1\" >False</td>\n",
       "    </tr>\n",
       "    <tr>\n",
       "      <th id=\"T_50fd0_level0_row11\" class=\"row_heading level0 row11\" >11</th>\n",
       "      <td id=\"T_50fd0_row11_col0\" class=\"data row11 col0\" >Experiment Name</td>\n",
       "      <td id=\"T_50fd0_row11_col1\" class=\"data row11 col1\" >cluster-default-name</td>\n",
       "    </tr>\n",
       "    <tr>\n",
       "      <th id=\"T_50fd0_level0_row12\" class=\"row_heading level0 row12\" >12</th>\n",
       "      <td id=\"T_50fd0_row12_col0\" class=\"data row12 col0\" >USI</td>\n",
       "      <td id=\"T_50fd0_row12_col1\" class=\"data row12 col1\" >9087</td>\n",
       "    </tr>\n",
       "  </tbody>\n",
       "</table>\n"
      ],
      "text/plain": [
       "<pandas.io.formats.style.Styler at 0x1ea1333c190>"
      ]
     },
     "metadata": {},
     "output_type": "display_data"
    }
   ],
   "source": [
    "from pycaret.clustering import *\n",
    "kMeanClusteringParameters = setup(jewelleryDataSet)"
   ]
  },
  {
   "cell_type": "code",
   "execution_count": 15,
   "id": "06b549b8",
   "metadata": {},
   "outputs": [
    {
     "data": {
      "text/html": [],
      "text/plain": [
       "<IPython.core.display.HTML object>"
      ]
     },
     "metadata": {},
     "output_type": "display_data"
    },
    {
     "data": {
      "text/html": [
       "<style type=\"text/css\">\n",
       "</style>\n",
       "<table id=\"T_e1c82\">\n",
       "  <thead>\n",
       "    <tr>\n",
       "      <th class=\"blank level0\" >&nbsp;</th>\n",
       "      <th id=\"T_e1c82_level0_col0\" class=\"col_heading level0 col0\" >Silhouette</th>\n",
       "      <th id=\"T_e1c82_level0_col1\" class=\"col_heading level0 col1\" >Calinski-Harabasz</th>\n",
       "      <th id=\"T_e1c82_level0_col2\" class=\"col_heading level0 col2\" >Davies-Bouldin</th>\n",
       "      <th id=\"T_e1c82_level0_col3\" class=\"col_heading level0 col3\" >Homogeneity</th>\n",
       "      <th id=\"T_e1c82_level0_col4\" class=\"col_heading level0 col4\" >Rand Index</th>\n",
       "      <th id=\"T_e1c82_level0_col5\" class=\"col_heading level0 col5\" >Completeness</th>\n",
       "    </tr>\n",
       "  </thead>\n",
       "  <tbody>\n",
       "    <tr>\n",
       "      <th id=\"T_e1c82_level0_row0\" class=\"row_heading level0 row0\" >0</th>\n",
       "      <td id=\"T_e1c82_row0_col0\" class=\"data row0 col0\" >0.7207</td>\n",
       "      <td id=\"T_e1c82_row0_col1\" class=\"data row0 col1\" >5011.8115</td>\n",
       "      <td id=\"T_e1c82_row0_col2\" class=\"data row0 col2\" >0.4114</td>\n",
       "      <td id=\"T_e1c82_row0_col3\" class=\"data row0 col3\" >0</td>\n",
       "      <td id=\"T_e1c82_row0_col4\" class=\"data row0 col4\" >0</td>\n",
       "      <td id=\"T_e1c82_row0_col5\" class=\"data row0 col5\" >0</td>\n",
       "    </tr>\n",
       "  </tbody>\n",
       "</table>\n"
      ],
      "text/plain": [
       "<pandas.io.formats.style.Styler at 0x1ea174bca50>"
      ]
     },
     "metadata": {},
     "output_type": "display_data"
    },
    {
     "data": {
      "text/html": [],
      "text/plain": [
       "<IPython.core.display.HTML object>"
      ]
     },
     "metadata": {},
     "output_type": "display_data"
    }
   ],
   "source": [
    "KMeanClusteringModel = create_model('kmeans', num_clusters=4)"
   ]
  },
  {
   "cell_type": "code",
   "execution_count": 16,
   "id": "dcdf49e0",
   "metadata": {},
   "outputs": [
    {
     "data": {
      "text/html": [],
      "text/plain": [
       "<IPython.core.display.HTML object>"
      ]
     },
     "metadata": {},
     "output_type": "display_data"
    },
    {
     "data": {
      "text/html": [
       "<style type=\"text/css\">\n",
       "</style>\n",
       "<table id=\"T_44245\">\n",
       "  <thead>\n",
       "    <tr>\n",
       "      <th class=\"blank level0\" >&nbsp;</th>\n",
       "      <th id=\"T_44245_level0_col0\" class=\"col_heading level0 col0\" >Silhouette</th>\n",
       "      <th id=\"T_44245_level0_col1\" class=\"col_heading level0 col1\" >Calinski-Harabasz</th>\n",
       "      <th id=\"T_44245_level0_col2\" class=\"col_heading level0 col2\" >Davies-Bouldin</th>\n",
       "      <th id=\"T_44245_level0_col3\" class=\"col_heading level0 col3\" >Homogeneity</th>\n",
       "      <th id=\"T_44245_level0_col4\" class=\"col_heading level0 col4\" >Rand Index</th>\n",
       "      <th id=\"T_44245_level0_col5\" class=\"col_heading level0 col5\" >Completeness</th>\n",
       "    </tr>\n",
       "  </thead>\n",
       "  <tbody>\n",
       "    <tr>\n",
       "      <th id=\"T_44245_level0_row0\" class=\"row_heading level0 row0\" >0</th>\n",
       "      <td id=\"T_44245_row0_col0\" class=\"data row0 col0\" >0.5849</td>\n",
       "      <td id=\"T_44245_row0_col1\" class=\"data row0 col1\" >1199.4251</td>\n",
       "      <td id=\"T_44245_row0_col2\" class=\"data row0 col2\" >0.5745</td>\n",
       "      <td id=\"T_44245_row0_col3\" class=\"data row0 col3\" >0</td>\n",
       "      <td id=\"T_44245_row0_col4\" class=\"data row0 col4\" >0</td>\n",
       "      <td id=\"T_44245_row0_col5\" class=\"data row0 col5\" >0</td>\n",
       "    </tr>\n",
       "  </tbody>\n",
       "</table>\n"
      ],
      "text/plain": [
       "<pandas.io.formats.style.Styler at 0x1ea174518d0>"
      ]
     },
     "metadata": {},
     "output_type": "display_data"
    },
    {
     "data": {
      "text/html": [],
      "text/plain": [
       "<IPython.core.display.HTML object>"
      ]
     },
     "metadata": {},
     "output_type": "display_data"
    }
   ],
   "source": [
    "KMeanClusteringModel = create_model('kmeans', num_clusters=2)"
   ]
  },
  {
   "cell_type": "code",
   "execution_count": 17,
   "id": "7e864f39",
   "metadata": {},
   "outputs": [
    {
     "data": {
      "text/html": [],
      "text/plain": [
       "<IPython.core.display.HTML object>"
      ]
     },
     "metadata": {},
     "output_type": "display_data"
    },
    {
     "data": {
      "text/html": [
       "<style type=\"text/css\">\n",
       "</style>\n",
       "<table id=\"T_481c3\">\n",
       "  <thead>\n",
       "    <tr>\n",
       "      <th class=\"blank level0\" >&nbsp;</th>\n",
       "      <th id=\"T_481c3_level0_col0\" class=\"col_heading level0 col0\" >Silhouette</th>\n",
       "      <th id=\"T_481c3_level0_col1\" class=\"col_heading level0 col1\" >Calinski-Harabasz</th>\n",
       "      <th id=\"T_481c3_level0_col2\" class=\"col_heading level0 col2\" >Davies-Bouldin</th>\n",
       "      <th id=\"T_481c3_level0_col3\" class=\"col_heading level0 col3\" >Homogeneity</th>\n",
       "      <th id=\"T_481c3_level0_col4\" class=\"col_heading level0 col4\" >Rand Index</th>\n",
       "      <th id=\"T_481c3_level0_col5\" class=\"col_heading level0 col5\" >Completeness</th>\n",
       "    </tr>\n",
       "  </thead>\n",
       "  <tbody>\n",
       "    <tr>\n",
       "      <th id=\"T_481c3_level0_row0\" class=\"row_heading level0 row0\" >0</th>\n",
       "      <td id=\"T_481c3_row0_col0\" class=\"data row0 col0\" >0.6377</td>\n",
       "      <td id=\"T_481c3_row0_col1\" class=\"data row0 col1\" >4632.2753</td>\n",
       "      <td id=\"T_481c3_row0_col2\" class=\"data row0 col2\" >0.5179</td>\n",
       "      <td id=\"T_481c3_row0_col3\" class=\"data row0 col3\" >0</td>\n",
       "      <td id=\"T_481c3_row0_col4\" class=\"data row0 col4\" >0</td>\n",
       "      <td id=\"T_481c3_row0_col5\" class=\"data row0 col5\" >0</td>\n",
       "    </tr>\n",
       "  </tbody>\n",
       "</table>\n"
      ],
      "text/plain": [
       "<pandas.io.formats.style.Styler at 0x1ea174518d0>"
      ]
     },
     "metadata": {},
     "output_type": "display_data"
    },
    {
     "data": {
      "text/html": [],
      "text/plain": [
       "<IPython.core.display.HTML object>"
      ]
     },
     "metadata": {},
     "output_type": "display_data"
    }
   ],
   "source": [
    "KMeanClusteringModel = create_model('kmeans', num_clusters=5)"
   ]
  },
  {
   "cell_type": "code",
   "execution_count": 18,
   "id": "6f35e01c",
   "metadata": {},
   "outputs": [
    {
     "data": {
      "text/html": [],
      "text/plain": [
       "<IPython.core.display.HTML object>"
      ]
     },
     "metadata": {},
     "output_type": "display_data"
    },
    {
     "data": {
      "text/html": [
       "<style type=\"text/css\">\n",
       "</style>\n",
       "<table id=\"T_c1ff0\">\n",
       "  <thead>\n",
       "    <tr>\n",
       "      <th class=\"blank level0\" >&nbsp;</th>\n",
       "      <th id=\"T_c1ff0_level0_col0\" class=\"col_heading level0 col0\" >Silhouette</th>\n",
       "      <th id=\"T_c1ff0_level0_col1\" class=\"col_heading level0 col1\" >Calinski-Harabasz</th>\n",
       "      <th id=\"T_c1ff0_level0_col2\" class=\"col_heading level0 col2\" >Davies-Bouldin</th>\n",
       "      <th id=\"T_c1ff0_level0_col3\" class=\"col_heading level0 col3\" >Homogeneity</th>\n",
       "      <th id=\"T_c1ff0_level0_col4\" class=\"col_heading level0 col4\" >Rand Index</th>\n",
       "      <th id=\"T_c1ff0_level0_col5\" class=\"col_heading level0 col5\" >Completeness</th>\n",
       "    </tr>\n",
       "  </thead>\n",
       "  <tbody>\n",
       "    <tr>\n",
       "      <th id=\"T_c1ff0_level0_row0\" class=\"row_heading level0 row0\" >0</th>\n",
       "      <td id=\"T_c1ff0_row0_col0\" class=\"data row0 col0\" >0.7393</td>\n",
       "      <td id=\"T_c1ff0_row0_col1\" class=\"data row0 col1\" >3567.5370</td>\n",
       "      <td id=\"T_c1ff0_row0_col2\" class=\"data row0 col2\" >0.3435</td>\n",
       "      <td id=\"T_c1ff0_row0_col3\" class=\"data row0 col3\" >0</td>\n",
       "      <td id=\"T_c1ff0_row0_col4\" class=\"data row0 col4\" >0</td>\n",
       "      <td id=\"T_c1ff0_row0_col5\" class=\"data row0 col5\" >0</td>\n",
       "    </tr>\n",
       "  </tbody>\n",
       "</table>\n"
      ],
      "text/plain": [
       "<pandas.io.formats.style.Styler at 0x1ea174ccb50>"
      ]
     },
     "metadata": {},
     "output_type": "display_data"
    },
    {
     "data": {
      "text/html": [],
      "text/plain": [
       "<IPython.core.display.HTML object>"
      ]
     },
     "metadata": {},
     "output_type": "display_data"
    }
   ],
   "source": [
    "KMeanClusteringModel = create_model('kmeans', num_clusters=3)"
   ]
  },
  {
   "cell_type": "code",
   "execution_count": 19,
   "id": "bd453657",
   "metadata": {},
   "outputs": [
    {
     "data": {
      "text/html": [],
      "text/plain": [
       "<IPython.core.display.HTML object>"
      ]
     },
     "metadata": {},
     "output_type": "display_data"
    },
    {
     "data": {
      "text/html": [
       "<style type=\"text/css\">\n",
       "</style>\n",
       "<table id=\"T_adc5b\">\n",
       "  <thead>\n",
       "    <tr>\n",
       "      <th class=\"blank level0\" >&nbsp;</th>\n",
       "      <th id=\"T_adc5b_level0_col0\" class=\"col_heading level0 col0\" >Silhouette</th>\n",
       "      <th id=\"T_adc5b_level0_col1\" class=\"col_heading level0 col1\" >Calinski-Harabasz</th>\n",
       "      <th id=\"T_adc5b_level0_col2\" class=\"col_heading level0 col2\" >Davies-Bouldin</th>\n",
       "      <th id=\"T_adc5b_level0_col3\" class=\"col_heading level0 col3\" >Homogeneity</th>\n",
       "      <th id=\"T_adc5b_level0_col4\" class=\"col_heading level0 col4\" >Rand Index</th>\n",
       "      <th id=\"T_adc5b_level0_col5\" class=\"col_heading level0 col5\" >Completeness</th>\n",
       "    </tr>\n",
       "  </thead>\n",
       "  <tbody>\n",
       "    <tr>\n",
       "      <th id=\"T_adc5b_level0_row0\" class=\"row_heading level0 row0\" >0</th>\n",
       "      <td id=\"T_adc5b_row0_col0\" class=\"data row0 col0\" >0.6061</td>\n",
       "      <td id=\"T_adc5b_row0_col1\" class=\"data row0 col1\" >4780.0826</td>\n",
       "      <td id=\"T_adc5b_row0_col2\" class=\"data row0 col2\" >0.5416</td>\n",
       "      <td id=\"T_adc5b_row0_col3\" class=\"data row0 col3\" >0</td>\n",
       "      <td id=\"T_adc5b_row0_col4\" class=\"data row0 col4\" >0</td>\n",
       "      <td id=\"T_adc5b_row0_col5\" class=\"data row0 col5\" >0</td>\n",
       "    </tr>\n",
       "  </tbody>\n",
       "</table>\n"
      ],
      "text/plain": [
       "<pandas.io.formats.style.Styler at 0x1ea17cefa50>"
      ]
     },
     "metadata": {},
     "output_type": "display_data"
    },
    {
     "data": {
      "text/html": [],
      "text/plain": [
       "<IPython.core.display.HTML object>"
      ]
     },
     "metadata": {},
     "output_type": "display_data"
    }
   ],
   "source": [
    "KMeanClusteringModel = create_model('kmeans', num_clusters=6)"
   ]
  },
  {
   "cell_type": "code",
   "execution_count": 20,
   "id": "a7ba32dd",
   "metadata": {},
   "outputs": [
    {
     "data": {
      "text/html": [
       "<div>\n",
       "<style scoped>\n",
       "    .dataframe tbody tr th:only-of-type {\n",
       "        vertical-align: middle;\n",
       "    }\n",
       "\n",
       "    .dataframe tbody tr th {\n",
       "        vertical-align: top;\n",
       "    }\n",
       "\n",
       "    .dataframe thead th {\n",
       "        text-align: right;\n",
       "    }\n",
       "</style>\n",
       "<table border=\"1\" class=\"dataframe\">\n",
       "  <thead>\n",
       "    <tr style=\"text-align: right;\">\n",
       "      <th></th>\n",
       "      <th>Age</th>\n",
       "      <th>Income</th>\n",
       "      <th>SpendingScore</th>\n",
       "      <th>Savings</th>\n",
       "      <th>Cluster</th>\n",
       "    </tr>\n",
       "  </thead>\n",
       "  <tbody>\n",
       "    <tr>\n",
       "      <th>0</th>\n",
       "      <td>58</td>\n",
       "      <td>77769</td>\n",
       "      <td>0.791329</td>\n",
       "      <td>6559.830078</td>\n",
       "      <td>Cluster 2</td>\n",
       "    </tr>\n",
       "    <tr>\n",
       "      <th>1</th>\n",
       "      <td>59</td>\n",
       "      <td>81799</td>\n",
       "      <td>0.791082</td>\n",
       "      <td>5417.661621</td>\n",
       "      <td>Cluster 2</td>\n",
       "    </tr>\n",
       "    <tr>\n",
       "      <th>2</th>\n",
       "      <td>62</td>\n",
       "      <td>74751</td>\n",
       "      <td>0.702657</td>\n",
       "      <td>9258.993164</td>\n",
       "      <td>Cluster 2</td>\n",
       "    </tr>\n",
       "    <tr>\n",
       "      <th>3</th>\n",
       "      <td>59</td>\n",
       "      <td>74373</td>\n",
       "      <td>0.765680</td>\n",
       "      <td>7346.334473</td>\n",
       "      <td>Cluster 2</td>\n",
       "    </tr>\n",
       "    <tr>\n",
       "      <th>4</th>\n",
       "      <td>87</td>\n",
       "      <td>17760</td>\n",
       "      <td>0.348778</td>\n",
       "      <td>16869.507812</td>\n",
       "      <td>Cluster 0</td>\n",
       "    </tr>\n",
       "    <tr>\n",
       "      <th>...</th>\n",
       "      <td>...</td>\n",
       "      <td>...</td>\n",
       "      <td>...</td>\n",
       "      <td>...</td>\n",
       "      <td>...</td>\n",
       "    </tr>\n",
       "    <tr>\n",
       "      <th>500</th>\n",
       "      <td>28</td>\n",
       "      <td>101206</td>\n",
       "      <td>0.387441</td>\n",
       "      <td>14936.775391</td>\n",
       "      <td>Cluster 3</td>\n",
       "    </tr>\n",
       "    <tr>\n",
       "      <th>501</th>\n",
       "      <td>93</td>\n",
       "      <td>19934</td>\n",
       "      <td>0.203140</td>\n",
       "      <td>17969.693359</td>\n",
       "      <td>Cluster 0</td>\n",
       "    </tr>\n",
       "    <tr>\n",
       "      <th>502</th>\n",
       "      <td>90</td>\n",
       "      <td>35297</td>\n",
       "      <td>0.355149</td>\n",
       "      <td>16091.402344</td>\n",
       "      <td>Cluster 0</td>\n",
       "    </tr>\n",
       "    <tr>\n",
       "      <th>503</th>\n",
       "      <td>91</td>\n",
       "      <td>20681</td>\n",
       "      <td>0.354679</td>\n",
       "      <td>18401.087891</td>\n",
       "      <td>Cluster 0</td>\n",
       "    </tr>\n",
       "    <tr>\n",
       "      <th>504</th>\n",
       "      <td>89</td>\n",
       "      <td>30267</td>\n",
       "      <td>0.289310</td>\n",
       "      <td>14386.351562</td>\n",
       "      <td>Cluster 0</td>\n",
       "    </tr>\n",
       "  </tbody>\n",
       "</table>\n",
       "<p>505 rows × 5 columns</p>\n",
       "</div>"
      ],
      "text/plain": [
       "     Age  Income  SpendingScore       Savings    Cluster\n",
       "0     58   77769       0.791329   6559.830078  Cluster 2\n",
       "1     59   81799       0.791082   5417.661621  Cluster 2\n",
       "2     62   74751       0.702657   9258.993164  Cluster 2\n",
       "3     59   74373       0.765680   7346.334473  Cluster 2\n",
       "4     87   17760       0.348778  16869.507812  Cluster 0\n",
       "..   ...     ...            ...           ...        ...\n",
       "500   28  101206       0.387441  14936.775391  Cluster 3\n",
       "501   93   19934       0.203140  17969.693359  Cluster 0\n",
       "502   90   35297       0.355149  16091.402344  Cluster 0\n",
       "503   91   20681       0.354679  18401.087891  Cluster 0\n",
       "504   89   30267       0.289310  14386.351562  Cluster 0\n",
       "\n",
       "[505 rows x 5 columns]"
      ]
     },
     "execution_count": 20,
     "metadata": {},
     "output_type": "execute_result"
    }
   ],
   "source": [
    "kMeanPrediction = assign_model(KMeanClusteringModel)\n",
    "kMeanPrediction"
   ]
  },
  {
   "cell_type": "code",
   "execution_count": 22,
   "id": "0c66e9f6",
   "metadata": {},
   "outputs": [
    {
     "data": {
      "text/html": [
       "<a href='kMeansResult.csv' target='_blank'>kMeansResult.csv</a><br>"
      ],
      "text/plain": [
       "C:\\Users\\pratham\\kMeansResult.csv"
      ]
     },
     "execution_count": 22,
     "metadata": {},
     "output_type": "execute_result"
    }
   ],
   "source": [
    "kMeanPrediction.to_csv(\"kMeansResult.csv\")\n",
    "from IPython.display import FileLink\n",
    "FileLink(\"kMeansResult.csv\")"
   ]
  },
  {
   "cell_type": "code",
   "execution_count": 23,
   "id": "20f21c8b",
   "metadata": {},
   "outputs": [
    {
     "name": "stdout",
     "output_type": "stream",
     "text": [
      "Transformation Pipeline and Model Successfully Saved\n"
     ]
    }
   ],
   "source": [
    "x = save_model(KMeanClusteringModel, 'kMeanClusteringModelFile')"
   ]
  },
  {
   "cell_type": "code",
   "execution_count": 24,
   "id": "830007ed",
   "metadata": {},
   "outputs": [
    {
     "data": {
      "text/html": [
       "<a href='kMeanClusteringModelFile.pkl' target='_blank'>kMeanClusteringModelFile.pkl</a><br>"
      ],
      "text/plain": [
       "C:\\Users\\pratham\\kMeanClusteringModelFile.pkl"
      ]
     },
     "execution_count": 24,
     "metadata": {},
     "output_type": "execute_result"
    }
   ],
   "source": [
    "from IPython.display import FileLink\n",
    "FileLink('kMeanClusteringModelFile.pkl')"
   ]
  },
  {
   "cell_type": "code",
   "execution_count": 25,
   "id": "1c767d22",
   "metadata": {},
   "outputs": [
    {
     "name": "stdout",
     "output_type": "stream",
     "text": [
      "Transformation Pipeline and Model Successfully Loaded\n"
     ]
    }
   ],
   "source": [
    "KMeanClusteringModel = load_model('kMeanClusteringModelFile')"
   ]
  },
  {
   "cell_type": "code",
   "execution_count": 26,
   "id": "b7b88bce",
   "metadata": {},
   "outputs": [
    {
     "data": {
      "text/html": [
       "<div>\n",
       "<style scoped>\n",
       "    .dataframe tbody tr th:only-of-type {\n",
       "        vertical-align: middle;\n",
       "    }\n",
       "\n",
       "    .dataframe tbody tr th {\n",
       "        vertical-align: top;\n",
       "    }\n",
       "\n",
       "    .dataframe thead th {\n",
       "        text-align: right;\n",
       "    }\n",
       "</style>\n",
       "<table border=\"1\" class=\"dataframe\">\n",
       "  <thead>\n",
       "    <tr style=\"text-align: right;\">\n",
       "      <th></th>\n",
       "      <th>Age</th>\n",
       "      <th>Income</th>\n",
       "      <th>SpendingScore</th>\n",
       "      <th>Savings</th>\n",
       "    </tr>\n",
       "  </thead>\n",
       "  <tbody>\n",
       "    <tr>\n",
       "      <th>0</th>\n",
       "      <td>58</td>\n",
       "      <td>77769</td>\n",
       "      <td>0.791329</td>\n",
       "      <td>6559.829923</td>\n",
       "    </tr>\n",
       "    <tr>\n",
       "      <th>1</th>\n",
       "      <td>59</td>\n",
       "      <td>81799</td>\n",
       "      <td>0.791082</td>\n",
       "      <td>5417.661426</td>\n",
       "    </tr>\n",
       "    <tr>\n",
       "      <th>2</th>\n",
       "      <td>62</td>\n",
       "      <td>74751</td>\n",
       "      <td>0.702657</td>\n",
       "      <td>9258.992965</td>\n",
       "    </tr>\n",
       "    <tr>\n",
       "      <th>3</th>\n",
       "      <td>59</td>\n",
       "      <td>74373</td>\n",
       "      <td>0.765680</td>\n",
       "      <td>7346.334504</td>\n",
       "    </tr>\n",
       "    <tr>\n",
       "      <th>4</th>\n",
       "      <td>87</td>\n",
       "      <td>17760</td>\n",
       "      <td>0.348778</td>\n",
       "      <td>16869.507130</td>\n",
       "    </tr>\n",
       "  </tbody>\n",
       "</table>\n",
       "</div>"
      ],
      "text/plain": [
       "   Age  Income  SpendingScore       Savings\n",
       "0   58   77769       0.791329   6559.829923\n",
       "1   59   81799       0.791082   5417.661426\n",
       "2   62   74751       0.702657   9258.992965\n",
       "3   59   74373       0.765680   7346.334504\n",
       "4   87   17760       0.348778  16869.507130"
      ]
     },
     "metadata": {},
     "output_type": "display_data"
    }
   ],
   "source": [
    "# Cluster the new dataset \n",
    "# Select top 10 rows\n",
    "newData = get_data(\"jewellery\").iloc[:10]\n"
   ]
  },
  {
   "cell_type": "code",
   "execution_count": 27,
   "id": "060f6ad4",
   "metadata": {},
   "outputs": [
    {
     "data": {
      "text/html": [
       "<div>\n",
       "<style scoped>\n",
       "    .dataframe tbody tr th:only-of-type {\n",
       "        vertical-align: middle;\n",
       "    }\n",
       "\n",
       "    .dataframe tbody tr th {\n",
       "        vertical-align: top;\n",
       "    }\n",
       "\n",
       "    .dataframe thead th {\n",
       "        text-align: right;\n",
       "    }\n",
       "</style>\n",
       "<table border=\"1\" class=\"dataframe\">\n",
       "  <thead>\n",
       "    <tr style=\"text-align: right;\">\n",
       "      <th></th>\n",
       "      <th>Age</th>\n",
       "      <th>Income</th>\n",
       "      <th>SpendingScore</th>\n",
       "      <th>Savings</th>\n",
       "      <th>Cluster</th>\n",
       "    </tr>\n",
       "  </thead>\n",
       "  <tbody>\n",
       "    <tr>\n",
       "      <th>0</th>\n",
       "      <td>58</td>\n",
       "      <td>77769</td>\n",
       "      <td>0.791329</td>\n",
       "      <td>6559.830078</td>\n",
       "      <td>Cluster 2</td>\n",
       "    </tr>\n",
       "    <tr>\n",
       "      <th>1</th>\n",
       "      <td>59</td>\n",
       "      <td>81799</td>\n",
       "      <td>0.791082</td>\n",
       "      <td>5417.661621</td>\n",
       "      <td>Cluster 2</td>\n",
       "    </tr>\n",
       "    <tr>\n",
       "      <th>2</th>\n",
       "      <td>62</td>\n",
       "      <td>74751</td>\n",
       "      <td>0.702657</td>\n",
       "      <td>9258.993164</td>\n",
       "      <td>Cluster 2</td>\n",
       "    </tr>\n",
       "    <tr>\n",
       "      <th>3</th>\n",
       "      <td>59</td>\n",
       "      <td>74373</td>\n",
       "      <td>0.765680</td>\n",
       "      <td>7346.334473</td>\n",
       "      <td>Cluster 2</td>\n",
       "    </tr>\n",
       "    <tr>\n",
       "      <th>4</th>\n",
       "      <td>87</td>\n",
       "      <td>17760</td>\n",
       "      <td>0.348778</td>\n",
       "      <td>16869.507812</td>\n",
       "      <td>Cluster 0</td>\n",
       "    </tr>\n",
       "    <tr>\n",
       "      <th>5</th>\n",
       "      <td>29</td>\n",
       "      <td>131578</td>\n",
       "      <td>0.847034</td>\n",
       "      <td>3535.514404</td>\n",
       "      <td>Cluster 1</td>\n",
       "    </tr>\n",
       "    <tr>\n",
       "      <th>6</th>\n",
       "      <td>54</td>\n",
       "      <td>76500</td>\n",
       "      <td>0.785198</td>\n",
       "      <td>6878.884277</td>\n",
       "      <td>Cluster 2</td>\n",
       "    </tr>\n",
       "    <tr>\n",
       "      <th>7</th>\n",
       "      <td>87</td>\n",
       "      <td>42592</td>\n",
       "      <td>0.355290</td>\n",
       "      <td>18086.287109</td>\n",
       "      <td>Cluster 0</td>\n",
       "    </tr>\n",
       "    <tr>\n",
       "      <th>8</th>\n",
       "      <td>83</td>\n",
       "      <td>34384</td>\n",
       "      <td>0.324719</td>\n",
       "      <td>14783.378906</td>\n",
       "      <td>Cluster 0</td>\n",
       "    </tr>\n",
       "    <tr>\n",
       "      <th>9</th>\n",
       "      <td>84</td>\n",
       "      <td>27693</td>\n",
       "      <td>0.367063</td>\n",
       "      <td>17879.558594</td>\n",
       "      <td>Cluster 0</td>\n",
       "    </tr>\n",
       "  </tbody>\n",
       "</table>\n",
       "</div>"
      ],
      "text/plain": [
       "   Age  Income  SpendingScore       Savings    Cluster\n",
       "0   58   77769       0.791329   6559.830078  Cluster 2\n",
       "1   59   81799       0.791082   5417.661621  Cluster 2\n",
       "2   62   74751       0.702657   9258.993164  Cluster 2\n",
       "3   59   74373       0.765680   7346.334473  Cluster 2\n",
       "4   87   17760       0.348778  16869.507812  Cluster 0\n",
       "5   29  131578       0.847034   3535.514404  Cluster 1\n",
       "6   54   76500       0.785198   6878.884277  Cluster 2\n",
       "7   87   42592       0.355290  18086.287109  Cluster 0\n",
       "8   83   34384       0.324719  14783.378906  Cluster 0\n",
       "9   84   27693       0.367063  17879.558594  Cluster 0"
      ]
     },
     "execution_count": 27,
     "metadata": {},
     "output_type": "execute_result"
    }
   ],
   "source": [
    "newPredictions = predict_model(KMeanClusteringModel, data = newData)\n",
    "newPredictions"
   ]
  },
  {
   "cell_type": "code",
   "execution_count": 28,
   "id": "73d22b71",
   "metadata": {},
   "outputs": [
    {
     "name": "stdout",
     "output_type": "stream",
     "text": [
      "Result file save sucessfully!!\n"
     ]
    }
   ],
   "source": [
    "newPredictions.to_csv(\"NewPredictions.csv\")\n",
    "print(\"Result file save sucessfully!!\")"
   ]
  },
  {
   "cell_type": "code",
   "execution_count": 29,
   "id": "39b22121",
   "metadata": {},
   "outputs": [
    {
     "data": {
      "text/html": [
       "<a href='NewPredictions.csv' target='_blank'>NewPredictions.csv</a><br>"
      ],
      "text/plain": [
       "C:\\Users\\pratham\\NewPredictions.csv"
      ]
     },
     "execution_count": 29,
     "metadata": {},
     "output_type": "execute_result"
    }
   ],
   "source": [
    "from IPython.display import FileLink\n",
    "FileLink(\"NewPredictions.csv\")"
   ]
  },
  {
   "cell_type": "code",
   "execution_count": 30,
   "id": "246401b9",
   "metadata": {},
   "outputs": [
    {
     "data": {
      "application/vnd.jupyter.widget-view+json": {
       "model_id": "ae84f9c565a9430b863f5e65fdde1421",
       "version_major": 2,
       "version_minor": 0
      },
      "text/plain": [
       "interactive(children=(ToggleButtons(description='Plot Type:', icons=('',), options=(('Pipeline Plot', 'pipelin…"
      ]
     },
     "metadata": {},
     "output_type": "display_data"
    }
   ],
   "source": [
    "evaluate_model(KMeanClusteringModel)"
   ]
  },
  {
   "cell_type": "code",
   "execution_count": 31,
   "id": "b00f5bdd",
   "metadata": {},
   "outputs": [
    {
     "data": {
      "text/html": [],
      "text/plain": [
       "<IPython.core.display.HTML object>"
      ]
     },
     "metadata": {},
     "output_type": "display_data"
    },
    {
     "data": {
      "image/png": "[encoded data removed]",
      "text/plain": [
       "<Figure size 800x550 with 1 Axes>"
      ]
     },
     "metadata": {},
     "output_type": "display_data"
    }
   ],
   "source": [
    "plot_model(KMeanClusteringModel, plot = 'elbow')"
   ]
  },
  {
   "cell_type": "code",
   "execution_count": 32,
   "id": "017c207e",
   "metadata": {},
   "outputs": [
    {
     "data": {
      "text/html": [],
      "text/plain": [
       "<IPython.core.display.HTML object>"
      ]
     },
     "metadata": {},
     "output_type": "display_data"
    },
    {
     "data": {
      "image/png": "[encoded data removed]",
      "text/plain": [
       "<Figure size 800x550 with 1 Axes>"
      ]
     },
     "metadata": {},
     "output_type": "display_data"
    }
   ],
   "source": [
    "plot_model(KMeanClusteringModel, plot = 'silhouette')"
   ]
  },
  {
   "cell_type": "code",
   "execution_count": 33,
   "id": "6e79993f",
   "metadata": {},
   "outputs": [
    {
     "data": {
      "text/html": [],
      "text/plain": [
       "<IPython.core.display.HTML object>"
      ]
     },
     "metadata": {},
     "output_type": "display_data"
    },
    {
     "data": {
      "image/png": "[encoded data removed]",
      "text/plain": [
       "<Figure size 800x550 with 2 Axes>"
      ]
     },
     "metadata": {},
     "output_type": "display_data"
    }
   ],
   "source": [
    "plot_model(KMeanClusteringModel, plot = 'distance') # Rerun the code"
   ]
  },
  {
   "cell_type": "code",
   "execution_count": 34,
   "id": "b91e2936",
   "metadata": {},
   "outputs": [
    {
     "name": "stdout",
     "output_type": "stream",
     "text": [
      "For Cluster = 3\n"
     ]
    },
    {
     "data": {
      "text/html": [],
      "text/plain": [
       "<IPython.core.display.HTML object>"
      ]
     },
     "metadata": {},
     "output_type": "display_data"
    },
    {
     "data": {
      "text/html": [
       "<style type=\"text/css\">\n",
       "</style>\n",
       "<table id=\"T_f2720\">\n",
       "  <thead>\n",
       "    <tr>\n",
       "      <th class=\"blank level0\" >&nbsp;</th>\n",
       "      <th id=\"T_f2720_level0_col0\" class=\"col_heading level0 col0\" >Silhouette</th>\n",
       "      <th id=\"T_f2720_level0_col1\" class=\"col_heading level0 col1\" >Calinski-Harabasz</th>\n",
       "      <th id=\"T_f2720_level0_col2\" class=\"col_heading level0 col2\" >Davies-Bouldin</th>\n",
       "      <th id=\"T_f2720_level0_col3\" class=\"col_heading level0 col3\" >Homogeneity</th>\n",
       "      <th id=\"T_f2720_level0_col4\" class=\"col_heading level0 col4\" >Rand Index</th>\n",
       "      <th id=\"T_f2720_level0_col5\" class=\"col_heading level0 col5\" >Completeness</th>\n",
       "    </tr>\n",
       "  </thead>\n",
       "  <tbody>\n",
       "    <tr>\n",
       "      <th id=\"T_f2720_level0_row0\" class=\"row_heading level0 row0\" >0</th>\n",
       "      <td id=\"T_f2720_row0_col0\" class=\"data row0 col0\" >0.7393</td>\n",
       "      <td id=\"T_f2720_row0_col1\" class=\"data row0 col1\" >3567.5370</td>\n",
       "      <td id=\"T_f2720_row0_col2\" class=\"data row0 col2\" >0.3435</td>\n",
       "      <td id=\"T_f2720_row0_col3\" class=\"data row0 col3\" >0</td>\n",
       "      <td id=\"T_f2720_row0_col4\" class=\"data row0 col4\" >0</td>\n",
       "      <td id=\"T_f2720_row0_col5\" class=\"data row0 col5\" >0</td>\n",
       "    </tr>\n",
       "  </tbody>\n",
       "</table>\n"
      ],
      "text/plain": [
       "<pandas.io.formats.style.Styler at 0x1ea1cfd98d0>"
      ]
     },
     "metadata": {},
     "output_type": "display_data"
    },
    {
     "data": {
      "text/html": [],
      "text/plain": [
       "<IPython.core.display.HTML object>"
      ]
     },
     "metadata": {},
     "output_type": "display_data"
    },
    {
     "name": "stdout",
     "output_type": "stream",
     "text": [
      "For Cluster = 4\n"
     ]
    },
    {
     "data": {
      "text/html": [],
      "text/plain": [
       "<IPython.core.display.HTML object>"
      ]
     },
     "metadata": {},
     "output_type": "display_data"
    },
    {
     "data": {
      "text/html": [
       "<style type=\"text/css\">\n",
       "</style>\n",
       "<table id=\"T_588f2\">\n",
       "  <thead>\n",
       "    <tr>\n",
       "      <th class=\"blank level0\" >&nbsp;</th>\n",
       "      <th id=\"T_588f2_level0_col0\" class=\"col_heading level0 col0\" >Silhouette</th>\n",
       "      <th id=\"T_588f2_level0_col1\" class=\"col_heading level0 col1\" >Calinski-Harabasz</th>\n",
       "      <th id=\"T_588f2_level0_col2\" class=\"col_heading level0 col2\" >Davies-Bouldin</th>\n",
       "      <th id=\"T_588f2_level0_col3\" class=\"col_heading level0 col3\" >Homogeneity</th>\n",
       "      <th id=\"T_588f2_level0_col4\" class=\"col_heading level0 col4\" >Rand Index</th>\n",
       "      <th id=\"T_588f2_level0_col5\" class=\"col_heading level0 col5\" >Completeness</th>\n",
       "    </tr>\n",
       "  </thead>\n",
       "  <tbody>\n",
       "    <tr>\n",
       "      <th id=\"T_588f2_level0_row0\" class=\"row_heading level0 row0\" >0</th>\n",
       "      <td id=\"T_588f2_row0_col0\" class=\"data row0 col0\" >0.7207</td>\n",
       "      <td id=\"T_588f2_row0_col1\" class=\"data row0 col1\" >5011.8115</td>\n",
       "      <td id=\"T_588f2_row0_col2\" class=\"data row0 col2\" >0.4114</td>\n",
       "      <td id=\"T_588f2_row0_col3\" class=\"data row0 col3\" >0</td>\n",
       "      <td id=\"T_588f2_row0_col4\" class=\"data row0 col4\" >0</td>\n",
       "      <td id=\"T_588f2_row0_col5\" class=\"data row0 col5\" >0</td>\n",
       "    </tr>\n",
       "  </tbody>\n",
       "</table>\n"
      ],
      "text/plain": [
       "<pandas.io.formats.style.Styler at 0x1ea1cfd98d0>"
      ]
     },
     "metadata": {},
     "output_type": "display_data"
    },
    {
     "data": {
      "text/html": [],
      "text/plain": [
       "<IPython.core.display.HTML object>"
      ]
     },
     "metadata": {},
     "output_type": "display_data"
    },
    {
     "name": "stdout",
     "output_type": "stream",
     "text": [
      "For Cluster = 5\n"
     ]
    },
    {
     "data": {
      "text/html": [],
      "text/plain": [
       "<IPython.core.display.HTML object>"
      ]
     },
     "metadata": {},
     "output_type": "display_data"
    },
    {
     "data": {
      "text/html": [
       "<style type=\"text/css\">\n",
       "</style>\n",
       "<table id=\"T_0f0b5\">\n",
       "  <thead>\n",
       "    <tr>\n",
       "      <th class=\"blank level0\" >&nbsp;</th>\n",
       "      <th id=\"T_0f0b5_level0_col0\" class=\"col_heading level0 col0\" >Silhouette</th>\n",
       "      <th id=\"T_0f0b5_level0_col1\" class=\"col_heading level0 col1\" >Calinski-Harabasz</th>\n",
       "      <th id=\"T_0f0b5_level0_col2\" class=\"col_heading level0 col2\" >Davies-Bouldin</th>\n",
       "      <th id=\"T_0f0b5_level0_col3\" class=\"col_heading level0 col3\" >Homogeneity</th>\n",
       "      <th id=\"T_0f0b5_level0_col4\" class=\"col_heading level0 col4\" >Rand Index</th>\n",
       "      <th id=\"T_0f0b5_level0_col5\" class=\"col_heading level0 col5\" >Completeness</th>\n",
       "    </tr>\n",
       "  </thead>\n",
       "  <tbody>\n",
       "    <tr>\n",
       "      <th id=\"T_0f0b5_level0_row0\" class=\"row_heading level0 row0\" >0</th>\n",
       "      <td id=\"T_0f0b5_row0_col0\" class=\"data row0 col0\" >0.6196</td>\n",
       "      <td id=\"T_0f0b5_row0_col1\" class=\"data row0 col1\" >4573.6153</td>\n",
       "      <td id=\"T_0f0b5_row0_col2\" class=\"data row0 col2\" >0.5572</td>\n",
       "      <td id=\"T_0f0b5_row0_col3\" class=\"data row0 col3\" >0</td>\n",
       "      <td id=\"T_0f0b5_row0_col4\" class=\"data row0 col4\" >0</td>\n",
       "      <td id=\"T_0f0b5_row0_col5\" class=\"data row0 col5\" >0</td>\n",
       "    </tr>\n",
       "  </tbody>\n",
       "</table>\n"
      ],
      "text/plain": [
       "<pandas.io.formats.style.Styler at 0x1ea1d17e190>"
      ]
     },
     "metadata": {},
     "output_type": "display_data"
    },
    {
     "data": {
      "text/html": [],
      "text/plain": [
       "<IPython.core.display.HTML object>"
      ]
     },
     "metadata": {},
     "output_type": "display_data"
    },
    {
     "name": "stdout",
     "output_type": "stream",
     "text": [
      "For Cluster = 6\n"
     ]
    },
    {
     "data": {
      "text/html": [],
      "text/plain": [
       "<IPython.core.display.HTML object>"
      ]
     },
     "metadata": {},
     "output_type": "display_data"
    },
    {
     "data": {
      "text/html": [
       "<style type=\"text/css\">\n",
       "</style>\n",
       "<table id=\"T_f44c8\">\n",
       "  <thead>\n",
       "    <tr>\n",
       "      <th class=\"blank level0\" >&nbsp;</th>\n",
       "      <th id=\"T_f44c8_level0_col0\" class=\"col_heading level0 col0\" >Silhouette</th>\n",
       "      <th id=\"T_f44c8_level0_col1\" class=\"col_heading level0 col1\" >Calinski-Harabasz</th>\n",
       "      <th id=\"T_f44c8_level0_col2\" class=\"col_heading level0 col2\" >Davies-Bouldin</th>\n",
       "      <th id=\"T_f44c8_level0_col3\" class=\"col_heading level0 col3\" >Homogeneity</th>\n",
       "      <th id=\"T_f44c8_level0_col4\" class=\"col_heading level0 col4\" >Rand Index</th>\n",
       "      <th id=\"T_f44c8_level0_col5\" class=\"col_heading level0 col5\" >Completeness</th>\n",
       "    </tr>\n",
       "  </thead>\n",
       "  <tbody>\n",
       "    <tr>\n",
       "      <th id=\"T_f44c8_level0_row0\" class=\"row_heading level0 row0\" >0</th>\n",
       "      <td id=\"T_f44c8_row0_col0\" class=\"data row0 col0\" >0.5776</td>\n",
       "      <td id=\"T_f44c8_row0_col1\" class=\"data row0 col1\" >4803.6499</td>\n",
       "      <td id=\"T_f44c8_row0_col2\" class=\"data row0 col2\" >0.5714</td>\n",
       "      <td id=\"T_f44c8_row0_col3\" class=\"data row0 col3\" >0</td>\n",
       "      <td id=\"T_f44c8_row0_col4\" class=\"data row0 col4\" >0</td>\n",
       "      <td id=\"T_f44c8_row0_col5\" class=\"data row0 col5\" >0</td>\n",
       "    </tr>\n",
       "  </tbody>\n",
       "</table>\n"
      ],
      "text/plain": [
       "<pandas.io.formats.style.Styler at 0x1ea1cfabb90>"
      ]
     },
     "metadata": {},
     "output_type": "display_data"
    },
    {
     "data": {
      "text/html": [],
      "text/plain": [
       "<IPython.core.display.HTML object>"
      ]
     },
     "metadata": {},
     "output_type": "display_data"
    }
   ],
   "source": [
    "from pycaret.datasets import get_data\n",
    "from pycaret.clustering import *\n",
    "\n",
    "jewelleryDataSet = get_data('jewellery', verbose=False)\n",
    "setup(data = jewelleryDataSet, verbose=False)\n",
    "\n",
    "print(\"For Cluster = 3\")\n",
    "x = create_model('kmeans', num_clusters = 3)\n",
    "\n",
    "print(\"For Cluster = 4\")\n",
    "x = create_model('kmeans', num_clusters = 4)\n",
    "\n",
    "print(\"For Cluster = 5\")\n",
    "x = create_model('kmeans', num_clusters = 5)\n",
    "\n",
    "print(\"For Cluster = 6\")\n",
    "x = create_model('kmeans', num_clusters = 6)"
   ]
  },
  {
   "cell_type": "code",
   "execution_count": 40,
   "id": "8690996a",
   "metadata": {},
   "outputs": [
    {
     "data": {
      "text/html": [],
      "text/plain": [
       "<IPython.core.display.HTML object>"
      ]
     },
     "metadata": {},
     "output_type": "display_data"
    },
    {
     "data": {
      "text/html": [
       "<style type=\"text/css\">\n",
       "</style>\n",
       "<table id=\"T_2ac81\">\n",
       "  <thead>\n",
       "    <tr>\n",
       "      <th class=\"blank level0\" >&nbsp;</th>\n",
       "      <th id=\"T_2ac81_level0_col0\" class=\"col_heading level0 col0\" >Silhouette</th>\n",
       "      <th id=\"T_2ac81_level0_col1\" class=\"col_heading level0 col1\" >Calinski-Harabasz</th>\n",
       "      <th id=\"T_2ac81_level0_col2\" class=\"col_heading level0 col2\" >Davies-Bouldin</th>\n",
       "      <th id=\"T_2ac81_level0_col3\" class=\"col_heading level0 col3\" >Homogeneity</th>\n",
       "      <th id=\"T_2ac81_level0_col4\" class=\"col_heading level0 col4\" >Rand Index</th>\n",
       "      <th id=\"T_2ac81_level0_col5\" class=\"col_heading level0 col5\" >Completeness</th>\n",
       "    </tr>\n",
       "  </thead>\n",
       "  <tbody>\n",
       "    <tr>\n",
       "      <th id=\"T_2ac81_level0_row0\" class=\"row_heading level0 row0\" >0</th>\n",
       "      <td id=\"T_2ac81_row0_col0\" class=\"data row0 col0\" >0.7581</td>\n",
       "      <td id=\"T_2ac81_row0_col1\" class=\"data row0 col1\" >1611.2647</td>\n",
       "      <td id=\"T_2ac81_row0_col2\" class=\"data row0 col2\" >0.3743</td>\n",
       "      <td id=\"T_2ac81_row0_col3\" class=\"data row0 col3\" >0</td>\n",
       "      <td id=\"T_2ac81_row0_col4\" class=\"data row0 col4\" >0</td>\n",
       "      <td id=\"T_2ac81_row0_col5\" class=\"data row0 col5\" >0</td>\n",
       "    </tr>\n",
       "  </tbody>\n",
       "</table>\n"
      ],
      "text/plain": [
       "<pandas.io.formats.style.Styler at 0x1ea1cff18d0>"
      ]
     },
     "metadata": {},
     "output_type": "display_data"
    },
    {
     "data": {
      "text/html": [],
      "text/plain": [
       "<IPython.core.display.HTML object>"
      ]
     },
     "metadata": {},
     "output_type": "display_data"
    },
    {
     "data": {
      "text/html": [],
      "text/plain": [
       "<IPython.core.display.HTML object>"
      ]
     },
     "metadata": {},
     "output_type": "display_data"
    },
    {
     "data": {
      "image/png": "[encoded data removed]",
      "text/plain": [
       "<Figure size 800x550 with 1 Axes>"
      ]
     },
     "metadata": {},
     "output_type": "display_data"
    }
   ],
   "source": [
    "#Normalization\n",
    "setup(data = jewelleryDataSet, normalize = True, normalize_method = 'zscore', verbose=False)\n",
    "x = create_model('kmeans')\n",
    "plot_model(x, plot = 'elbow')"
   ]
  },
  {
   "cell_type": "code",
   "execution_count": 38,
   "id": "f604e1aa",
   "metadata": {},
   "outputs": [
    {
     "name": "stdout",
     "output_type": "stream",
     "text": [
      "For Cluster = 3\n"
     ]
    },
    {
     "data": {
      "text/html": [],
      "text/plain": [
       "<IPython.core.display.HTML object>"
      ]
     },
     "metadata": {},
     "output_type": "display_data"
    },
    {
     "data": {
      "text/html": [
       "<style type=\"text/css\">\n",
       "</style>\n",
       "<table id=\"T_c6532\">\n",
       "  <thead>\n",
       "    <tr>\n",
       "      <th class=\"blank level0\" >&nbsp;</th>\n",
       "      <th id=\"T_c6532_level0_col0\" class=\"col_heading level0 col0\" >Silhouette</th>\n",
       "      <th id=\"T_c6532_level0_col1\" class=\"col_heading level0 col1\" >Calinski-Harabasz</th>\n",
       "      <th id=\"T_c6532_level0_col2\" class=\"col_heading level0 col2\" >Davies-Bouldin</th>\n",
       "      <th id=\"T_c6532_level0_col3\" class=\"col_heading level0 col3\" >Homogeneity</th>\n",
       "      <th id=\"T_c6532_level0_col4\" class=\"col_heading level0 col4\" >Rand Index</th>\n",
       "      <th id=\"T_c6532_level0_col5\" class=\"col_heading level0 col5\" >Completeness</th>\n",
       "    </tr>\n",
       "  </thead>\n",
       "  <tbody>\n",
       "    <tr>\n",
       "      <th id=\"T_c6532_level0_row0\" class=\"row_heading level0 row0\" >0</th>\n",
       "      <td id=\"T_c6532_row0_col0\" class=\"data row0 col0\" >0.6963</td>\n",
       "      <td id=\"T_c6532_row0_col1\" class=\"data row0 col1\" >1066.5812</td>\n",
       "      <td id=\"T_c6532_row0_col2\" class=\"data row0 col2\" >0.5258</td>\n",
       "      <td id=\"T_c6532_row0_col3\" class=\"data row0 col3\" >0</td>\n",
       "      <td id=\"T_c6532_row0_col4\" class=\"data row0 col4\" >0</td>\n",
       "      <td id=\"T_c6532_row0_col5\" class=\"data row0 col5\" >0</td>\n",
       "    </tr>\n",
       "  </tbody>\n",
       "</table>\n"
      ],
      "text/plain": [
       "<pandas.io.formats.style.Styler at 0x1ea1cc418d0>"
      ]
     },
     "metadata": {},
     "output_type": "display_data"
    },
    {
     "data": {
      "text/html": [],
      "text/plain": [
       "<IPython.core.display.HTML object>"
      ]
     },
     "metadata": {},
     "output_type": "display_data"
    },
    {
     "name": "stdout",
     "output_type": "stream",
     "text": [
      "For Cluster = 4\n"
     ]
    },
    {
     "data": {
      "text/html": [],
      "text/plain": [
       "<IPython.core.display.HTML object>"
      ]
     },
     "metadata": {},
     "output_type": "display_data"
    },
    {
     "data": {
      "text/html": [
       "<style type=\"text/css\">\n",
       "</style>\n",
       "<table id=\"T_b9bf3\">\n",
       "  <thead>\n",
       "    <tr>\n",
       "      <th class=\"blank level0\" >&nbsp;</th>\n",
       "      <th id=\"T_b9bf3_level0_col0\" class=\"col_heading level0 col0\" >Silhouette</th>\n",
       "      <th id=\"T_b9bf3_level0_col1\" class=\"col_heading level0 col1\" >Calinski-Harabasz</th>\n",
       "      <th id=\"T_b9bf3_level0_col2\" class=\"col_heading level0 col2\" >Davies-Bouldin</th>\n",
       "      <th id=\"T_b9bf3_level0_col3\" class=\"col_heading level0 col3\" >Homogeneity</th>\n",
       "      <th id=\"T_b9bf3_level0_col4\" class=\"col_heading level0 col4\" >Rand Index</th>\n",
       "      <th id=\"T_b9bf3_level0_col5\" class=\"col_heading level0 col5\" >Completeness</th>\n",
       "    </tr>\n",
       "  </thead>\n",
       "  <tbody>\n",
       "    <tr>\n",
       "      <th id=\"T_b9bf3_level0_row0\" class=\"row_heading level0 row0\" >0</th>\n",
       "      <td id=\"T_b9bf3_row0_col0\" class=\"data row0 col0\" >0.7581</td>\n",
       "      <td id=\"T_b9bf3_row0_col1\" class=\"data row0 col1\" >1611.2647</td>\n",
       "      <td id=\"T_b9bf3_row0_col2\" class=\"data row0 col2\" >0.3743</td>\n",
       "      <td id=\"T_b9bf3_row0_col3\" class=\"data row0 col3\" >0</td>\n",
       "      <td id=\"T_b9bf3_row0_col4\" class=\"data row0 col4\" >0</td>\n",
       "      <td id=\"T_b9bf3_row0_col5\" class=\"data row0 col5\" >0</td>\n",
       "    </tr>\n",
       "  </tbody>\n",
       "</table>\n"
      ],
      "text/plain": [
       "<pandas.io.formats.style.Styler at 0x1ea1cc418d0>"
      ]
     },
     "metadata": {},
     "output_type": "display_data"
    },
    {
     "data": {
      "text/html": [],
      "text/plain": [
       "<IPython.core.display.HTML object>"
      ]
     },
     "metadata": {},
     "output_type": "display_data"
    },
    {
     "name": "stdout",
     "output_type": "stream",
     "text": [
      "For Cluster = 5\n"
     ]
    },
    {
     "data": {
      "text/html": [],
      "text/plain": [
       "<IPython.core.display.HTML object>"
      ]
     },
     "metadata": {},
     "output_type": "display_data"
    },
    {
     "data": {
      "text/html": [
       "<style type=\"text/css\">\n",
       "</style>\n",
       "<table id=\"T_b86ab\">\n",
       "  <thead>\n",
       "    <tr>\n",
       "      <th class=\"blank level0\" >&nbsp;</th>\n",
       "      <th id=\"T_b86ab_level0_col0\" class=\"col_heading level0 col0\" >Silhouette</th>\n",
       "      <th id=\"T_b86ab_level0_col1\" class=\"col_heading level0 col1\" >Calinski-Harabasz</th>\n",
       "      <th id=\"T_b86ab_level0_col2\" class=\"col_heading level0 col2\" >Davies-Bouldin</th>\n",
       "      <th id=\"T_b86ab_level0_col3\" class=\"col_heading level0 col3\" >Homogeneity</th>\n",
       "      <th id=\"T_b86ab_level0_col4\" class=\"col_heading level0 col4\" >Rand Index</th>\n",
       "      <th id=\"T_b86ab_level0_col5\" class=\"col_heading level0 col5\" >Completeness</th>\n",
       "    </tr>\n",
       "  </thead>\n",
       "  <tbody>\n",
       "    <tr>\n",
       "      <th id=\"T_b86ab_level0_row0\" class=\"row_heading level0 row0\" >0</th>\n",
       "      <td id=\"T_b86ab_row0_col0\" class=\"data row0 col0\" >0.8049</td>\n",
       "      <td id=\"T_b86ab_row0_col1\" class=\"data row0 col1\" >3671.3580</td>\n",
       "      <td id=\"T_b86ab_row0_col2\" class=\"data row0 col2\" >0.2762</td>\n",
       "      <td id=\"T_b86ab_row0_col3\" class=\"data row0 col3\" >0</td>\n",
       "      <td id=\"T_b86ab_row0_col4\" class=\"data row0 col4\" >0</td>\n",
       "      <td id=\"T_b86ab_row0_col5\" class=\"data row0 col5\" >0</td>\n",
       "    </tr>\n",
       "  </tbody>\n",
       "</table>\n"
      ],
      "text/plain": [
       "<pandas.io.formats.style.Styler at 0x1ea1d169090>"
      ]
     },
     "metadata": {},
     "output_type": "display_data"
    },
    {
     "data": {
      "text/html": [],
      "text/plain": [
       "<IPython.core.display.HTML object>"
      ]
     },
     "metadata": {},
     "output_type": "display_data"
    },
    {
     "name": "stdout",
     "output_type": "stream",
     "text": [
      "For Cluster = 6\n"
     ]
    },
    {
     "data": {
      "text/html": [],
      "text/plain": [
       "<IPython.core.display.HTML object>"
      ]
     },
     "metadata": {},
     "output_type": "display_data"
    },
    {
     "data": {
      "text/html": [
       "<style type=\"text/css\">\n",
       "</style>\n",
       "<table id=\"T_aad91\">\n",
       "  <thead>\n",
       "    <tr>\n",
       "      <th class=\"blank level0\" >&nbsp;</th>\n",
       "      <th id=\"T_aad91_level0_col0\" class=\"col_heading level0 col0\" >Silhouette</th>\n",
       "      <th id=\"T_aad91_level0_col1\" class=\"col_heading level0 col1\" >Calinski-Harabasz</th>\n",
       "      <th id=\"T_aad91_level0_col2\" class=\"col_heading level0 col2\" >Davies-Bouldin</th>\n",
       "      <th id=\"T_aad91_level0_col3\" class=\"col_heading level0 col3\" >Homogeneity</th>\n",
       "      <th id=\"T_aad91_level0_col4\" class=\"col_heading level0 col4\" >Rand Index</th>\n",
       "      <th id=\"T_aad91_level0_col5\" class=\"col_heading level0 col5\" >Completeness</th>\n",
       "    </tr>\n",
       "  </thead>\n",
       "  <tbody>\n",
       "    <tr>\n",
       "      <th id=\"T_aad91_level0_row0\" class=\"row_heading level0 row0\" >0</th>\n",
       "      <td id=\"T_aad91_row0_col0\" class=\"data row0 col0\" >0.6590</td>\n",
       "      <td id=\"T_aad91_row0_col1\" class=\"data row0 col1\" >3123.6498</td>\n",
       "      <td id=\"T_aad91_row0_col2\" class=\"data row0 col2\" >0.7322</td>\n",
       "      <td id=\"T_aad91_row0_col3\" class=\"data row0 col3\" >0</td>\n",
       "      <td id=\"T_aad91_row0_col4\" class=\"data row0 col4\" >0</td>\n",
       "      <td id=\"T_aad91_row0_col5\" class=\"data row0 col5\" >0</td>\n",
       "    </tr>\n",
       "  </tbody>\n",
       "</table>\n"
      ],
      "text/plain": [
       "<pandas.io.formats.style.Styler at 0x1ea1cf960d0>"
      ]
     },
     "metadata": {},
     "output_type": "display_data"
    },
    {
     "data": {
      "text/html": [],
      "text/plain": [
       "<IPython.core.display.HTML object>"
      ]
     },
     "metadata": {},
     "output_type": "display_data"
    }
   ],
   "source": [
    "setup(data = jewelleryDataSet, normalize = True, normalize_method = 'zscore', verbose=False)\n",
    "\n",
    "print(\"For Cluster = 3\")\n",
    "x = create_model('kmeans', num_clusters = 3)\n",
    "\n",
    "print(\"For Cluster = 4\")\n",
    "x = create_model('kmeans', num_clusters = 4)\n",
    "\n",
    "print(\"For Cluster = 5\")\n",
    "x = create_model('kmeans', num_clusters = 5)\n",
    "\n",
    "print(\"For Cluster = 6\")\n",
    "x = create_model('kmeans', num_clusters = 6)"
   ]
  },
  {
   "cell_type": "code",
   "execution_count": 39,
   "id": "74caa820",
   "metadata": {},
   "outputs": [
    {
     "data": {
      "text/html": [],
      "text/plain": [
       "<IPython.core.display.HTML object>"
      ]
     },
     "metadata": {},
     "output_type": "display_data"
    },
    {
     "data": {
      "text/html": [
       "<style type=\"text/css\">\n",
       "</style>\n",
       "<table id=\"T_47da3\">\n",
       "  <thead>\n",
       "    <tr>\n",
       "      <th class=\"blank level0\" >&nbsp;</th>\n",
       "      <th id=\"T_47da3_level0_col0\" class=\"col_heading level0 col0\" >Silhouette</th>\n",
       "      <th id=\"T_47da3_level0_col1\" class=\"col_heading level0 col1\" >Calinski-Harabasz</th>\n",
       "      <th id=\"T_47da3_level0_col2\" class=\"col_heading level0 col2\" >Davies-Bouldin</th>\n",
       "      <th id=\"T_47da3_level0_col3\" class=\"col_heading level0 col3\" >Homogeneity</th>\n",
       "      <th id=\"T_47da3_level0_col4\" class=\"col_heading level0 col4\" >Rand Index</th>\n",
       "      <th id=\"T_47da3_level0_col5\" class=\"col_heading level0 col5\" >Completeness</th>\n",
       "    </tr>\n",
       "  </thead>\n",
       "  <tbody>\n",
       "    <tr>\n",
       "      <th id=\"T_47da3_level0_row0\" class=\"row_heading level0 row0\" >0</th>\n",
       "      <td id=\"T_47da3_row0_col0\" class=\"data row0 col0\" >0.8049</td>\n",
       "      <td id=\"T_47da3_row0_col1\" class=\"data row0 col1\" >3671.3580</td>\n",
       "      <td id=\"T_47da3_row0_col2\" class=\"data row0 col2\" >0.2762</td>\n",
       "      <td id=\"T_47da3_row0_col3\" class=\"data row0 col3\" >0</td>\n",
       "      <td id=\"T_47da3_row0_col4\" class=\"data row0 col4\" >0</td>\n",
       "      <td id=\"T_47da3_row0_col5\" class=\"data row0 col5\" >0</td>\n",
       "    </tr>\n",
       "  </tbody>\n",
       "</table>\n"
      ],
      "text/plain": [
       "<pandas.io.formats.style.Styler at 0x1ea1d1772d0>"
      ]
     },
     "metadata": {},
     "output_type": "display_data"
    },
    {
     "data": {
      "text/html": [],
      "text/plain": [
       "<IPython.core.display.HTML object>"
      ]
     },
     "metadata": {},
     "output_type": "display_data"
    },
    {
     "data": {
      "text/html": [],
      "text/plain": [
       "<IPython.core.display.HTML object>"
      ]
     },
     "metadata": {},
     "output_type": "display_data"
    },
    {
     "data": {
      "application/vnd.plotly.v1+json": {
       "config": {
        "plotlyServerURL": "https://plot.ly"
       },
       "data": [
        {
         "customdata": [
          [
           89
          ],
          [
           91
          ],
          [
           92
          ],
          [
           90
          ],
          [
           93
          ],
          [
           89
          ],
          [
           88
          ],
          [
           87
          ],
          [
           86
          ],
          [
           82
          ],
          [
           91
          ],
          [
           88
          ],
          [
           87
          ],
          [
           91
          ],
          [
           90
          ],
          [
           85
          ],
          [
           91
          ],
          [
           88
          ],
          [
           85
          ],
          [
           85
          ],
          [
           88
          ],
          [
           84
          ],
          [
           88
          ],
          [
           94
          ],
          [
           86
          ],
          [
           94
          ],
          [
           89
          ],
          [
           87
          ],
          [
           84
          ],
          [
           91
          ],
          [
           91
          ],
          [
           88
          ],
          [
           88
          ],
          [
           89
          ],
          [
           91
          ],
          [
           90
          ],
          [
           89
          ],
          [
           83
          ],
          [
           83
          ],
          [
           86
          ],
          [
           84
          ],
          [
           94
          ],
          [
           94
          ],
          [
           79
          ],
          [
           88
          ],
          [
           85
          ],
          [
           82
          ],
          [
           82
          ],
          [
           91
          ],
          [
           91
          ],
          [
           89
          ],
          [
           84
          ],
          [
           87
          ],
          [
           81
          ],
          [
           93
          ],
          [
           84
          ],
          [
           95
          ],
          [
           89
          ],
          [
           86
          ],
          [
           85
          ],
          [
           87
          ],
          [
           92
          ],
          [
           89
          ],
          [
           85
          ],
          [
           88
          ],
          [
           86
          ],
          [
           94
          ],
          [
           87
          ],
          [
           85
          ],
          [
           83
          ],
          [
           87
          ],
          [
           88
          ],
          [
           84
          ],
          [
           85
          ],
          [
           91
          ],
          [
           90
          ],
          [
           88
          ],
          [
           89
          ],
          [
           88
          ],
          [
           92
          ],
          [
           90
          ],
          [
           85
          ],
          [
           88
          ],
          [
           94
          ],
          [
           84
          ],
          [
           91
          ],
          [
           88
          ],
          [
           87
          ],
          [
           86
          ],
          [
           83
          ],
          [
           83
          ],
          [
           91
          ],
          [
           86
          ],
          [
           89
          ],
          [
           92
          ],
          [
           87
          ],
          [
           84
          ],
          [
           83
          ],
          [
           83
          ],
          [
           85
          ],
          [
           90
          ],
          [
           97
          ],
          [
           92
          ],
          [
           87
          ],
          [
           91
          ],
          [
           83
          ],
          [
           87
          ],
          [
           91
          ],
          [
           82
          ],
          [
           91
          ],
          [
           90
          ],
          [
           86
          ],
          [
           85
          ],
          [
           90
          ],
          [
           84
          ],
          [
           87
          ],
          [
           84
          ],
          [
           88
          ],
          [
           91
          ],
          [
           84
          ],
          [
           94
          ],
          [
           89
          ],
          [
           92
          ],
          [
           89
          ],
          [
           90
          ],
          [
           90
          ],
          [
           88
          ],
          [
           88
          ],
          [
           93
          ],
          [
           90
          ],
          [
           87
          ],
          [
           87
          ],
          [
           91
          ],
          [
           87
          ],
          [
           87
          ],
          [
           92
          ],
          [
           84
          ],
          [
           87
          ],
          [
           87
          ],
          [
           83
          ],
          [
           79
          ],
          [
           92
          ],
          [
           91
          ],
          [
           83
          ],
          [
           86
          ],
          [
           84
          ],
          [
           82
          ]
         ],
         "hovertemplate": "Cluster=Cluster 0<br>0=%{x}<br>1=%{y}<br>2=%{z}<br>Feature=%{customdata[0]}<extra></extra>",
         "legendgroup": "Cluster 0",
         "marker": {
          "color": "#636efa",
          "opacity": 0.7,
          "symbol": "circle"
         },
         "mode": "markers",
         "name": "Cluster 0",
         "scene": "scene",
         "showlegend": true,
         "type": "scatter3d",
         "x": [
          -14.5301895,
          -10.899752,
          -12.822586,
          -13.309585,
          -12.865278,
          -13.400528,
          -11.984292,
          -12.35402,
          -10.158243,
          -10.335514,
          -15.89967,
          -12.252802,
          -15.986625,
          -12.687761,
          -11.858115,
          -14.880581,
          -13.450477,
          -15.116512,
          -14.289982,
          -12.142304,
          -13.415137,
          -10.9469595,
          -12.481713,
          -13.887432,
          -13.522978,
          -12.309607,
          -13.59787,
          -14.582422,
          -11.617654,
          -12.378746,
          -13.900223,
          -14.939907,
          -14.222148,
          -15.606609,
          -10.715243,
          -14.105151,
          -12.7990465,
          -15.058737,
          -11.341261,
          -15.437854,
          -10.94454,
          -13.776421,
          -14.59377,
          -11.04234,
          -14.827138,
          -10.917594,
          -15.314759,
          -11.144578,
          -14.4185705,
          -13.165787,
          -14.845035,
          -14.382995,
          -12.741932,
          -10.772695,
          -13.58653,
          -10.015613,
          -12.717795,
          -12.513773,
          -10.978662,
          -15.231149,
          -14.295322,
          -12.562442,
          -15.398268,
          -11.638444,
          -10.42636,
          -10.088262,
          -13.809947,
          -14.942674,
          -10.633635,
          -14.862085,
          -11.083578,
          -15.436749,
          -11.276704,
          -11.287366,
          -13.4227295,
          -12.698905,
          -13.008398,
          -11.178941,
          -14.249645,
          -13.448022,
          -12.931671,
          -11.484554,
          -13.893529,
          -12.848736,
          -12.78328,
          -13.539651,
          -13.696094,
          -13.770126,
          -10.367966,
          -13.007276,
          -10.494281,
          -12.764373,
          -13.188056,
          -15.227662,
          -12.277402,
          -12.564838,
          -11.623229,
          -10.832943,
          -11.726304,
          -14.561076,
          -12.424806,
          -13.75464,
          -15.762435,
          -14.435245,
          -12.356912,
          -10.492138,
          -12.684138,
          -13.0857935,
          -11.074452,
          -13.753251,
          -14.453739,
          -14.953819,
          -15.721087,
          -15.025232,
          -12.830587,
          -13.3942175,
          -11.722662,
          -13.880711,
          -14.431522,
          -13.2565775,
          -13.788838,
          -14.022721,
          -12.920907,
          -14.601741,
          -12.218258,
          -13.0798025,
          -13.281353,
          -14.399494,
          -12.075246,
          -13.558473,
          -14.561828,
          -13.936588,
          -13.418385,
          -15.414271,
          -16.129885,
          -12.86813,
          -15.11588,
          -11.302242,
          -11.178982,
          -13.25548,
          -12.6103,
          -13.593878,
          -10.329001,
          -11.202256,
          -11.857059,
          -11.70263,
          -11.425216
         ],
         "y": [
          -0.26983723,
          -5.515785,
          -5.7518015,
          -0.1795491,
          -6.2558894,
          -2.9742465,
          -3.8669276,
          -1.5863655,
          -4.5027537,
          -2.6248674,
          -4.2572656,
          -0.21562535,
          -3.961644,
          1.2311791,
          -6.1533403,
          -3.453183,
          -1.3722423,
          -0.17692718,
          -0.59640044,
          -0.54262877,
          0.17980827,
          0.055073224,
          -3.6831374,
          0.7140213,
          -0.9891985,
          1.4888016,
          -3.1440766,
          -1.084292,
          -2.6821113,
          -4.6346946,
          -2.0055578,
          -3.0149055,
          -0.5976985,
          0.7389546,
          -5.478404,
          0.82455426,
          0.037362855,
          -3.8455281,
          -2.699208,
          -3.4033716,
          -2.9097567,
          -5.6332035,
          -4.401951,
          -0.38208717,
          -3.7544234,
          -2.5611112,
          -1.4249214,
          -1.3795989,
          -5.2751784,
          -5.437454,
          -3.2011733,
          -0.5070142,
          -3.0836208,
          -1.0932364,
          -5.5442877,
          -4.4464793,
          -5.385513,
          -4.0823865,
          0.579959,
          0.045437664,
          -1.7114223,
          0.8233433,
          -2.930531,
          -2.4986303,
          -4.919229,
          -4.894656,
          -1.386559,
          -3.005315,
          -3.5932498,
          -0.20083663,
          0.77800107,
          -1.8485649,
          -0.73885316,
          -1.0717263,
          -4.1818647,
          -1.7817427,
          -0.10460743,
          -4.610778,
          -1.3750263,
          0.5377169,
          -4.3066387,
          -3.0916007,
          -0.80014455,
          -5.089246,
          -2.7435489,
          -3.212716,
          -5.0300117,
          -0.40007576,
          -1.8071914,
          0.25551215,
          -1.6724752,
          -4.6251345,
          -5.470151,
          -2.6062753,
          1.1797918,
          -3.3785062,
          -0.5585534,
          -2.5688996,
          -3.2543552,
          -0.06948528,
          -1.5638639,
          -1.4733285,
          -2.3755746,
          -3.0400522,
          -4.6530805,
          -3.1987858,
          -1.1049434,
          -4.1500854,
          -1.6823903,
          -2.8737297,
          -1.7185482,
          -1.8537248,
          -0.44363725,
          -2.3366766,
          -5.507736,
          -2.0296288,
          -3.4897456,
          -0.09168528,
          -2.1700597,
          -1.1171781,
          -4.7836537,
          -1.1625056,
          0.7441846,
          0.73194164,
          0.6606839,
          0.8787402,
          -5.487646,
          0.75005966,
          -6.5137553,
          -1.419179,
          -0.9067251,
          -0.5025409,
          -1.2510986,
          -3.5276093,
          -0.6968399,
          0.4224399,
          -2.8243778,
          -3.514417,
          -0.21808036,
          0.5979403,
          0.557735,
          -4.9494286,
          -5.3548827,
          -1.0318943,
          -2.9199564,
          -2.666858,
          -3.5459843
         ],
         "z": [
          1.7251651,
          -2.942853,
          -3.4233549,
          -4.2530737,
          -2.8492227,
          -0.8465347,
          -1.695021,
          0.71228373,
          -1.9501485,
          -2.4758384,
          -1.1825609,
          -4.0666776,
          -0.8794139,
          -2.3405871,
          -2.296515,
          0.53772676,
          1.7988735,
          1.5848452,
          -1.5922188,
          -2.5829244,
          -0.5334104,
          -0.30562505,
          -1.4446474,
          -4.3371696,
          -0.70606065,
          -3.6157384,
          -0.7411697,
          0.75623906,
          -0.814772,
          -2.6910806,
          -0.094746664,
          -1.8851755,
          -2.8865938,
          -0.3601654,
          -3.1294408,
          -1.317774,
          -3.7102318,
          0.831849,
          -3.5782769,
          -0.59159124,
          -3.3380344,
          -2.8676238,
          -1.2462215,
          -2.0465791,
          -0.35111994,
          -0.92250645,
          -3.4220479,
          -1.5052029,
          -1.5155452,
          -3.6735134,
          0.07150504,
          -0.72504467,
          -4.0236416,
          -0.08853419,
          -1.8133367,
          -1.6781859,
          -3.133669,
          -1.5462832,
          -0.08750393,
          1.7235111,
          0.35743228,
          -4.1013684,
          -2.0512862,
          -1.3427478,
          -3.2545578,
          -3.6961322,
          2.533293,
          1.5173295,
          -3.3533013,
          -1.4880441,
          -0.010039792,
          -3.3878343,
          -3.3537226,
          -0.54474115,
          -2.8801625,
          1.0658201,
          -3.0248358,
          -1.9555043,
          1.5023713,
          -4.000497,
          -2.8839545,
          -3.651966,
          -3.229106,
          -1.9392225,
          -4.25545,
          -0.7020202,
          0.3143086,
          0.62095606,
          0.16247946,
          0.6368603,
          0.13545996,
          -1.7554194,
          0.239246,
          -2.0334952,
          -3.897908,
          -4.113228,
          -2.12457,
          -3.016464,
          -0.34497806,
          -0.4641305,
          1.5707545,
          2.8168676,
          0.33768684,
          0.2906331,
          -2.017848,
          -3.0721183,
          -0.31728312,
          -3.851644,
          -3.5401742,
          0.37667796,
          1.8071169,
          1.4789592,
          1.2585481,
          -0.9891966,
          0.19172889,
          -3.847849,
          0.3831826,
          -2.2948813,
          1.8810809,
          -3.0520253,
          -1.6166521,
          -0.052627455,
          -4.080214,
          0.71988684,
          -3.9203093,
          -2.16255,
          -0.11918207,
          -1.398057,
          -1.5148944,
          1.1005565,
          -1.7115948,
          -2.6515229,
          1.4225845,
          -1.5650381,
          0.9301111,
          -4.398741,
          -2.7050648,
          -3.6136343,
          -4.00838,
          0.5875553,
          0.6441447,
          -2.062145,
          -3.1382308,
          -1.0816364,
          -1.607124,
          -3.8536694,
          0.14454842
         ]
        },
        {
         "customdata": [
          [
           65
          ],
          [
           57
          ],
          [
           65
          ],
          [
           59
          ],
          [
           61
          ],
          [
           60
          ],
          [
           55
          ],
          [
           63
          ],
          [
           62
          ],
          [
           59
          ],
          [
           67
          ],
          [
           58
          ],
          [
           66
          ],
          [
           58
          ],
          [
           57
          ],
          [
           57
          ],
          [
           66
          ],
          [
           59
          ],
          [
           68
          ],
          [
           61
          ],
          [
           58
          ],
          [
           59
          ],
          [
           61
          ],
          [
           64
          ],
          [
           63
          ],
          [
           64
          ],
          [
           62
          ],
          [
           61
          ],
          [
           62
          ],
          [
           67
          ],
          [
           61
          ],
          [
           57
          ],
          [
           63
          ],
          [
           56
          ],
          [
           51
          ],
          [
           59
          ],
          [
           58
          ],
          [
           55
          ],
          [
           61
          ],
          [
           55
          ],
          [
           58
          ],
          [
           68
          ],
          [
           58
          ],
          [
           67
          ],
          [
           56
          ],
          [
           59
          ],
          [
           59
          ],
          [
           57
          ],
          [
           60
          ],
          [
           67
          ],
          [
           61
          ],
          [
           60
          ],
          [
           59
          ],
          [
           57
          ],
          [
           59
          ],
          [
           59
          ],
          [
           58
          ],
          [
           63
          ],
          [
           61
          ],
          [
           56
          ],
          [
           58
          ],
          [
           56
          ],
          [
           59
          ],
          [
           61
          ],
          [
           60
          ],
          [
           56
          ],
          [
           63
          ],
          [
           58
          ],
          [
           59
          ],
          [
           62
          ],
          [
           59
          ],
          [
           59
          ],
          [
           65
          ],
          [
           64
          ],
          [
           59
          ],
          [
           59
          ],
          [
           61
          ],
          [
           64
          ],
          [
           58
          ],
          [
           57
          ],
          [
           58
          ],
          [
           56
          ],
          [
           63
          ],
          [
           58
          ],
          [
           60
          ],
          [
           58
          ],
          [
           62
          ],
          [
           66
          ],
          [
           66
          ],
          [
           63
          ],
          [
           64
          ],
          [
           62
          ],
          [
           62
          ],
          [
           60
          ],
          [
           65
          ],
          [
           60
          ],
          [
           63
          ],
          [
           56
          ],
          [
           58
          ],
          [
           62
          ],
          [
           56
          ],
          [
           59
          ],
          [
           65
          ],
          [
           62
          ],
          [
           59
          ],
          [
           64
          ],
          [
           66
          ],
          [
           59
          ],
          [
           59
          ],
          [
           59
          ],
          [
           62
          ],
          [
           59
          ],
          [
           54
          ],
          [
           61
          ],
          [
           55
          ],
          [
           53
          ],
          [
           55
          ],
          [
           61
          ],
          [
           59
          ],
          [
           59
          ],
          [
           56
          ],
          [
           61
          ],
          [
           61
          ],
          [
           60
          ],
          [
           57
          ],
          [
           61
          ],
          [
           55
          ],
          [
           53
          ],
          [
           61
          ],
          [
           64
          ],
          [
           62
          ],
          [
           55
          ],
          [
           58
          ],
          [
           57
          ],
          [
           58
          ],
          [
           64
          ],
          [
           57
          ],
          [
           63
          ],
          [
           53
          ],
          [
           56
          ],
          [
           60
          ],
          [
           55
          ],
          [
           60
          ],
          [
           61
          ],
          [
           62
          ],
          [
           61
          ],
          [
           56
          ],
          [
           64
          ],
          [
           62
          ],
          [
           62
          ],
          [
           62
          ],
          [
           58
          ],
          [
           56
          ],
          [
           58
          ],
          [
           58
          ],
          [
           60
          ],
          [
           59
          ]
         ],
         "hovertemplate": "Cluster=Cluster 1<br>0=%{x}<br>1=%{y}<br>2=%{z}<br>Feature=%{customdata[0]}<extra></extra>",
         "legendgroup": "Cluster 1",
         "marker": {
          "color": "#EF553B",
          "opacity": 0.7,
          "symbol": "circle"
         },
         "mode": "markers",
         "name": "Cluster 1",
         "scene": "scene",
         "showlegend": true,
         "type": "scatter3d",
         "x": [
          1.5877942,
          0.24018243,
          3.1924262,
          6.4254146,
          3.0183492,
          5.368093,
          3.460411,
          3.7451885,
          3.5762691,
          5.076271,
          3.877047,
          2.1790268,
          2.091472,
          5.9669423,
          1.9687382,
          7.0866876,
          3.187489,
          2.462499,
          4.2708592,
          0.56539035,
          6.3864646,
          5.5578613,
          1.2947983,
          3.8266685,
          1.4085251,
          2.9073052,
          5.4221034,
          1.6611125,
          5.5730386,
          3.4875598,
          2.8869019,
          2.265324,
          6.428273,
          2.8395498,
          7.1344643,
          6.4839206,
          2.263128,
          0.84116477,
          5.0815096,
          2.186639,
          6.54268,
          3.2839894,
          1.6718644,
          4.872632,
          4.921188,
          5.3033514,
          5.5231895,
          6.8129697,
          0.89471513,
          4.48839,
          3.538268,
          2.8393743,
          0.2579149,
          1.0417293,
          3.6239934,
          0.7398455,
          2.475616,
          3.1424787,
          2.904558,
          2.4208393,
          0.87077045,
          6.0812206,
          4.0419836,
          5.0146146,
          1.2682949,
          5.5195346,
          2.6396785,
          5.8564734,
          2.3471951,
          4.198161,
          2.662516,
          1.6802278,
          3.1020753,
          1.4525744,
          0.4857475,
          5.048865,
          0.8964075,
          3.686636,
          5.8956113,
          6.053568,
          3.7199013,
          2.780796,
          4.6627884,
          2.6073244,
          6.0947385,
          0.6308178,
          2.00667,
          4.3576193,
          4.1722784,
          5.849169,
          5.416343,
          3.0355637,
          1.4651666,
          4.760745,
          4.010563,
          1.0068611,
          5.2324686,
          5.373287,
          5.0956354,
          1.923249,
          0.3157356,
          0.9096429,
          4.1493006,
          1.080149,
          4.255559,
          4.4632525,
          4.000497,
          3.3677027,
          5.7581496,
          6.2718797,
          2.0193653,
          3.0793767,
          6.447358,
          5.129014,
          1.9621991,
          3.648551,
          5.1057196,
          3.7660556,
          4.201039,
          1.6122414,
          0.9000411,
          5.1931877,
          4.573287,
          3.9776363,
          0.86512965,
          4.655265,
          6.6708593,
          0.45899945,
          5.772678,
          1.4593067,
          5.9786797,
          1.9317161,
          1.5731391,
          5.7012525,
          3.0097873,
          1.9565786,
          5.8747573,
          2.2977765,
          1.9103324,
          0.52773345,
          1.4745586,
          7.463234,
          1.5918909,
          2.007461,
          1.4448992,
          4.169233,
          4.475904,
          4.233341,
          4.301635,
          4.226805,
          2.1866949,
          6.718115,
          2.284361,
          5.184599,
          6.7738886,
          5.116605,
          0.46089503
         ],
         "y": [
          -6.403809,
          -4.9416275,
          -10.732146,
          -7.0940037,
          -10.893708,
          -4.4788055,
          -3.7049398,
          -7.9661174,
          -4.6871,
          -4.234712,
          -3.8408926,
          -4.338369,
          -6.0208497,
          -4.796088,
          -6.809366,
          -7.0493684,
          -6.7309084,
          -4.909286,
          -6.029139,
          -6.9283323,
          -8.488361,
          -7.7997546,
          -5.8246617,
          -5.99839,
          -8.7293,
          -6.416635,
          -5.390954,
          -5.8700976,
          -4.3177066,
          -6.480016,
          -7.4874196,
          -6.713015,
          -6.4303765,
          -10.310381,
          -9.205278,
          -6.3397717,
          -9.737228,
          -5.7680044,
          -3.5645328,
          -10.076537,
          -8.927727,
          -6.114777,
          -10.421641,
          -4.8074374,
          -9.57498,
          -9.753447,
          -7.991285,
          -6.709143,
          -6.033265,
          -6.5534086,
          -5.617165,
          -8.654756,
          -6.458858,
          -5.3153396,
          -5.427384,
          -5.7201185,
          -8.856605,
          -7.211045,
          -7.3874774,
          -3.963263,
          -7.732811,
          -8.6335535,
          -8.478454,
          -9.271813,
          -8.232022,
          -9.30921,
          -9.538874,
          -7.858706,
          -9.98117,
          -7.190323,
          -4.778051,
          -10.3868475,
          -6.9209313,
          -9.183208,
          -7.145342,
          -9.336653,
          -7.8691254,
          -4.4568186,
          -7.8780546,
          -8.063037,
          -3.9991682,
          -10.685988,
          -7.724858,
          -7.9578376,
          -4.958908,
          -6.2238164,
          -5.6537995,
          -6.070939,
          -3.8728685,
          -5.099189,
          -7.4624896,
          -4.733895,
          -8.4899845,
          -10.034089,
          -5.162252,
          -7.7028184,
          -4.7503066,
          -9.2042265,
          -9.140908,
          -6.7526035,
          -6.636681,
          -6.0498495,
          -5.043895,
          -6.793676,
          -7.9649587,
          -7.7491636,
          -6.368987,
          -11.306882,
          -6.939519,
          -5.5725164,
          -11.085992,
          -8.66956,
          -8.9501095,
          -9.408984,
          -9.628813,
          -3.5249856,
          -10.324881,
          -8.484523,
          -7.469063,
          -7.487065,
          -7.475398,
          -4.278588,
          -7.6822286,
          -7.963821,
          -7.9281435,
          -8.486085,
          -8.334847,
          -6.8497977,
          -4.6910896,
          -8.719811,
          -5.5155077,
          -9.38142,
          -8.463057,
          -8.510189,
          -10.013846,
          -5.76817,
          -6.1655807,
          -7.407691,
          -10.101531,
          -6.720314,
          -9.834039,
          -7.0317,
          -4.1820416,
          -10.516677,
          -6.659903,
          -10.650355,
          -10.601033,
          -7.564647,
          -7.8965807,
          -6.2770576,
          -6.0147753,
          -7.1288767,
          -6.732615,
          -8.74833,
          -7.3617005,
          -7.867588,
          -6.148115
         ],
         "z": [
          0.122694805,
          1.2208827,
          3.651266,
          3.1342309,
          3.4073687,
          2.2214694,
          0.43908566,
          0.5901009,
          3.343621,
          0.41756043,
          3.446494,
          -0.20856287,
          -1.2278465,
          1.7908505,
          3.6034226,
          0.42285216,
          0.62267846,
          1.9297861,
          -1.3681303,
          0.011097904,
          3.3823173,
          0.5722825,
          0.8812642,
          -1.1046925,
          4.6267576,
          -1.2649673,
          2.5739899,
          1.817432,
          0.8378349,
          0.8670631,
          -0.94935966,
          2.5875552,
          3.084622,
          0.27284893,
          0.5933797,
          -0.48355946,
          -0.23013592,
          3.2172723,
          1.2375809,
          0.6949074,
          3.2507315,
          0.6859966,
          3.2186782,
          -1.0181519,
          1.6544946,
          3.1701648,
          -1.8061638,
          -0.1020185,
          1.227255,
          -1.6932344,
          2.9709828,
          0.8598117,
          0.28859472,
          2.8008163,
          4.418509,
          1.8358982,
          1.9555063,
          1.2923473,
          1.5680444,
          1.9773812,
          0.12547287,
          0.3642959,
          3.263706,
          3.1443813,
          3.8149123,
          0.5882889,
          -0.88359666,
          0.048393875,
          -0.2071201,
          2.662763,
          1.9443318,
          3.3517067,
          0.24716696,
          4.2620363,
          -0.97122383,
          2.761945,
          2.5106297,
          3.2289524,
          0.13512738,
          0.3283996,
          1.0636109,
          -0.28324974,
          -1.9813638,
          2.4460592,
          -0.02909263,
          1.7327808,
          0.15605156,
          -0.27425554,
          3.1697898,
          1.7992663,
          2.867903,
          3.1367137,
          4.223498,
          3.300378,
          3.008628,
          1.4824209,
          -0.6664789,
          -0.6671616,
          1.3229083,
          1.1195581,
          2.3101006,
          1.9341133,
          3.0406656,
          -1.0756941,
          3.3699758,
          -2.110512,
          -1.7181925,
          3.2673767,
          1.0951837,
          -0.37344363,
          2.9596612,
          1.0593804,
          0.3964908,
          3.2530944,
          1.5221342,
          0.23398057,
          1.8048689,
          0.38892812,
          3.6815295,
          1.9493207,
          3.9059653,
          0.5232578,
          3.8894987,
          2.7373552,
          0.26553115,
          2.3304794,
          0.5742515,
          3.9132113,
          1.9430902,
          4.525414,
          2.4543111,
          1.6576253,
          0.68831396,
          -0.15409541,
          0.5664395,
          -1.1938655,
          0.75896627,
          1.1563424,
          1.0091074,
          3.8340213,
          3.5282753,
          0.8728224,
          2.3826718,
          3.3769732,
          1.3586235,
          3.4771886,
          3.281582,
          -2.08028,
          -0.30600363,
          2.622103,
          1.9379746,
          -0.2650631,
          3.612116,
          0.18373786,
          -0.77166194,
          3.5992785,
          0.96068877
         ]
        },
        {
         "customdata": [
          [
           36
          ],
          [
           29
          ],
          [
           31
          ],
          [
           31
          ],
          [
           38
          ],
          [
           30
          ],
          [
           39
          ],
          [
           36
          ],
          [
           35
          ],
          [
           30
          ],
          [
           29
          ],
          [
           33
          ],
          [
           33
          ],
          [
           32
          ],
          [
           38
          ],
          [
           37
          ],
          [
           35
          ],
          [
           36
          ],
          [
           32
          ],
          [
           31
          ],
          [
           37
          ],
          [
           36
          ],
          [
           31
          ],
          [
           37
          ],
          [
           35
          ],
          [
           35
          ],
          [
           37
          ],
          [
           34
          ],
          [
           44
          ],
          [
           31
          ],
          [
           25
          ],
          [
           22
          ],
          [
           29
          ],
          [
           31
          ],
          [
           38
          ],
          [
           33
          ],
          [
           33
          ],
          [
           29
          ],
          [
           32
          ],
          [
           30
          ],
          [
           31
          ],
          [
           31
          ],
          [
           30
          ],
          [
           36
          ],
          [
           30
          ],
          [
           28
          ],
          [
           37
          ],
          [
           29
          ],
          [
           31
          ],
          [
           33
          ],
          [
           32
          ],
          [
           36
          ],
          [
           36
          ],
          [
           29
          ],
          [
           31
          ],
          [
           34
          ],
          [
           39
          ],
          [
           36
          ],
          [
           34
          ],
          [
           37
          ],
          [
           25
          ],
          [
           31
          ],
          [
           35
          ],
          [
           28
          ],
          [
           33
          ],
          [
           31
          ],
          [
           28
          ],
          [
           39
          ],
          [
           31
          ],
          [
           27
          ],
          [
           34
          ],
          [
           29
          ],
          [
           43
          ],
          [
           33
          ],
          [
           26
          ],
          [
           24
          ],
          [
           31
          ],
          [
           29
          ],
          [
           33
          ],
          [
           36
          ],
          [
           31
          ],
          [
           40
          ],
          [
           42
          ],
          [
           32
          ],
          [
           37
          ],
          [
           34
          ],
          [
           33
          ],
          [
           35
          ],
          [
           37
          ],
          [
           28
          ],
          [
           33
          ],
          [
           33
          ],
          [
           29
          ],
          [
           28
          ],
          [
           31
          ],
          [
           37
          ],
          [
           31
          ],
          [
           33
          ],
          [
           30
          ],
          [
           30
          ],
          [
           34
          ],
          [
           30
          ],
          [
           30
          ],
          [
           29
          ],
          [
           30
          ],
          [
           34
          ],
          [
           37
          ],
          [
           34
          ],
          [
           38
          ],
          [
           33
          ],
          [
           34
          ],
          [
           30
          ],
          [
           35
          ],
          [
           36
          ],
          [
           29
          ],
          [
           32
          ],
          [
           35
          ],
          [
           28
          ],
          [
           31
          ],
          [
           34
          ],
          [
           35
          ],
          [
           33
          ],
          [
           28
          ],
          [
           32
          ],
          [
           34
          ],
          [
           35
          ]
         ],
         "hovertemplate": "Cluster=Cluster 2<br>0=%{x}<br>1=%{y}<br>2=%{z}<br>Feature=%{customdata[0]}<extra></extra>",
         "legendgroup": "Cluster 2",
         "marker": {
          "color": "#00cc96",
          "opacity": 0.7,
          "symbol": "circle"
         },
         "mode": "markers",
         "name": "Cluster 2",
         "scene": "scene",
         "showlegend": true,
         "type": "scatter3d",
         "x": [
          0.80933493,
          1.1225106,
          0.86840147,
          2.531172,
          1.7896224,
          0.2098585,
          0.9128103,
          1.8717548,
          -1.0516757,
          2.0907466,
          3.26676,
          -0.8415666,
          1.1548164,
          1.2158821,
          1.8711306,
          0.5602583,
          0.771745,
          0.9157467,
          -0.2657252,
          3.0488105,
          -2.1088042,
          1.3548628,
          2.336824,
          1.5837717,
          0.8815189,
          1.1415111,
          1.5309974,
          0.068620056,
          1.6970102,
          -0.63292885,
          -1.4988396,
          0.39990374,
          -1.159077,
          -0.3909846,
          0.83878845,
          -0.16784751,
          1.8382825,
          0.122933835,
          -0.17168947,
          0.19339132,
          0.6241849,
          1.4131829,
          1.7283467,
          -1.6929057,
          2.127459,
          2.5295062,
          0.4784266,
          3.8279645,
          2.722567,
          0.22067338,
          3.0719273,
          -1.6468146,
          -1.3155538,
          2.5506396,
          -1.5456759,
          -0.5672082,
          -2.7690063,
          -0.41361246,
          -1.7863759,
          1.4001837,
          1.503259,
          2.5641615,
          0.5202673,
          -1.8784838,
          3.0999734,
          2.0462317,
          -1.3021246,
          0.97560185,
          1.4587379,
          -1.5952214,
          1.9884754,
          3.7019434,
          0.6049414,
          1.8348286,
          -1.6133626,
          0.096794605,
          1.8018428,
          3.6091797,
          1.1766587,
          0.75157404,
          2.61,
          -2.0354736,
          0.9646351,
          -0.30160695,
          0.21063082,
          1.1033509,
          2.2697425,
          2.692245,
          -2.0799093,
          1.1922354,
          -1.3068315,
          0.3964534,
          -0.16672365,
          -1.5844994,
          1.8781635,
          1.2290958,
          1.0198874,
          1.5927331,
          -1.7263447,
          2.0228822,
          -2.8438506,
          2.7114575,
          1.5012087,
          -0.6317531,
          -1.7675159,
          1.3987286,
          0.4784474,
          -0.25958624,
          1.852037,
          -2.2901487,
          2.9213028,
          1.7206414,
          1.683966,
          0.81894594,
          2.1665382,
          -1.8905282,
          -0.5290471,
          3.3769886,
          0.13563547,
          2.2607658,
          -1.4023483,
          1.5121176,
          -0.83347243,
          2.0547445,
          1.5039283,
          2.140049
         ],
         "y": [
          7.465861,
          7.155077,
          11.931073,
          11.40266,
          6.064934,
          12.585527,
          5.714553,
          9.842383,
          8.708088,
          7.647929,
          10.643015,
          7.6500545,
          10.025098,
          11.039455,
          11.107127,
          10.044946,
          7.052612,
          8.765952,
          6.6821313,
          10.874005,
          8.990749,
          10.543907,
          8.160986,
          11.21314,
          8.673855,
          8.392356,
          11.911712,
          9.264906,
          11.443937,
          7.758051,
          9.50314,
          6.6052895,
          8.516426,
          6.9127083,
          5.5857105,
          11.679648,
          9.288711,
          9.724766,
          7.680848,
          10.098701,
          12.5113325,
          12.49947,
          10.144794,
          7.626578,
          7.021241,
          8.190452,
          6.3349476,
          9.950625,
          11.981682,
          9.28137,
          11.581156,
          7.7365694,
          7.4213552,
          8.664646,
          9.406227,
          7.2917295,
          8.3678,
          12.980406,
          8.607834,
          11.604708,
          6.652875,
          11.916136,
          10.2816105,
          9.30017,
          9.824042,
          12.1426525,
          8.61465,
          5.699031,
          12.181691,
          10.286583,
          10.693032,
          9.768226,
          11.971769,
          10.05043,
          8.668479,
          6.824318,
          7.9651055,
          9.846499,
          9.958232,
          8.491381,
          8.551865,
          7.329846,
          11.480545,
          11.634524,
          10.8869,
          10.211021,
          12.587782,
          9.105628,
          7.7835236,
          13.184125,
          9.1173725,
          13.0125065,
          12.1197815,
          9.147124,
          8.848783,
          8.448611,
          12.798777,
          8.700776,
          9.681738,
          7.901033,
          8.955786,
          8.796955,
          12.797767,
          10.150747,
          9.436208,
          9.126905,
          10.797656,
          12.41346,
          10.686751,
          9.137047,
          9.284176,
          11.371663,
          9.963866,
          10.9833975,
          7.6848917,
          8.49281,
          9.959953,
          10.195885,
          11.046487,
          10.303159,
          8.683615,
          8.32843,
          9.072487,
          11.916526,
          8.468101,
          12.23492
         ],
         "z": [
          0.6424842,
          -1.2225711,
          -2.213609,
          -1.5820199,
          -0.73330325,
          -1.8281392,
          -0.22532816,
          -0.10528702,
          0.96609664,
          -2.83583,
          -1.3743213,
          -1.2292844,
          -4.5690446,
          -1.7831861,
          0.8005066,
          0.75299674,
          0.35274616,
          -1.6686183,
          0.6444083,
          -1.1724315,
          0.9905801,
          -3.5946164,
          -1.751188,
          0.4076702,
          -0.67557627,
          -0.3411564,
          0.23865096,
          -1.0346613,
          1.5841553,
          0.85993475,
          -3.0233166,
          -3.0965877,
          -2.5397134,
          0.4338265,
          -0.34905666,
          -1.5256263,
          -0.93414086,
          -2.8997648,
          0.99933696,
          -2.9119873,
          -2.9933593,
          -2.3439767,
          -3.9767392,
          -0.06668282,
          -2.477554,
          -2.662688,
          0.82981515,
          -0.15208398,
          -1.2603426,
          -1.6565914,
          -0.70668435,
          -1.0443141,
          -0.7185427,
          -1.7110612,
          -1.5732745,
          -0.87814134,
          -0.07558425,
          -2.485468,
          -0.03881679,
          0.22674225,
          -2.342885,
          -3.582493,
          0.44939053,
          -2.1577792,
          0.6515573,
          -1.6536746,
          -2.9328716,
          -0.28504905,
          -2.1116624,
          -2.4236395,
          -3.420065,
          -0.0120764,
          1.8058125,
          -3.7868297,
          -2.9260547,
          -3.4025853,
          -0.43788934,
          -1.7604669,
          -4.318699,
          0.41300052,
          1.1881423,
          -0.34434158,
          1.5308253,
          -2.167821,
          0.0069484934,
          -4.863737,
          -1.1813084,
          1.292943,
          -0.3910225,
          -1.7300237,
          1.0660808,
          -2.7529323,
          -3.8197348,
          -2.477088,
          -3.1791685,
          -2.8572,
          -2.3607059,
          -0.78838193,
          0.21532479,
          -0.13066182,
          -0.05264334,
          -1.8696239,
          -2.9562454,
          -2.5957072,
          -1.6433513,
          -0.5472868,
          0.27301586,
          -2.3068788,
          1.04025,
          -0.72319055,
          1.2114344,
          -1.8089968,
          -3.300093,
          -0.29165998,
          0.369414,
          -1.4904448,
          -0.84349054,
          -1.8780596,
          -2.1340911,
          -0.32974645,
          0.8894448,
          -0.15040116,
          -3.0165186,
          -1.6106863,
          -2.8854637,
          -0.6650747
         ]
        },
        {
         "customdata": [
          [
           20
          ],
          [
           26
          ],
          [
           17
          ],
          [
           25
          ],
          [
           18
          ],
          [
           28
          ],
          [
           28
          ],
          [
           21
          ],
          [
           17
          ],
          [
           24
          ],
          [
           24
          ],
          [
           30
          ],
          [
           23
          ],
          [
           25
          ],
          [
           23
          ],
          [
           26
          ],
          [
           22
          ],
          [
           29
          ],
          [
           22
          ],
          [
           25
          ],
          [
           23
          ],
          [
           25
          ],
          [
           21
          ],
          [
           28
          ],
          [
           27
          ],
          [
           27
          ],
          [
           25
          ],
          [
           20
          ],
          [
           17
          ],
          [
           24
          ],
          [
           24
          ],
          [
           27
          ],
          [
           28
          ],
          [
           29
          ],
          [
           20
          ],
          [
           28
          ],
          [
           31
          ],
          [
           26
          ],
          [
           26
          ],
          [
           23
          ],
          [
           24
          ],
          [
           24
          ],
          [
           29
          ],
          [
           25
          ],
          [
           24
          ],
          [
           22
          ],
          [
           26
          ],
          [
           17
          ],
          [
           28
          ],
          [
           18
          ]
         ],
         "hovertemplate": "Cluster=Cluster 3<br>0=%{x}<br>1=%{y}<br>2=%{z}<br>Feature=%{customdata[0]}<extra></extra>",
         "legendgroup": "Cluster 3",
         "marker": {
          "color": "#ab63fa",
          "opacity": 0.7,
          "symbol": "circle"
         },
         "mode": "markers",
         "name": "Cluster 3",
         "scene": "scene",
         "showlegend": true,
         "type": "scatter3d",
         "x": [
          13.426993,
          14.040075,
          13.741233,
          14.594615,
          14.977818,
          13.3811865,
          13.380893,
          13.933099,
          14.696984,
          15.514482,
          16.451769,
          13.118057,
          15.628067,
          14.836494,
          14.976812,
          13.352985,
          14.425635,
          15.800178,
          15.865109,
          14.528646,
          13.50016,
          14.259103,
          15.749831,
          13.556166,
          13.81035,
          13.079272,
          13.121335,
          13.6493635,
          16.809036,
          15.713165,
          14.64424,
          14.5104685,
          13.806704,
          15.233025,
          13.568108,
          14.964946,
          14.833042,
          14.924542,
          12.81083,
          15.418081,
          15.298951,
          14.551638,
          15.129722,
          15.631506,
          13.263893,
          12.630817,
          15.420373,
          14.661259,
          16.16345,
          13.824156
         ],
         "y": [
          2.6963062,
          1.5744835,
          3.9773755,
          2.1565201,
          2.1310306,
          2.542771,
          2.0712898,
          3.3612485,
          3.330467,
          3.0818717,
          4.352438,
          1.842378,
          3.821893,
          3.4202707,
          2.8240771,
          4.3081913,
          1.9494256,
          2.9260626,
          3.8600192,
          1.7502245,
          2.917539,
          2.989321,
          3.4000885,
          1.8462265,
          3.5419772,
          3.0447083,
          2.2622736,
          2.0550592,
          4.5853887,
          3.1176138,
          2.9757712,
          4.7818947,
          4.688346,
          2.0105138,
          3.1681554,
          4.5574985,
          4.480923,
          2.6253262,
          2.2325823,
          3.4738014,
          4.1091475,
          3.0022657,
          4.6501617,
          4.186349,
          3.059933,
          3.651356,
          3.96861,
          3.4573436,
          4.872709,
          2.2444806
         ],
         "z": [
          1.0231142,
          -0.83506167,
          1.0874364,
          -0.19420299,
          -1.5886887,
          -1.4758828,
          -1.1532451,
          0.97015333,
          1.5322279,
          0.037284046,
          -0.3478647,
          -0.9605988,
          0.7557963,
          0.16784197,
          -0.24785654,
          -0.053569976,
          0.46654987,
          -0.6885311,
          -0.07025763,
          -0.8602145,
          -0.7875607,
          0.40992227,
          -1.4793355,
          -0.44039276,
          -0.7993475,
          -0.65614086,
          -0.72735,
          0.6673874,
          -0.61155033,
          -1.0797793,
          0.90118885,
          -0.4050657,
          -0.29260072,
          1.2863562,
          -0.053195305,
          -0.35493568,
          -1.2805482,
          -0.072256684,
          0.023617702,
          -0.92478657,
          -0.47859356,
          0.3576148,
          -1.1572526,
          0.66686535,
          -0.57517177,
          0.45160887,
          -0.92489207,
          1.5991398,
          -1.1362883,
          1.0441523
         ]
        },
        {
         "customdata": [
          [
           84
          ],
          [
           85
          ],
          [
           84
          ],
          [
           83
          ],
          [
           93
          ],
          [
           88
          ],
          [
           82
          ],
          [
           84
          ],
          [
           87
          ],
          [
           92
          ],
          [
           90
          ],
          [
           86
          ],
          [
           88
          ],
          [
           86
          ],
          [
           84
          ],
          [
           88
          ],
          [
           82
          ],
          [
           89
          ],
          [
           85
          ],
          [
           77
          ],
          [
           83
          ],
          [
           86
          ],
          [
           83
          ],
          [
           90
          ],
          [
           91
          ]
         ],
         "hovertemplate": "Cluster=Cluster 4<br>0=%{x}<br>1=%{y}<br>2=%{z}<br>Feature=%{customdata[0]}<extra></extra>",
         "legendgroup": "Cluster 4",
         "marker": {
          "color": "#FFA15A",
          "opacity": 0.7,
          "symbol": "circle"
         },
         "mode": "markers",
         "name": "Cluster 4",
         "scene": "scene",
         "showlegend": true,
         "type": "scatter3d",
         "x": [
          -2.991693,
          -3.5514383,
          -2.5495892,
          -2.328439,
          -3.885866,
          -3.473513,
          -3.0160263,
          -2.6629772,
          -2.834477,
          -3.6551998,
          -3.805235,
          -2.7991924,
          -3.4343972,
          -3.5889,
          -2.7909057,
          -3.3543944,
          -2.7226388,
          -3.1966836,
          -2.6220481,
          -2.9086978,
          -2.6520355,
          -3.4665604,
          -3.1779761,
          -3.3296292,
          -3.924702
         ],
         "y": [
          5.0463443,
          5.463428,
          5.9677415,
          5.525206,
          6.207604,
          6.384635,
          6.44,
          5.3612356,
          5.341664,
          5.813181,
          6.0328226,
          6.0313344,
          5.3745055,
          6.3100214,
          6.185697,
          5.6252217,
          6.210393,
          5.215798,
          5.3567023,
          6.6864066,
          5.8690686,
          5.269663,
          6.1237183,
          5.648761,
          5.575653
         ],
         "z": [
          9.549345,
          8.972875,
          9.730921,
          9.564785,
          9.85191,
          10.083748,
          9.735048,
          8.865618,
          10.178664,
          10.237049,
          9.404759,
          10.379877,
          9.958266,
          9.155966,
          10.078739,
          8.535873,
          9.03973,
          9.079239,
          9.755252,
          9.485831,
          9.15182,
          9.56265,
          8.981186,
          10.530741,
          9.745144
         ]
        }
       ],
       "layout": {
        "height": 800,
        "legend": {
         "title": {
          "text": "Cluster"
         },
         "tracegroupgap": 0
        },
        "scene": {
         "domain": {
          "x": [
           0,
           1
          ],
          "y": [
           0,
           1
          ]
         },
         "xaxis": {
          "title": {
           "text": "0"
          }
         },
         "yaxis": {
          "title": {
           "text": "1"
          }
         },
         "zaxis": {
          "title": {
           "text": "2"
          }
         }
        },
        "template": {
         "data": {
          "bar": [
           {
            "error_x": {
             "color": "#2a3f5f"
            },
            "error_y": {
             "color": "#2a3f5f"
            },
            "marker": {
             "line": {
              "color": "#E5ECF6",
              "width": 0.5
             },
             "pattern": {
              "fillmode": "overlay",
              "size": 10,
              "solidity": 0.2
             }
            },
            "type": "bar"
           }
          ],
          "barpolar": [
           {
            "marker": {
             "line": {
              "color": "#E5ECF6",
              "width": 0.5
             },
             "pattern": {
              "fillmode": "overlay",
              "size": 10,
              "solidity": 0.2
             }
            },
            "type": "barpolar"
           }
          ],
          "carpet": [
           {
            "aaxis": {
             "endlinecolor": "#2a3f5f",
             "gridcolor": "white",
             "linecolor": "white",
             "minorgridcolor": "white",
             "startlinecolor": "#2a3f5f"
            },
            "baxis": {
             "endlinecolor": "#2a3f5f",
             "gridcolor": "white",
             "linecolor": "white",
             "minorgridcolor": "white",
             "startlinecolor": "#2a3f5f"
            },
            "type": "carpet"
           }
          ],
          "choropleth": [
           {
            "colorbar": {
             "outlinewidth": 0,
             "ticks": ""
            },
            "type": "choropleth"
           }
          ],
          "contour": [
           {
            "colorbar": {
             "outlinewidth": 0,
             "ticks": ""
            },
            "colorscale": [
             [
              0,
              "#0d0887"
             ],
             [
              0.1111111111111111,
              "#46039f"
             ],
             [
              0.2222222222222222,
              "#7201a8"
             ],
             [
              0.3333333333333333,
              "#9c179e"
             ],
             [
              0.4444444444444444,
              "#bd3786"
             ],
             [
              0.5555555555555556,
              "#d8576b"
             ],
             [
              0.6666666666666666,
              "#ed7953"
             ],
             [
              0.7777777777777778,
              "#fb9f3a"
             ],
             [
              0.8888888888888888,
              "#fdca26"
             ],
             [
              1,
              "#f0f921"
             ]
            ],
            "type": "contour"
           }
          ],
          "contourcarpet": [
           {
            "colorbar": {
             "outlinewidth": 0,
             "ticks": ""
            },
            "type": "contourcarpet"
           }
          ],
          "heatmap": [
           {
            "colorbar": {
             "outlinewidth": 0,
             "ticks": ""
            },
            "colorscale": [
             [
              0,
              "#0d0887"
             ],
             [
              0.1111111111111111,
              "#46039f"
             ],
             [
              0.2222222222222222,
              "#7201a8"
             ],
             [
              0.3333333333333333,
              "#9c179e"
             ],
             [
              0.4444444444444444,
              "#bd3786"
             ],
             [
              0.5555555555555556,
              "#d8576b"
             ],
             [
              0.6666666666666666,
              "#ed7953"
             ],
             [
              0.7777777777777778,
              "#fb9f3a"
             ],
             [
              0.8888888888888888,
              "#fdca26"
             ],
             [
              1,
              "#f0f921"
             ]
            ],
            "type": "heatmap"
           }
          ],
          "heatmapgl": [
           {
            "colorbar": {
             "outlinewidth": 0,
             "ticks": ""
            },
            "colorscale": [
             [
              0,
              "#0d0887"
             ],
             [
              0.1111111111111111,
              "#46039f"
             ],
             [
              0.2222222222222222,
              "#7201a8"
             ],
             [
              0.3333333333333333,
              "#9c179e"
             ],
             [
              0.4444444444444444,
              "#bd3786"
             ],
             [
              0.5555555555555556,
              "#d8576b"
             ],
             [
              0.6666666666666666,
              "#ed7953"
             ],
             [
              0.7777777777777778,
              "#fb9f3a"
             ],
             [
              0.8888888888888888,
              "#fdca26"
             ],
             [
              1,
              "#f0f921"
             ]
            ],
            "type": "heatmapgl"
           }
          ],
          "histogram": [
           {
            "marker": {
             "pattern": {
              "fillmode": "overlay",
              "size": 10,
              "solidity": 0.2
             }
            },
            "type": "histogram"
           }
          ],
          "histogram2d": [
           {
            "colorbar": {
             "outlinewidth": 0,
             "ticks": ""
            },
            "colorscale": [
             [
              0,
              "#0d0887"
             ],
             [
              0.1111111111111111,
              "#46039f"
             ],
             [
              0.2222222222222222,
              "#7201a8"
             ],
             [
              0.3333333333333333,
              "#9c179e"
             ],
             [
              0.4444444444444444,
              "#bd3786"
             ],
             [
              0.5555555555555556,
              "#d8576b"
             ],
             [
              0.6666666666666666,
              "#ed7953"
             ],
             [
              0.7777777777777778,
              "#fb9f3a"
             ],
             [
              0.8888888888888888,
              "#fdca26"
             ],
             [
              1,
              "#f0f921"
             ]
            ],
            "type": "histogram2d"
           }
          ],
          "histogram2dcontour": [
           {
            "colorbar": {
             "outlinewidth": 0,
             "ticks": ""
            },
            "colorscale": [
             [
              0,
              "#0d0887"
             ],
             [
              0.1111111111111111,
              "#46039f"
             ],
             [
              0.2222222222222222,
              "#7201a8"
             ],
             [
              0.3333333333333333,
              "#9c179e"
             ],
             [
              0.4444444444444444,
              "#bd3786"
             ],
             [
              0.5555555555555556,
              "#d8576b"
             ],
             [
              0.6666666666666666,
              "#ed7953"
             ],
             [
              0.7777777777777778,
              "#fb9f3a"
             ],
             [
              0.8888888888888888,
              "#fdca26"
             ],
             [
              1,
              "#f0f921"
             ]
            ],
            "type": "histogram2dcontour"
           }
          ],
          "mesh3d": [
           {
            "colorbar": {
             "outlinewidth": 0,
             "ticks": ""
            },
            "type": "mesh3d"
           }
          ],
          "parcoords": [
           {
            "line": {
             "colorbar": {
              "outlinewidth": 0,
              "ticks": ""
             }
            },
            "type": "parcoords"
           }
          ],
          "pie": [
           {
            "automargin": true,
            "type": "pie"
           }
          ],
          "scatter": [
           {
            "fillpattern": {
             "fillmode": "overlay",
             "size": 10,
             "solidity": 0.2
            },
            "type": "scatter"
           }
          ],
          "scatter3d": [
           {
            "line": {
             "colorbar": {
              "outlinewidth": 0,
              "ticks": ""
             }
            },
            "marker": {
             "colorbar": {
              "outlinewidth": 0,
              "ticks": ""
             }
            },
            "type": "scatter3d"
           }
          ],
          "scattercarpet": [
           {
            "marker": {
             "colorbar": {
              "outlinewidth": 0,
              "ticks": ""
             }
            },
            "type": "scattercarpet"
           }
          ],
          "scattergeo": [
           {
            "marker": {
             "colorbar": {
              "outlinewidth": 0,
              "ticks": ""
             }
            },
            "type": "scattergeo"
           }
          ],
          "scattergl": [
           {
            "marker": {
             "colorbar": {
              "outlinewidth": 0,
              "ticks": ""
             }
            },
            "type": "scattergl"
           }
          ],
          "scattermapbox": [
           {
            "marker": {
             "colorbar": {
              "outlinewidth": 0,
              "ticks": ""
             }
            },
            "type": "scattermapbox"
           }
          ],
          "scatterpolar": [
           {
            "marker": {
             "colorbar": {
              "outlinewidth": 0,
              "ticks": ""
             }
            },
            "type": "scatterpolar"
           }
          ],
          "scatterpolargl": [
           {
            "marker": {
             "colorbar": {
              "outlinewidth": 0,
              "ticks": ""
             }
            },
            "type": "scatterpolargl"
           }
          ],
          "scatterternary": [
           {
            "marker": {
             "colorbar": {
              "outlinewidth": 0,
              "ticks": ""
             }
            },
            "type": "scatterternary"
           }
          ],
          "surface": [
           {
            "colorbar": {
             "outlinewidth": 0,
             "ticks": ""
            },
            "colorscale": [
             [
              0,
              "#0d0887"
             ],
             [
              0.1111111111111111,
              "#46039f"
             ],
             [
              0.2222222222222222,
              "#7201a8"
             ],
             [
              0.3333333333333333,
              "#9c179e"
             ],
             [
              0.4444444444444444,
              "#bd3786"
             ],
             [
              0.5555555555555556,
              "#d8576b"
             ],
             [
              0.6666666666666666,
              "#ed7953"
             ],
             [
              0.7777777777777778,
              "#fb9f3a"
             ],
             [
              0.8888888888888888,
              "#fdca26"
             ],
             [
              1,
              "#f0f921"
             ]
            ],
            "type": "surface"
           }
          ],
          "table": [
           {
            "cells": {
             "fill": {
              "color": "#EBF0F8"
             },
             "line": {
              "color": "white"
             }
            },
            "header": {
             "fill": {
              "color": "#C8D4E3"
             },
             "line": {
              "color": "white"
             }
            },
            "type": "table"
           }
          ]
         },
         "layout": {
          "annotationdefaults": {
           "arrowcolor": "#2a3f5f",
           "arrowhead": 0,
           "arrowwidth": 1
          },
          "autotypenumbers": "strict",
          "coloraxis": {
           "colorbar": {
            "outlinewidth": 0,
            "ticks": ""
           }
          },
          "colorscale": {
           "diverging": [
            [
             0,
             "#8e0152"
            ],
            [
             0.1,
             "#c51b7d"
            ],
            [
             0.2,
             "#de77ae"
            ],
            [
             0.3,
             "#f1b6da"
            ],
            [
             0.4,
             "#fde0ef"
            ],
            [
             0.5,
             "#f7f7f7"
            ],
            [
             0.6,
             "#e6f5d0"
            ],
            [
             0.7,
             "#b8e186"
            ],
            [
             0.8,
             "#7fbc41"
            ],
            [
             0.9,
             "#4d9221"
            ],
            [
             1,
             "#276419"
            ]
           ],
           "sequential": [
            [
             0,
             "#0d0887"
            ],
            [
             0.1111111111111111,
             "#46039f"
            ],
            [
             0.2222222222222222,
             "#7201a8"
            ],
            [
             0.3333333333333333,
             "#9c179e"
            ],
            [
             0.4444444444444444,
             "#bd3786"
            ],
            [
             0.5555555555555556,
             "#d8576b"
            ],
            [
             0.6666666666666666,
             "#ed7953"
            ],
            [
             0.7777777777777778,
             "#fb9f3a"
            ],
            [
             0.8888888888888888,
             "#fdca26"
            ],
            [
             1,
             "#f0f921"
            ]
           ],
           "sequentialminus": [
            [
             0,
             "#0d0887"
            ],
            [
             0.1111111111111111,
             "#46039f"
            ],
            [
             0.2222222222222222,
             "#7201a8"
            ],
            [
             0.3333333333333333,
             "#9c179e"
            ],
            [
             0.4444444444444444,
             "#bd3786"
            ],
            [
             0.5555555555555556,
             "#d8576b"
            ],
            [
             0.6666666666666666,
             "#ed7953"
            ],
            [
             0.7777777777777778,
             "#fb9f3a"
            ],
            [
             0.8888888888888888,
             "#fdca26"
            ],
            [
             1,
             "#f0f921"
            ]
           ]
          },
          "colorway": [
           "#636efa",
           "#EF553B",
           "#00cc96",
           "#ab63fa",
           "#FFA15A",
           "#19d3f3",
           "#FF6692",
           "#B6E880",
           "#FF97FF",
           "#FECB52"
          ],
          "font": {
           "color": "#2a3f5f"
          },
          "geo": {
           "bgcolor": "white",
           "lakecolor": "white",
           "landcolor": "#E5ECF6",
           "showlakes": true,
           "showland": true,
           "subunitcolor": "white"
          },
          "hoverlabel": {
           "align": "left"
          },
          "hovermode": "closest",
          "mapbox": {
           "style": "light"
          },
          "paper_bgcolor": "white",
          "plot_bgcolor": "#E5ECF6",
          "polar": {
           "angularaxis": {
            "gridcolor": "white",
            "linecolor": "white",
            "ticks": ""
           },
           "bgcolor": "#E5ECF6",
           "radialaxis": {
            "gridcolor": "white",
            "linecolor": "white",
            "ticks": ""
           }
          },
          "scene": {
           "xaxis": {
            "backgroundcolor": "#E5ECF6",
            "gridcolor": "white",
            "gridwidth": 2,
            "linecolor": "white",
            "showbackground": true,
            "ticks": "",
            "zerolinecolor": "white"
           },
           "yaxis": {
            "backgroundcolor": "#E5ECF6",
            "gridcolor": "white",
            "gridwidth": 2,
            "linecolor": "white",
            "showbackground": true,
            "ticks": "",
            "zerolinecolor": "white"
           },
           "zaxis": {
            "backgroundcolor": "#E5ECF6",
            "gridcolor": "white",
            "gridwidth": 2,
            "linecolor": "white",
            "showbackground": true,
            "ticks": "",
            "zerolinecolor": "white"
           }
          },
          "shapedefaults": {
           "line": {
            "color": "#2a3f5f"
           }
          },
          "ternary": {
           "aaxis": {
            "gridcolor": "white",
            "linecolor": "white",
            "ticks": ""
           },
           "baxis": {
            "gridcolor": "white",
            "linecolor": "white",
            "ticks": ""
           },
           "bgcolor": "#E5ECF6",
           "caxis": {
            "gridcolor": "white",
            "linecolor": "white",
            "ticks": ""
           }
          },
          "title": {
           "x": 0.05
          },
          "xaxis": {
           "automargin": true,
           "gridcolor": "white",
           "linecolor": "white",
           "ticks": "",
           "title": {
            "standoff": 15
           },
           "zerolinecolor": "white",
           "zerolinewidth": 2
          },
          "yaxis": {
           "automargin": true,
           "gridcolor": "white",
           "linecolor": "white",
           "ticks": "",
           "title": {
            "standoff": 15
           },
           "zerolinecolor": "white",
           "zerolinewidth": 2
          }
         }
        },
        "title": {
         "text": "3d TSNE Plot for Clusters"
        },
        "width": 900
       }
      },
      "text/html": [
       "<div>                            <div id=\"7b271421-4248-466e-bf77-7adfed929db6\" class=\"plotly-graph-div\" style=\"height:800px; width:900px;\"></div>            <script type=\"text/javascript\">                require([\"plotly\"], function(Plotly) {                    window.PLOTLYENV=window.PLOTLYENV || {};                                    if (document.getElementById(\"7b271421-4248-466e-bf77-7adfed929db6\")) {                    Plotly.newPlot(                        \"7b271421-4248-466e-bf77-7adfed929db6\",                        [{\"customdata\":[[89],[91],[92],[90],[93],[89],[88],[87],[86],[82],[91],[88],[87],[91],[90],[85],[91],[88],[85],[85],[88],[84],[88],[94],[86],[94],[89],[87],[84],[91],[91],[88],[88],[89],[91],[90],[89],[83],[83],[86],[84],[94],[94],[79],[88],[85],[82],[82],[91],[91],[89],[84],[87],[81],[93],[84],[95],[89],[86],[85],[87],[92],[89],[85],[88],[86],[94],[87],[85],[83],[87],[88],[84],[85],[91],[90],[88],[89],[88],[92],[90],[85],[88],[94],[84],[91],[88],[87],[86],[83],[83],[91],[86],[89],[92],[87],[84],[83],[83],[85],[90],[97],[92],[87],[91],[83],[87],[91],[82],[91],[90],[86],[85],[90],[84],[87],[84],[88],[91],[84],[94],[89],[92],[89],[90],[90],[88],[88],[93],[90],[87],[87],[91],[87],[87],[92],[84],[87],[87],[83],[79],[92],[91],[83],[86],[84],[82]],\"hovertemplate\":\"Cluster=Cluster 0\\u003cbr\\u003e0=%{x}\\u003cbr\\u003e1=%{y}\\u003cbr\\u003e2=%{z}\\u003cbr\\u003eFeature=%{customdata[0]}\\u003cextra\\u003e\\u003c\\u002fextra\\u003e\",\"legendgroup\":\"Cluster 0\",\"marker\":{\"color\":\"#636efa\",\"opacity\":0.7,\"symbol\":\"circle\"},\"mode\":\"markers\",\"name\":\"Cluster 0\",\"scene\":\"scene\",\"showlegend\":true,\"x\":[-14.5301895,-10.899752,-12.822586,-13.309585,-12.865278,-13.400528,-11.984292,-12.35402,-10.158243,-10.335514,-15.89967,-12.252802,-15.986625,-12.687761,-11.858115,-14.880581,-13.450477,-15.116512,-14.289982,-12.142304,-13.415137,-10.9469595,-12.481713,-13.887432,-13.522978,-12.309607,-13.59787,-14.582422,-11.617654,-12.378746,-13.900223,-14.939907,-14.222148,-15.606609,-10.715243,-14.105151,-12.7990465,-15.058737,-11.341261,-15.437854,-10.94454,-13.776421,-14.59377,-11.04234,-14.827138,-10.917594,-15.314759,-11.144578,-14.4185705,-13.165787,-14.845035,-14.382995,-12.741932,-10.772695,-13.58653,-10.015613,-12.717795,-12.513773,-10.978662,-15.231149,-14.295322,-12.562442,-15.398268,-11.638444,-10.42636,-10.088262,-13.809947,-14.942674,-10.633635,-14.862085,-11.083578,-15.436749,-11.276704,-11.287366,-13.4227295,-12.698905,-13.008398,-11.178941,-14.249645,-13.448022,-12.931671,-11.484554,-13.893529,-12.848736,-12.78328,-13.539651,-13.696094,-13.770126,-10.367966,-13.007276,-10.494281,-12.764373,-13.188056,-15.227662,-12.277402,-12.564838,-11.623229,-10.832943,-11.726304,-14.561076,-12.424806,-13.75464,-15.762435,-14.435245,-12.356912,-10.492138,-12.684138,-13.0857935,-11.074452,-13.753251,-14.453739,-14.953819,-15.721087,-15.025232,-12.830587,-13.3942175,-11.722662,-13.880711,-14.431522,-13.2565775,-13.788838,-14.022721,-12.920907,-14.601741,-12.218258,-13.0798025,-13.281353,-14.399494,-12.075246,-13.558473,-14.561828,-13.936588,-13.418385,-15.414271,-16.129885,-12.86813,-15.11588,-11.302242,-11.178982,-13.25548,-12.6103,-13.593878,-10.329001,-11.202256,-11.857059,-11.70263,-11.425216],\"y\":[-0.26983723,-5.515785,-5.7518015,-0.1795491,-6.2558894,-2.9742465,-3.8669276,-1.5863655,-4.5027537,-2.6248674,-4.2572656,-0.21562535,-3.961644,1.2311791,-6.1533403,-3.453183,-1.3722423,-0.17692718,-0.59640044,-0.54262877,0.17980827,0.055073224,-3.6831374,0.7140213,-0.9891985,1.4888016,-3.1440766,-1.084292,-2.6821113,-4.6346946,-2.0055578,-3.0149055,-0.5976985,0.7389546,-5.478404,0.82455426,0.037362855,-3.8455281,-2.699208,-3.4033716,-2.9097567,-5.6332035,-4.401951,-0.38208717,-3.7544234,-2.5611112,-1.4249214,-1.3795989,-5.2751784,-5.437454,-3.2011733,-0.5070142,-3.0836208,-1.0932364,-5.5442877,-4.4464793,-5.385513,-4.0823865,0.579959,0.045437664,-1.7114223,0.8233433,-2.930531,-2.4986303,-4.919229,-4.894656,-1.386559,-3.005315,-3.5932498,-0.20083663,0.77800107,-1.8485649,-0.73885316,-1.0717263,-4.1818647,-1.7817427,-0.10460743,-4.610778,-1.3750263,0.5377169,-4.3066387,-3.0916007,-0.80014455,-5.089246,-2.7435489,-3.212716,-5.0300117,-0.40007576,-1.8071914,0.25551215,-1.6724752,-4.6251345,-5.470151,-2.6062753,1.1797918,-3.3785062,-0.5585534,-2.5688996,-3.2543552,-0.06948528,-1.5638639,-1.4733285,-2.3755746,-3.0400522,-4.6530805,-3.1987858,-1.1049434,-4.1500854,-1.6823903,-2.8737297,-1.7185482,-1.8537248,-0.44363725,-2.3366766,-5.507736,-2.0296288,-3.4897456,-0.09168528,-2.1700597,-1.1171781,-4.7836537,-1.1625056,0.7441846,0.73194164,0.6606839,0.8787402,-5.487646,0.75005966,-6.5137553,-1.419179,-0.9067251,-0.5025409,-1.2510986,-3.5276093,-0.6968399,0.4224399,-2.8243778,-3.514417,-0.21808036,0.5979403,0.557735,-4.9494286,-5.3548827,-1.0318943,-2.9199564,-2.666858,-3.5459843],\"z\":[1.7251651,-2.942853,-3.4233549,-4.2530737,-2.8492227,-0.8465347,-1.695021,0.71228373,-1.9501485,-2.4758384,-1.1825609,-4.0666776,-0.8794139,-2.3405871,-2.296515,0.53772676,1.7988735,1.5848452,-1.5922188,-2.5829244,-0.5334104,-0.30562505,-1.4446474,-4.3371696,-0.70606065,-3.6157384,-0.7411697,0.75623906,-0.814772,-2.6910806,-0.094746664,-1.8851755,-2.8865938,-0.3601654,-3.1294408,-1.317774,-3.7102318,0.831849,-3.5782769,-0.59159124,-3.3380344,-2.8676238,-1.2462215,-2.0465791,-0.35111994,-0.92250645,-3.4220479,-1.5052029,-1.5155452,-3.6735134,0.07150504,-0.72504467,-4.0236416,-0.08853419,-1.8133367,-1.6781859,-3.133669,-1.5462832,-0.08750393,1.7235111,0.35743228,-4.1013684,-2.0512862,-1.3427478,-3.2545578,-3.6961322,2.533293,1.5173295,-3.3533013,-1.4880441,-0.010039792,-3.3878343,-3.3537226,-0.54474115,-2.8801625,1.0658201,-3.0248358,-1.9555043,1.5023713,-4.000497,-2.8839545,-3.651966,-3.229106,-1.9392225,-4.25545,-0.7020202,0.3143086,0.62095606,0.16247946,0.6368603,0.13545996,-1.7554194,0.239246,-2.0334952,-3.897908,-4.113228,-2.12457,-3.016464,-0.34497806,-0.4641305,1.5707545,2.8168676,0.33768684,0.2906331,-2.017848,-3.0721183,-0.31728312,-3.851644,-3.5401742,0.37667796,1.8071169,1.4789592,1.2585481,-0.9891966,0.19172889,-3.847849,0.3831826,-2.2948813,1.8810809,-3.0520253,-1.6166521,-0.052627455,-4.080214,0.71988684,-3.9203093,-2.16255,-0.11918207,-1.398057,-1.5148944,1.1005565,-1.7115948,-2.6515229,1.4225845,-1.5650381,0.9301111,-4.398741,-2.7050648,-3.6136343,-4.00838,0.5875553,0.6441447,-2.062145,-3.1382308,-1.0816364,-1.607124,-3.8536694,0.14454842],\"type\":\"scatter3d\"},{\"customdata\":[[65],[57],[65],[59],[61],[60],[55],[63],[62],[59],[67],[58],[66],[58],[57],[57],[66],[59],[68],[61],[58],[59],[61],[64],[63],[64],[62],[61],[62],[67],[61],[57],[63],[56],[51],[59],[58],[55],[61],[55],[58],[68],[58],[67],[56],[59],[59],[57],[60],[67],[61],[60],[59],[57],[59],[59],[58],[63],[61],[56],[58],[56],[59],[61],[60],[56],[63],[58],[59],[62],[59],[59],[65],[64],[59],[59],[61],[64],[58],[57],[58],[56],[63],[58],[60],[58],[62],[66],[66],[63],[64],[62],[62],[60],[65],[60],[63],[56],[58],[62],[56],[59],[65],[62],[59],[64],[66],[59],[59],[59],[62],[59],[54],[61],[55],[53],[55],[61],[59],[59],[56],[61],[61],[60],[57],[61],[55],[53],[61],[64],[62],[55],[58],[57],[58],[64],[57],[63],[53],[56],[60],[55],[60],[61],[62],[61],[56],[64],[62],[62],[62],[58],[56],[58],[58],[60],[59]],\"hovertemplate\":\"Cluster=Cluster 1\\u003cbr\\u003e0=%{x}\\u003cbr\\u003e1=%{y}\\u003cbr\\u003e2=%{z}\\u003cbr\\u003eFeature=%{customdata[0]}\\u003cextra\\u003e\\u003c\\u002fextra\\u003e\",\"legendgroup\":\"Cluster 1\",\"marker\":{\"color\":\"#EF553B\",\"opacity\":0.7,\"symbol\":\"circle\"},\"mode\":\"markers\",\"name\":\"Cluster 1\",\"scene\":\"scene\",\"showlegend\":true,\"x\":[1.5877942,0.24018243,3.1924262,6.4254146,3.0183492,5.368093,3.460411,3.7451885,3.5762691,5.076271,3.877047,2.1790268,2.091472,5.9669423,1.9687382,7.0866876,3.187489,2.462499,4.2708592,0.56539035,6.3864646,5.5578613,1.2947983,3.8266685,1.4085251,2.9073052,5.4221034,1.6611125,5.5730386,3.4875598,2.8869019,2.265324,6.428273,2.8395498,7.1344643,6.4839206,2.263128,0.84116477,5.0815096,2.186639,6.54268,3.2839894,1.6718644,4.872632,4.921188,5.3033514,5.5231895,6.8129697,0.89471513,4.48839,3.538268,2.8393743,0.2579149,1.0417293,3.6239934,0.7398455,2.475616,3.1424787,2.904558,2.4208393,0.87077045,6.0812206,4.0419836,5.0146146,1.2682949,5.5195346,2.6396785,5.8564734,2.3471951,4.198161,2.662516,1.6802278,3.1020753,1.4525744,0.4857475,5.048865,0.8964075,3.686636,5.8956113,6.053568,3.7199013,2.780796,4.6627884,2.6073244,6.0947385,0.6308178,2.00667,4.3576193,4.1722784,5.849169,5.416343,3.0355637,1.4651666,4.760745,4.010563,1.0068611,5.2324686,5.373287,5.0956354,1.923249,0.3157356,0.9096429,4.1493006,1.080149,4.255559,4.4632525,4.000497,3.3677027,5.7581496,6.2718797,2.0193653,3.0793767,6.447358,5.129014,1.9621991,3.648551,5.1057196,3.7660556,4.201039,1.6122414,0.9000411,5.1931877,4.573287,3.9776363,0.86512965,4.655265,6.6708593,0.45899945,5.772678,1.4593067,5.9786797,1.9317161,1.5731391,5.7012525,3.0097873,1.9565786,5.8747573,2.2977765,1.9103324,0.52773345,1.4745586,7.463234,1.5918909,2.007461,1.4448992,4.169233,4.475904,4.233341,4.301635,4.226805,2.1866949,6.718115,2.284361,5.184599,6.7738886,5.116605,0.46089503],\"y\":[-6.403809,-4.9416275,-10.732146,-7.0940037,-10.893708,-4.4788055,-3.7049398,-7.9661174,-4.6871,-4.234712,-3.8408926,-4.338369,-6.0208497,-4.796088,-6.809366,-7.0493684,-6.7309084,-4.909286,-6.029139,-6.9283323,-8.488361,-7.7997546,-5.8246617,-5.99839,-8.7293,-6.416635,-5.390954,-5.8700976,-4.3177066,-6.480016,-7.4874196,-6.713015,-6.4303765,-10.310381,-9.205278,-6.3397717,-9.737228,-5.7680044,-3.5645328,-10.076537,-8.927727,-6.114777,-10.421641,-4.8074374,-9.57498,-9.753447,-7.991285,-6.709143,-6.033265,-6.5534086,-5.617165,-8.654756,-6.458858,-5.3153396,-5.427384,-5.7201185,-8.856605,-7.211045,-7.3874774,-3.963263,-7.732811,-8.6335535,-8.478454,-9.271813,-8.232022,-9.30921,-9.538874,-7.858706,-9.98117,-7.190323,-4.778051,-10.3868475,-6.9209313,-9.183208,-7.145342,-9.336653,-7.8691254,-4.4568186,-7.8780546,-8.063037,-3.9991682,-10.685988,-7.724858,-7.9578376,-4.958908,-6.2238164,-5.6537995,-6.070939,-3.8728685,-5.099189,-7.4624896,-4.733895,-8.4899845,-10.034089,-5.162252,-7.7028184,-4.7503066,-9.2042265,-9.140908,-6.7526035,-6.636681,-6.0498495,-5.043895,-6.793676,-7.9649587,-7.7491636,-6.368987,-11.306882,-6.939519,-5.5725164,-11.085992,-8.66956,-8.9501095,-9.408984,-9.628813,-3.5249856,-10.324881,-8.484523,-7.469063,-7.487065,-7.475398,-4.278588,-7.6822286,-7.963821,-7.9281435,-8.486085,-8.334847,-6.8497977,-4.6910896,-8.719811,-5.5155077,-9.38142,-8.463057,-8.510189,-10.013846,-5.76817,-6.1655807,-7.407691,-10.101531,-6.720314,-9.834039,-7.0317,-4.1820416,-10.516677,-6.659903,-10.650355,-10.601033,-7.564647,-7.8965807,-6.2770576,-6.0147753,-7.1288767,-6.732615,-8.74833,-7.3617005,-7.867588,-6.148115],\"z\":[0.122694805,1.2208827,3.651266,3.1342309,3.4073687,2.2214694,0.43908566,0.5901009,3.343621,0.41756043,3.446494,-0.20856287,-1.2278465,1.7908505,3.6034226,0.42285216,0.62267846,1.9297861,-1.3681303,0.011097904,3.3823173,0.5722825,0.8812642,-1.1046925,4.6267576,-1.2649673,2.5739899,1.817432,0.8378349,0.8670631,-0.94935966,2.5875552,3.084622,0.27284893,0.5933797,-0.48355946,-0.23013592,3.2172723,1.2375809,0.6949074,3.2507315,0.6859966,3.2186782,-1.0181519,1.6544946,3.1701648,-1.8061638,-0.1020185,1.227255,-1.6932344,2.9709828,0.8598117,0.28859472,2.8008163,4.418509,1.8358982,1.9555063,1.2923473,1.5680444,1.9773812,0.12547287,0.3642959,3.263706,3.1443813,3.8149123,0.5882889,-0.88359666,0.048393875,-0.2071201,2.662763,1.9443318,3.3517067,0.24716696,4.2620363,-0.97122383,2.761945,2.5106297,3.2289524,0.13512738,0.3283996,1.0636109,-0.28324974,-1.9813638,2.4460592,-0.02909263,1.7327808,0.15605156,-0.27425554,3.1697898,1.7992663,2.867903,3.1367137,4.223498,3.300378,3.008628,1.4824209,-0.6664789,-0.6671616,1.3229083,1.1195581,2.3101006,1.9341133,3.0406656,-1.0756941,3.3699758,-2.110512,-1.7181925,3.2673767,1.0951837,-0.37344363,2.9596612,1.0593804,0.3964908,3.2530944,1.5221342,0.23398057,1.8048689,0.38892812,3.6815295,1.9493207,3.9059653,0.5232578,3.8894987,2.7373552,0.26553115,2.3304794,0.5742515,3.9132113,1.9430902,4.525414,2.4543111,1.6576253,0.68831396,-0.15409541,0.5664395,-1.1938655,0.75896627,1.1563424,1.0091074,3.8340213,3.5282753,0.8728224,2.3826718,3.3769732,1.3586235,3.4771886,3.281582,-2.08028,-0.30600363,2.622103,1.9379746,-0.2650631,3.612116,0.18373786,-0.77166194,3.5992785,0.96068877],\"type\":\"scatter3d\"},{\"customdata\":[[36],[29],[31],[31],[38],[30],[39],[36],[35],[30],[29],[33],[33],[32],[38],[37],[35],[36],[32],[31],[37],[36],[31],[37],[35],[35],[37],[34],[44],[31],[25],[22],[29],[31],[38],[33],[33],[29],[32],[30],[31],[31],[30],[36],[30],[28],[37],[29],[31],[33],[32],[36],[36],[29],[31],[34],[39],[36],[34],[37],[25],[31],[35],[28],[33],[31],[28],[39],[31],[27],[34],[29],[43],[33],[26],[24],[31],[29],[33],[36],[31],[40],[42],[32],[37],[34],[33],[35],[37],[28],[33],[33],[29],[28],[31],[37],[31],[33],[30],[30],[34],[30],[30],[29],[30],[34],[37],[34],[38],[33],[34],[30],[35],[36],[29],[32],[35],[28],[31],[34],[35],[33],[28],[32],[34],[35]],\"hovertemplate\":\"Cluster=Cluster 2\\u003cbr\\u003e0=%{x}\\u003cbr\\u003e1=%{y}\\u003cbr\\u003e2=%{z}\\u003cbr\\u003eFeature=%{customdata[0]}\\u003cextra\\u003e\\u003c\\u002fextra\\u003e\",\"legendgroup\":\"Cluster 2\",\"marker\":{\"color\":\"#00cc96\",\"opacity\":0.7,\"symbol\":\"circle\"},\"mode\":\"markers\",\"name\":\"Cluster 2\",\"scene\":\"scene\",\"showlegend\":true,\"x\":[0.80933493,1.1225106,0.86840147,2.531172,1.7896224,0.2098585,0.9128103,1.8717548,-1.0516757,2.0907466,3.26676,-0.8415666,1.1548164,1.2158821,1.8711306,0.5602583,0.771745,0.9157467,-0.2657252,3.0488105,-2.1088042,1.3548628,2.336824,1.5837717,0.8815189,1.1415111,1.5309974,0.068620056,1.6970102,-0.63292885,-1.4988396,0.39990374,-1.159077,-0.3909846,0.83878845,-0.16784751,1.8382825,0.122933835,-0.17168947,0.19339132,0.6241849,1.4131829,1.7283467,-1.6929057,2.127459,2.5295062,0.4784266,3.8279645,2.722567,0.22067338,3.0719273,-1.6468146,-1.3155538,2.5506396,-1.5456759,-0.5672082,-2.7690063,-0.41361246,-1.7863759,1.4001837,1.503259,2.5641615,0.5202673,-1.8784838,3.0999734,2.0462317,-1.3021246,0.97560185,1.4587379,-1.5952214,1.9884754,3.7019434,0.6049414,1.8348286,-1.6133626,0.096794605,1.8018428,3.6091797,1.1766587,0.75157404,2.61,-2.0354736,0.9646351,-0.30160695,0.21063082,1.1033509,2.2697425,2.692245,-2.0799093,1.1922354,-1.3068315,0.3964534,-0.16672365,-1.5844994,1.8781635,1.2290958,1.0198874,1.5927331,-1.7263447,2.0228822,-2.8438506,2.7114575,1.5012087,-0.6317531,-1.7675159,1.3987286,0.4784474,-0.25958624,1.852037,-2.2901487,2.9213028,1.7206414,1.683966,0.81894594,2.1665382,-1.8905282,-0.5290471,3.3769886,0.13563547,2.2607658,-1.4023483,1.5121176,-0.83347243,2.0547445,1.5039283,2.140049],\"y\":[7.465861,7.155077,11.931073,11.40266,6.064934,12.585527,5.714553,9.842383,8.708088,7.647929,10.643015,7.6500545,10.025098,11.039455,11.107127,10.044946,7.052612,8.765952,6.6821313,10.874005,8.990749,10.543907,8.160986,11.21314,8.673855,8.392356,11.911712,9.264906,11.443937,7.758051,9.50314,6.6052895,8.516426,6.9127083,5.5857105,11.679648,9.288711,9.724766,7.680848,10.098701,12.5113325,12.49947,10.144794,7.626578,7.021241,8.190452,6.3349476,9.950625,11.981682,9.28137,11.581156,7.7365694,7.4213552,8.664646,9.406227,7.2917295,8.3678,12.980406,8.607834,11.604708,6.652875,11.916136,10.2816105,9.30017,9.824042,12.1426525,8.61465,5.699031,12.181691,10.286583,10.693032,9.768226,11.971769,10.05043,8.668479,6.824318,7.9651055,9.846499,9.958232,8.491381,8.551865,7.329846,11.480545,11.634524,10.8869,10.211021,12.587782,9.105628,7.7835236,13.184125,9.1173725,13.0125065,12.1197815,9.147124,8.848783,8.448611,12.798777,8.700776,9.681738,7.901033,8.955786,8.796955,12.797767,10.150747,9.436208,9.126905,10.797656,12.41346,10.686751,9.137047,9.284176,11.371663,9.963866,10.9833975,7.6848917,8.49281,9.959953,10.195885,11.046487,10.303159,8.683615,8.32843,9.072487,11.916526,8.468101,12.23492],\"z\":[0.6424842,-1.2225711,-2.213609,-1.5820199,-0.73330325,-1.8281392,-0.22532816,-0.10528702,0.96609664,-2.83583,-1.3743213,-1.2292844,-4.5690446,-1.7831861,0.8005066,0.75299674,0.35274616,-1.6686183,0.6444083,-1.1724315,0.9905801,-3.5946164,-1.751188,0.4076702,-0.67557627,-0.3411564,0.23865096,-1.0346613,1.5841553,0.85993475,-3.0233166,-3.0965877,-2.5397134,0.4338265,-0.34905666,-1.5256263,-0.93414086,-2.8997648,0.99933696,-2.9119873,-2.9933593,-2.3439767,-3.9767392,-0.06668282,-2.477554,-2.662688,0.82981515,-0.15208398,-1.2603426,-1.6565914,-0.70668435,-1.0443141,-0.7185427,-1.7110612,-1.5732745,-0.87814134,-0.07558425,-2.485468,-0.03881679,0.22674225,-2.342885,-3.582493,0.44939053,-2.1577792,0.6515573,-1.6536746,-2.9328716,-0.28504905,-2.1116624,-2.4236395,-3.420065,-0.0120764,1.8058125,-3.7868297,-2.9260547,-3.4025853,-0.43788934,-1.7604669,-4.318699,0.41300052,1.1881423,-0.34434158,1.5308253,-2.167821,0.0069484934,-4.863737,-1.1813084,1.292943,-0.3910225,-1.7300237,1.0660808,-2.7529323,-3.8197348,-2.477088,-3.1791685,-2.8572,-2.3607059,-0.78838193,0.21532479,-0.13066182,-0.05264334,-1.8696239,-2.9562454,-2.5957072,-1.6433513,-0.5472868,0.27301586,-2.3068788,1.04025,-0.72319055,1.2114344,-1.8089968,-3.300093,-0.29165998,0.369414,-1.4904448,-0.84349054,-1.8780596,-2.1340911,-0.32974645,0.8894448,-0.15040116,-3.0165186,-1.6106863,-2.8854637,-0.6650747],\"type\":\"scatter3d\"},{\"customdata\":[[20],[26],[17],[25],[18],[28],[28],[21],[17],[24],[24],[30],[23],[25],[23],[26],[22],[29],[22],[25],[23],[25],[21],[28],[27],[27],[25],[20],[17],[24],[24],[27],[28],[29],[20],[28],[31],[26],[26],[23],[24],[24],[29],[25],[24],[22],[26],[17],[28],[18]],\"hovertemplate\":\"Cluster=Cluster 3\\u003cbr\\u003e0=%{x}\\u003cbr\\u003e1=%{y}\\u003cbr\\u003e2=%{z}\\u003cbr\\u003eFeature=%{customdata[0]}\\u003cextra\\u003e\\u003c\\u002fextra\\u003e\",\"legendgroup\":\"Cluster 3\",\"marker\":{\"color\":\"#ab63fa\",\"opacity\":0.7,\"symbol\":\"circle\"},\"mode\":\"markers\",\"name\":\"Cluster 3\",\"scene\":\"scene\",\"showlegend\":true,\"x\":[13.426993,14.040075,13.741233,14.594615,14.977818,13.3811865,13.380893,13.933099,14.696984,15.514482,16.451769,13.118057,15.628067,14.836494,14.976812,13.352985,14.425635,15.800178,15.865109,14.528646,13.50016,14.259103,15.749831,13.556166,13.81035,13.079272,13.121335,13.6493635,16.809036,15.713165,14.64424,14.5104685,13.806704,15.233025,13.568108,14.964946,14.833042,14.924542,12.81083,15.418081,15.298951,14.551638,15.129722,15.631506,13.263893,12.630817,15.420373,14.661259,16.16345,13.824156],\"y\":[2.6963062,1.5744835,3.9773755,2.1565201,2.1310306,2.542771,2.0712898,3.3612485,3.330467,3.0818717,4.352438,1.842378,3.821893,3.4202707,2.8240771,4.3081913,1.9494256,2.9260626,3.8600192,1.7502245,2.917539,2.989321,3.4000885,1.8462265,3.5419772,3.0447083,2.2622736,2.0550592,4.5853887,3.1176138,2.9757712,4.7818947,4.688346,2.0105138,3.1681554,4.5574985,4.480923,2.6253262,2.2325823,3.4738014,4.1091475,3.0022657,4.6501617,4.186349,3.059933,3.651356,3.96861,3.4573436,4.872709,2.2444806],\"z\":[1.0231142,-0.83506167,1.0874364,-0.19420299,-1.5886887,-1.4758828,-1.1532451,0.97015333,1.5322279,0.037284046,-0.3478647,-0.9605988,0.7557963,0.16784197,-0.24785654,-0.053569976,0.46654987,-0.6885311,-0.07025763,-0.8602145,-0.7875607,0.40992227,-1.4793355,-0.44039276,-0.7993475,-0.65614086,-0.72735,0.6673874,-0.61155033,-1.0797793,0.90118885,-0.4050657,-0.29260072,1.2863562,-0.053195305,-0.35493568,-1.2805482,-0.072256684,0.023617702,-0.92478657,-0.47859356,0.3576148,-1.1572526,0.66686535,-0.57517177,0.45160887,-0.92489207,1.5991398,-1.1362883,1.0441523],\"type\":\"scatter3d\"},{\"customdata\":[[84],[85],[84],[83],[93],[88],[82],[84],[87],[92],[90],[86],[88],[86],[84],[88],[82],[89],[85],[77],[83],[86],[83],[90],[91]],\"hovertemplate\":\"Cluster=Cluster 4\\u003cbr\\u003e0=%{x}\\u003cbr\\u003e1=%{y}\\u003cbr\\u003e2=%{z}\\u003cbr\\u003eFeature=%{customdata[0]}\\u003cextra\\u003e\\u003c\\u002fextra\\u003e\",\"legendgroup\":\"Cluster 4\",\"marker\":{\"color\":\"#FFA15A\",\"opacity\":0.7,\"symbol\":\"circle\"},\"mode\":\"markers\",\"name\":\"Cluster 4\",\"scene\":\"scene\",\"showlegend\":true,\"x\":[-2.991693,-3.5514383,-2.5495892,-2.328439,-3.885866,-3.473513,-3.0160263,-2.6629772,-2.834477,-3.6551998,-3.805235,-2.7991924,-3.4343972,-3.5889,-2.7909057,-3.3543944,-2.7226388,-3.1966836,-2.6220481,-2.9086978,-2.6520355,-3.4665604,-3.1779761,-3.3296292,-3.924702],\"y\":[5.0463443,5.463428,5.9677415,5.525206,6.207604,6.384635,6.44,5.3612356,5.341664,5.813181,6.0328226,6.0313344,5.3745055,6.3100214,6.185697,5.6252217,6.210393,5.215798,5.3567023,6.6864066,5.8690686,5.269663,6.1237183,5.648761,5.575653],\"z\":[9.549345,8.972875,9.730921,9.564785,9.85191,10.083748,9.735048,8.865618,10.178664,10.237049,9.404759,10.379877,9.958266,9.155966,10.078739,8.535873,9.03973,9.079239,9.755252,9.485831,9.15182,9.56265,8.981186,10.530741,9.745144],\"type\":\"scatter3d\"}],                        {\"template\":{\"data\":{\"histogram2dcontour\":[{\"type\":\"histogram2dcontour\",\"colorbar\":{\"outlinewidth\":0,\"ticks\":\"\"},\"colorscale\":[[0.0,\"#0d0887\"],[0.1111111111111111,\"#46039f\"],[0.2222222222222222,\"#7201a8\"],[0.3333333333333333,\"#9c179e\"],[0.4444444444444444,\"#bd3786\"],[0.5555555555555556,\"#d8576b\"],[0.6666666666666666,\"#ed7953\"],[0.7777777777777778,\"#fb9f3a\"],[0.8888888888888888,\"#fdca26\"],[1.0,\"#f0f921\"]]}],\"choropleth\":[{\"type\":\"choropleth\",\"colorbar\":{\"outlinewidth\":0,\"ticks\":\"\"}}],\"histogram2d\":[{\"type\":\"histogram2d\",\"colorbar\":{\"outlinewidth\":0,\"ticks\":\"\"},\"colorscale\":[[0.0,\"#0d0887\"],[0.1111111111111111,\"#46039f\"],[0.2222222222222222,\"#7201a8\"],[0.3333333333333333,\"#9c179e\"],[0.4444444444444444,\"#bd3786\"],[0.5555555555555556,\"#d8576b\"],[0.6666666666666666,\"#ed7953\"],[0.7777777777777778,\"#fb9f3a\"],[0.8888888888888888,\"#fdca26\"],[1.0,\"#f0f921\"]]}],\"heatmap\":[{\"type\":\"heatmap\",\"colorbar\":{\"outlinewidth\":0,\"ticks\":\"\"},\"colorscale\":[[0.0,\"#0d0887\"],[0.1111111111111111,\"#46039f\"],[0.2222222222222222,\"#7201a8\"],[0.3333333333333333,\"#9c179e\"],[0.4444444444444444,\"#bd3786\"],[0.5555555555555556,\"#d8576b\"],[0.6666666666666666,\"#ed7953\"],[0.7777777777777778,\"#fb9f3a\"],[0.8888888888888888,\"#fdca26\"],[1.0,\"#f0f921\"]]}],\"heatmapgl\":[{\"type\":\"heatmapgl\",\"colorbar\":{\"outlinewidth\":0,\"ticks\":\"\"},\"colorscale\":[[0.0,\"#0d0887\"],[0.1111111111111111,\"#46039f\"],[0.2222222222222222,\"#7201a8\"],[0.3333333333333333,\"#9c179e\"],[0.4444444444444444,\"#bd3786\"],[0.5555555555555556,\"#d8576b\"],[0.6666666666666666,\"#ed7953\"],[0.7777777777777778,\"#fb9f3a\"],[0.8888888888888888,\"#fdca26\"],[1.0,\"#f0f921\"]]}],\"contourcarpet\":[{\"type\":\"contourcarpet\",\"colorbar\":{\"outlinewidth\":0,\"ticks\":\"\"}}],\"contour\":[{\"type\":\"contour\",\"colorbar\":{\"outlinewidth\":0,\"ticks\":\"\"},\"colorscale\":[[0.0,\"#0d0887\"],[0.1111111111111111,\"#46039f\"],[0.2222222222222222,\"#7201a8\"],[0.3333333333333333,\"#9c179e\"],[0.4444444444444444,\"#bd3786\"],[0.5555555555555556,\"#d8576b\"],[0.6666666666666666,\"#ed7953\"],[0.7777777777777778,\"#fb9f3a\"],[0.8888888888888888,\"#fdca26\"],[1.0,\"#f0f921\"]]}],\"surface\":[{\"type\":\"surface\",\"colorbar\":{\"outlinewidth\":0,\"ticks\":\"\"},\"colorscale\":[[0.0,\"#0d0887\"],[0.1111111111111111,\"#46039f\"],[0.2222222222222222,\"#7201a8\"],[0.3333333333333333,\"#9c179e\"],[0.4444444444444444,\"#bd3786\"],[0.5555555555555556,\"#d8576b\"],[0.6666666666666666,\"#ed7953\"],[0.7777777777777778,\"#fb9f3a\"],[0.8888888888888888,\"#fdca26\"],[1.0,\"#f0f921\"]]}],\"mesh3d\":[{\"type\":\"mesh3d\",\"colorbar\":{\"outlinewidth\":0,\"ticks\":\"\"}}],\"scatter\":[{\"fillpattern\":{\"fillmode\":\"overlay\",\"size\":10,\"solidity\":0.2},\"type\":\"scatter\"}],\"parcoords\":[{\"type\":\"parcoords\",\"line\":{\"colorbar\":{\"outlinewidth\":0,\"ticks\":\"\"}}}],\"scatterpolargl\":[{\"type\":\"scatterpolargl\",\"marker\":{\"colorbar\":{\"outlinewidth\":0,\"ticks\":\"\"}}}],\"bar\":[{\"error_x\":{\"color\":\"#2a3f5f\"},\"error_y\":{\"color\":\"#2a3f5f\"},\"marker\":{\"line\":{\"color\":\"#E5ECF6\",\"width\":0.5},\"pattern\":{\"fillmode\":\"overlay\",\"size\":10,\"solidity\":0.2}},\"type\":\"bar\"}],\"scattergeo\":[{\"type\":\"scattergeo\",\"marker\":{\"colorbar\":{\"outlinewidth\":0,\"ticks\":\"\"}}}],\"scatterpolar\":[{\"type\":\"scatterpolar\",\"marker\":{\"colorbar\":{\"outlinewidth\":0,\"ticks\":\"\"}}}],\"histogram\":[{\"marker\":{\"pattern\":{\"fillmode\":\"overlay\",\"size\":10,\"solidity\":0.2}},\"type\":\"histogram\"}],\"scattergl\":[{\"type\":\"scattergl\",\"marker\":{\"colorbar\":{\"outlinewidth\":0,\"ticks\":\"\"}}}],\"scatter3d\":[{\"type\":\"scatter3d\",\"line\":{\"colorbar\":{\"outlinewidth\":0,\"ticks\":\"\"}},\"marker\":{\"colorbar\":{\"outlinewidth\":0,\"ticks\":\"\"}}}],\"scattermapbox\":[{\"type\":\"scattermapbox\",\"marker\":{\"colorbar\":{\"outlinewidth\":0,\"ticks\":\"\"}}}],\"scatterternary\":[{\"type\":\"scatterternary\",\"marker\":{\"colorbar\":{\"outlinewidth\":0,\"ticks\":\"\"}}}],\"scattercarpet\":[{\"type\":\"scattercarpet\",\"marker\":{\"colorbar\":{\"outlinewidth\":0,\"ticks\":\"\"}}}],\"carpet\":[{\"aaxis\":{\"endlinecolor\":\"#2a3f5f\",\"gridcolor\":\"white\",\"linecolor\":\"white\",\"minorgridcolor\":\"white\",\"startlinecolor\":\"#2a3f5f\"},\"baxis\":{\"endlinecolor\":\"#2a3f5f\",\"gridcolor\":\"white\",\"linecolor\":\"white\",\"minorgridcolor\":\"white\",\"startlinecolor\":\"#2a3f5f\"},\"type\":\"carpet\"}],\"table\":[{\"cells\":{\"fill\":{\"color\":\"#EBF0F8\"},\"line\":{\"color\":\"white\"}},\"header\":{\"fill\":{\"color\":\"#C8D4E3\"},\"line\":{\"color\":\"white\"}},\"type\":\"table\"}],\"barpolar\":[{\"marker\":{\"line\":{\"color\":\"#E5ECF6\",\"width\":0.5},\"pattern\":{\"fillmode\":\"overlay\",\"size\":10,\"solidity\":0.2}},\"type\":\"barpolar\"}],\"pie\":[{\"automargin\":true,\"type\":\"pie\"}]},\"layout\":{\"autotypenumbers\":\"strict\",\"colorway\":[\"#636efa\",\"#EF553B\",\"#00cc96\",\"#ab63fa\",\"#FFA15A\",\"#19d3f3\",\"#FF6692\",\"#B6E880\",\"#FF97FF\",\"#FECB52\"],\"font\":{\"color\":\"#2a3f5f\"},\"hovermode\":\"closest\",\"hoverlabel\":{\"align\":\"left\"},\"paper_bgcolor\":\"white\",\"plot_bgcolor\":\"#E5ECF6\",\"polar\":{\"bgcolor\":\"#E5ECF6\",\"angularaxis\":{\"gridcolor\":\"white\",\"linecolor\":\"white\",\"ticks\":\"\"},\"radialaxis\":{\"gridcolor\":\"white\",\"linecolor\":\"white\",\"ticks\":\"\"}},\"ternary\":{\"bgcolor\":\"#E5ECF6\",\"aaxis\":{\"gridcolor\":\"white\",\"linecolor\":\"white\",\"ticks\":\"\"},\"baxis\":{\"gridcolor\":\"white\",\"linecolor\":\"white\",\"ticks\":\"\"},\"caxis\":{\"gridcolor\":\"white\",\"linecolor\":\"white\",\"ticks\":\"\"}},\"coloraxis\":{\"colorbar\":{\"outlinewidth\":0,\"ticks\":\"\"}},\"colorscale\":{\"sequential\":[[0.0,\"#0d0887\"],[0.1111111111111111,\"#46039f\"],[0.2222222222222222,\"#7201a8\"],[0.3333333333333333,\"#9c179e\"],[0.4444444444444444,\"#bd3786\"],[0.5555555555555556,\"#d8576b\"],[0.6666666666666666,\"#ed7953\"],[0.7777777777777778,\"#fb9f3a\"],[0.8888888888888888,\"#fdca26\"],[1.0,\"#f0f921\"]],\"sequentialminus\":[[0.0,\"#0d0887\"],[0.1111111111111111,\"#46039f\"],[0.2222222222222222,\"#7201a8\"],[0.3333333333333333,\"#9c179e\"],[0.4444444444444444,\"#bd3786\"],[0.5555555555555556,\"#d8576b\"],[0.6666666666666666,\"#ed7953\"],[0.7777777777777778,\"#fb9f3a\"],[0.8888888888888888,\"#fdca26\"],[1.0,\"#f0f921\"]],\"diverging\":[[0,\"#8e0152\"],[0.1,\"#c51b7d\"],[0.2,\"#de77ae\"],[0.3,\"#f1b6da\"],[0.4,\"#fde0ef\"],[0.5,\"#f7f7f7\"],[0.6,\"#e6f5d0\"],[0.7,\"#b8e186\"],[0.8,\"#7fbc41\"],[0.9,\"#4d9221\"],[1,\"#276419\"]]},\"xaxis\":{\"gridcolor\":\"white\",\"linecolor\":\"white\",\"ticks\":\"\",\"title\":{\"standoff\":15},\"zerolinecolor\":\"white\",\"automargin\":true,\"zerolinewidth\":2},\"yaxis\":{\"gridcolor\":\"white\",\"linecolor\":\"white\",\"ticks\":\"\",\"title\":{\"standoff\":15},\"zerolinecolor\":\"white\",\"automargin\":true,\"zerolinewidth\":2},\"scene\":{\"xaxis\":{\"backgroundcolor\":\"#E5ECF6\",\"gridcolor\":\"white\",\"linecolor\":\"white\",\"showbackground\":true,\"ticks\":\"\",\"zerolinecolor\":\"white\",\"gridwidth\":2},\"yaxis\":{\"backgroundcolor\":\"#E5ECF6\",\"gridcolor\":\"white\",\"linecolor\":\"white\",\"showbackground\":true,\"ticks\":\"\",\"zerolinecolor\":\"white\",\"gridwidth\":2},\"zaxis\":{\"backgroundcolor\":\"#E5ECF6\",\"gridcolor\":\"white\",\"linecolor\":\"white\",\"showbackground\":true,\"ticks\":\"\",\"zerolinecolor\":\"white\",\"gridwidth\":2}},\"shapedefaults\":{\"line\":{\"color\":\"#2a3f5f\"}},\"annotationdefaults\":{\"arrowcolor\":\"#2a3f5f\",\"arrowhead\":0,\"arrowwidth\":1},\"geo\":{\"bgcolor\":\"white\",\"landcolor\":\"#E5ECF6\",\"subunitcolor\":\"white\",\"showland\":true,\"showlakes\":true,\"lakecolor\":\"white\"},\"title\":{\"x\":0.05},\"mapbox\":{\"style\":\"light\"}}},\"scene\":{\"domain\":{\"x\":[0.0,1.0],\"y\":[0.0,1.0]},\"xaxis\":{\"title\":{\"text\":\"0\"}},\"yaxis\":{\"title\":{\"text\":\"1\"}},\"zaxis\":{\"title\":{\"text\":\"2\"}}},\"legend\":{\"title\":{\"text\":\"Cluster\"},\"tracegroupgap\":0},\"title\":{\"text\":\"3d TSNE Plot for Clusters\"},\"height\":800,\"width\":900},                        {\"responsive\": true}                    ).then(function(){\n",
       "                            \n",
       "var gd = document.getElementById('7b271421-4248-466e-bf77-7adfed929db6');\n",
       "var x = new MutationObserver(function (mutations, observer) {{\n",
       "        var display = window.getComputedStyle(gd).display;\n",
       "        if (!display || display === 'none') {{\n",
       "            console.log([gd, 'removed!']);\n",
       "            Plotly.purge(gd);\n",
       "            observer.disconnect();\n",
       "        }}\n",
       "}});\n",
       "\n",
       "// Listen for the removal of the full notebook cells\n",
       "var notebookContainer = gd.closest('#notebook-container');\n",
       "if (notebookContainer) {{\n",
       "    x.observe(notebookContainer, {childList: true});\n",
       "}}\n",
       "\n",
       "// Listen for the clearing of the current output cell\n",
       "var outputEl = gd.closest('.output');\n",
       "if (outputEl) {{\n",
       "    x.observe(outputEl, {childList: true});\n",
       "}}\n",
       "\n",
       "                        })                };                });            </script>        </div>"
      ]
     },
     "metadata": {},
     "output_type": "display_data"
    }
   ],
   "source": [
    "setup(data = jewelleryDataSet, normalize = True, normalize_method = 'zscore', verbose=False)\n",
    "x = create_model('kmeans', num_clusters = 5)\n",
    "plot_model(x, plot = 'tsne')"
   ]
  },
  {
   "cell_type": "code",
   "execution_count": 41,
   "id": "30511a66",
   "metadata": {},
   "outputs": [
    {
     "data": {
      "text/html": [],
      "text/plain": [
       "<IPython.core.display.HTML object>"
      ]
     },
     "metadata": {},
     "output_type": "display_data"
    },
    {
     "data": {
      "text/html": [
       "<style type=\"text/css\">\n",
       "</style>\n",
       "<table id=\"T_dd401\">\n",
       "  <thead>\n",
       "    <tr>\n",
       "      <th class=\"blank level0\" >&nbsp;</th>\n",
       "      <th id=\"T_dd401_level0_col0\" class=\"col_heading level0 col0\" >Silhouette</th>\n",
       "      <th id=\"T_dd401_level0_col1\" class=\"col_heading level0 col1\" >Calinski-Harabasz</th>\n",
       "      <th id=\"T_dd401_level0_col2\" class=\"col_heading level0 col2\" >Davies-Bouldin</th>\n",
       "      <th id=\"T_dd401_level0_col3\" class=\"col_heading level0 col3\" >Homogeneity</th>\n",
       "      <th id=\"T_dd401_level0_col4\" class=\"col_heading level0 col4\" >Rand Index</th>\n",
       "      <th id=\"T_dd401_level0_col5\" class=\"col_heading level0 col5\" >Completeness</th>\n",
       "    </tr>\n",
       "  </thead>\n",
       "  <tbody>\n",
       "    <tr>\n",
       "      <th id=\"T_dd401_level0_row0\" class=\"row_heading level0 row0\" >0</th>\n",
       "      <td id=\"T_dd401_row0_col0\" class=\"data row0 col0\" >0.7809</td>\n",
       "      <td id=\"T_dd401_row0_col1\" class=\"data row0 col1\" >3519.5778</td>\n",
       "      <td id=\"T_dd401_row0_col2\" class=\"data row0 col2\" >0.3135</td>\n",
       "      <td id=\"T_dd401_row0_col3\" class=\"data row0 col3\" >0</td>\n",
       "      <td id=\"T_dd401_row0_col4\" class=\"data row0 col4\" >0</td>\n",
       "      <td id=\"T_dd401_row0_col5\" class=\"data row0 col5\" >0</td>\n",
       "    </tr>\n",
       "  </tbody>\n",
       "</table>\n"
      ],
      "text/plain": [
       "<pandas.io.formats.style.Styler at 0x1ea1cfae010>"
      ]
     },
     "metadata": {},
     "output_type": "display_data"
    },
    {
     "data": {
      "text/html": [],
      "text/plain": [
       "<IPython.core.display.HTML object>"
      ]
     },
     "metadata": {},
     "output_type": "display_data"
    },
    {
     "data": {
      "text/html": [],
      "text/plain": [
       "<IPython.core.display.HTML object>"
      ]
     },
     "metadata": {},
     "output_type": "display_data"
    },
    {
     "data": {
      "image/png": "[encoded data removed]",
      "text/plain": [
       "<Figure size 800x550 with 1 Axes>"
      ]
     },
     "metadata": {},
     "output_type": "display_data"
    }
   ],
   "source": [
    "#Transformation\n",
    "setup(data = jewelleryDataSet, transformation = True, transformation_method = 'yeo-johnson', verbose=False)\n",
    "x = create_model('kmeans')\n",
    "plot_model(x, plot = 'elbow')"
   ]
  },
  {
   "cell_type": "code",
   "execution_count": 42,
   "id": "d421381f",
   "metadata": {},
   "outputs": [
    {
     "name": "stdout",
     "output_type": "stream",
     "text": [
      "For Cluster = 3\n"
     ]
    },
    {
     "data": {
      "text/html": [],
      "text/plain": [
       "<IPython.core.display.HTML object>"
      ]
     },
     "metadata": {},
     "output_type": "display_data"
    },
    {
     "data": {
      "text/html": [
       "<style type=\"text/css\">\n",
       "</style>\n",
       "<table id=\"T_5ca20\">\n",
       "  <thead>\n",
       "    <tr>\n",
       "      <th class=\"blank level0\" >&nbsp;</th>\n",
       "      <th id=\"T_5ca20_level0_col0\" class=\"col_heading level0 col0\" >Silhouette</th>\n",
       "      <th id=\"T_5ca20_level0_col1\" class=\"col_heading level0 col1\" >Calinski-Harabasz</th>\n",
       "      <th id=\"T_5ca20_level0_col2\" class=\"col_heading level0 col2\" >Davies-Bouldin</th>\n",
       "      <th id=\"T_5ca20_level0_col3\" class=\"col_heading level0 col3\" >Homogeneity</th>\n",
       "      <th id=\"T_5ca20_level0_col4\" class=\"col_heading level0 col4\" >Rand Index</th>\n",
       "      <th id=\"T_5ca20_level0_col5\" class=\"col_heading level0 col5\" >Completeness</th>\n",
       "    </tr>\n",
       "  </thead>\n",
       "  <tbody>\n",
       "    <tr>\n",
       "      <th id=\"T_5ca20_level0_row0\" class=\"row_heading level0 row0\" >0</th>\n",
       "      <td id=\"T_5ca20_row0_col0\" class=\"data row0 col0\" >0.7383</td>\n",
       "      <td id=\"T_5ca20_row0_col1\" class=\"data row0 col1\" >1843.8285</td>\n",
       "      <td id=\"T_5ca20_row0_col2\" class=\"data row0 col2\" >0.3816</td>\n",
       "      <td id=\"T_5ca20_row0_col3\" class=\"data row0 col3\" >0</td>\n",
       "      <td id=\"T_5ca20_row0_col4\" class=\"data row0 col4\" >0</td>\n",
       "      <td id=\"T_5ca20_row0_col5\" class=\"data row0 col5\" >0</td>\n",
       "    </tr>\n",
       "  </tbody>\n",
       "</table>\n"
      ],
      "text/plain": [
       "<pandas.io.formats.style.Styler at 0x1ea1cff98d0>"
      ]
     },
     "metadata": {},
     "output_type": "display_data"
    },
    {
     "data": {
      "text/html": [],
      "text/plain": [
       "<IPython.core.display.HTML object>"
      ]
     },
     "metadata": {},
     "output_type": "display_data"
    },
    {
     "name": "stdout",
     "output_type": "stream",
     "text": [
      "For Cluster = 4\n"
     ]
    },
    {
     "data": {
      "text/html": [],
      "text/plain": [
       "<IPython.core.display.HTML object>"
      ]
     },
     "metadata": {},
     "output_type": "display_data"
    },
    {
     "data": {
      "text/html": [
       "<style type=\"text/css\">\n",
       "</style>\n",
       "<table id=\"T_ab72b\">\n",
       "  <thead>\n",
       "    <tr>\n",
       "      <th class=\"blank level0\" >&nbsp;</th>\n",
       "      <th id=\"T_ab72b_level0_col0\" class=\"col_heading level0 col0\" >Silhouette</th>\n",
       "      <th id=\"T_ab72b_level0_col1\" class=\"col_heading level0 col1\" >Calinski-Harabasz</th>\n",
       "      <th id=\"T_ab72b_level0_col2\" class=\"col_heading level0 col2\" >Davies-Bouldin</th>\n",
       "      <th id=\"T_ab72b_level0_col3\" class=\"col_heading level0 col3\" >Homogeneity</th>\n",
       "      <th id=\"T_ab72b_level0_col4\" class=\"col_heading level0 col4\" >Rand Index</th>\n",
       "      <th id=\"T_ab72b_level0_col5\" class=\"col_heading level0 col5\" >Completeness</th>\n",
       "    </tr>\n",
       "  </thead>\n",
       "  <tbody>\n",
       "    <tr>\n",
       "      <th id=\"T_ab72b_level0_row0\" class=\"row_heading level0 row0\" >0</th>\n",
       "      <td id=\"T_ab72b_row0_col0\" class=\"data row0 col0\" >0.7809</td>\n",
       "      <td id=\"T_ab72b_row0_col1\" class=\"data row0 col1\" >3519.5778</td>\n",
       "      <td id=\"T_ab72b_row0_col2\" class=\"data row0 col2\" >0.3135</td>\n",
       "      <td id=\"T_ab72b_row0_col3\" class=\"data row0 col3\" >0</td>\n",
       "      <td id=\"T_ab72b_row0_col4\" class=\"data row0 col4\" >0</td>\n",
       "      <td id=\"T_ab72b_row0_col5\" class=\"data row0 col5\" >0</td>\n",
       "    </tr>\n",
       "  </tbody>\n",
       "</table>\n"
      ],
      "text/plain": [
       "<pandas.io.formats.style.Styler at 0x1ea1d06cfd0>"
      ]
     },
     "metadata": {},
     "output_type": "display_data"
    },
    {
     "data": {
      "text/html": [],
      "text/plain": [
       "<IPython.core.display.HTML object>"
      ]
     },
     "metadata": {},
     "output_type": "display_data"
    },
    {
     "name": "stdout",
     "output_type": "stream",
     "text": [
      "For Cluster = 5\n"
     ]
    },
    {
     "data": {
      "text/html": [],
      "text/plain": [
       "<IPython.core.display.HTML object>"
      ]
     },
     "metadata": {},
     "output_type": "display_data"
    },
    {
     "data": {
      "text/html": [
       "<style type=\"text/css\">\n",
       "</style>\n",
       "<table id=\"T_900b8\">\n",
       "  <thead>\n",
       "    <tr>\n",
       "      <th class=\"blank level0\" >&nbsp;</th>\n",
       "      <th id=\"T_900b8_level0_col0\" class=\"col_heading level0 col0\" >Silhouette</th>\n",
       "      <th id=\"T_900b8_level0_col1\" class=\"col_heading level0 col1\" >Calinski-Harabasz</th>\n",
       "      <th id=\"T_900b8_level0_col2\" class=\"col_heading level0 col2\" >Davies-Bouldin</th>\n",
       "      <th id=\"T_900b8_level0_col3\" class=\"col_heading level0 col3\" >Homogeneity</th>\n",
       "      <th id=\"T_900b8_level0_col4\" class=\"col_heading level0 col4\" >Rand Index</th>\n",
       "      <th id=\"T_900b8_level0_col5\" class=\"col_heading level0 col5\" >Completeness</th>\n",
       "    </tr>\n",
       "  </thead>\n",
       "  <tbody>\n",
       "    <tr>\n",
       "      <th id=\"T_900b8_level0_row0\" class=\"row_heading level0 row0\" >0</th>\n",
       "      <td id=\"T_900b8_row0_col0\" class=\"data row0 col0\" >0.6488</td>\n",
       "      <td id=\"T_900b8_row0_col1\" class=\"data row0 col1\" >2973.2417</td>\n",
       "      <td id=\"T_900b8_row0_col2\" class=\"data row0 col2\" >0.5918</td>\n",
       "      <td id=\"T_900b8_row0_col3\" class=\"data row0 col3\" >0</td>\n",
       "      <td id=\"T_900b8_row0_col4\" class=\"data row0 col4\" >0</td>\n",
       "      <td id=\"T_900b8_row0_col5\" class=\"data row0 col5\" >0</td>\n",
       "    </tr>\n",
       "  </tbody>\n",
       "</table>\n"
      ],
      "text/plain": [
       "<pandas.io.formats.style.Styler at 0x1ea1cdc98d0>"
      ]
     },
     "metadata": {},
     "output_type": "display_data"
    },
    {
     "data": {
      "text/html": [],
      "text/plain": [
       "<IPython.core.display.HTML object>"
      ]
     },
     "metadata": {},
     "output_type": "display_data"
    },
    {
     "name": "stdout",
     "output_type": "stream",
     "text": [
      "For Cluster = 6\n"
     ]
    },
    {
     "data": {
      "text/html": [],
      "text/plain": [
       "<IPython.core.display.HTML object>"
      ]
     },
     "metadata": {},
     "output_type": "display_data"
    },
    {
     "data": {
      "text/html": [
       "<style type=\"text/css\">\n",
       "</style>\n",
       "<table id=\"T_dc7a9\">\n",
       "  <thead>\n",
       "    <tr>\n",
       "      <th class=\"blank level0\" >&nbsp;</th>\n",
       "      <th id=\"T_dc7a9_level0_col0\" class=\"col_heading level0 col0\" >Silhouette</th>\n",
       "      <th id=\"T_dc7a9_level0_col1\" class=\"col_heading level0 col1\" >Calinski-Harabasz</th>\n",
       "      <th id=\"T_dc7a9_level0_col2\" class=\"col_heading level0 col2\" >Davies-Bouldin</th>\n",
       "      <th id=\"T_dc7a9_level0_col3\" class=\"col_heading level0 col3\" >Homogeneity</th>\n",
       "      <th id=\"T_dc7a9_level0_col4\" class=\"col_heading level0 col4\" >Rand Index</th>\n",
       "      <th id=\"T_dc7a9_level0_col5\" class=\"col_heading level0 col5\" >Completeness</th>\n",
       "    </tr>\n",
       "  </thead>\n",
       "  <tbody>\n",
       "    <tr>\n",
       "      <th id=\"T_dc7a9_level0_row0\" class=\"row_heading level0 row0\" >0</th>\n",
       "      <td id=\"T_dc7a9_row0_col0\" class=\"data row0 col0\" >0.5244</td>\n",
       "      <td id=\"T_dc7a9_row0_col1\" class=\"data row0 col1\" >2868.3980</td>\n",
       "      <td id=\"T_dc7a9_row0_col2\" class=\"data row0 col2\" >0.7742</td>\n",
       "      <td id=\"T_dc7a9_row0_col3\" class=\"data row0 col3\" >0</td>\n",
       "      <td id=\"T_dc7a9_row0_col4\" class=\"data row0 col4\" >0</td>\n",
       "      <td id=\"T_dc7a9_row0_col5\" class=\"data row0 col5\" >0</td>\n",
       "    </tr>\n",
       "  </tbody>\n",
       "</table>\n"
      ],
      "text/plain": [
       "<pandas.io.formats.style.Styler at 0x1ea1cdcb610>"
      ]
     },
     "metadata": {},
     "output_type": "display_data"
    },
    {
     "data": {
      "text/html": [],
      "text/plain": [
       "<IPython.core.display.HTML object>"
      ]
     },
     "metadata": {},
     "output_type": "display_data"
    }
   ],
   "source": [
    "setup(data = jewelleryDataSet, transformation = True, transformation_method = 'yeo-johnson', verbose=False)\n",
    "\n",
    "print(\"For Cluster = 3\")\n",
    "x = create_model('kmeans', num_clusters = 3)\n",
    "\n",
    "print(\"For Cluster = 4\")\n",
    "x = create_model('kmeans', num_clusters = 4)\n",
    "\n",
    "print(\"For Cluster = 5\")\n",
    "x = create_model('kmeans', num_clusters = 5)\n",
    "\n",
    "print(\"For Cluster = 6\")\n",
    "x = create_model('kmeans', num_clusters = 6)"
   ]
  },
  {
   "cell_type": "code",
   "execution_count": 43,
   "id": "a02898e7",
   "metadata": {},
   "outputs": [
    {
     "data": {
      "text/html": [],
      "text/plain": [
       "<IPython.core.display.HTML object>"
      ]
     },
     "metadata": {},
     "output_type": "display_data"
    },
    {
     "data": {
      "text/html": [
       "<style type=\"text/css\">\n",
       "</style>\n",
       "<table id=\"T_9fab9\">\n",
       "  <thead>\n",
       "    <tr>\n",
       "      <th class=\"blank level0\" >&nbsp;</th>\n",
       "      <th id=\"T_9fab9_level0_col0\" class=\"col_heading level0 col0\" >Silhouette</th>\n",
       "      <th id=\"T_9fab9_level0_col1\" class=\"col_heading level0 col1\" >Calinski-Harabasz</th>\n",
       "      <th id=\"T_9fab9_level0_col2\" class=\"col_heading level0 col2\" >Davies-Bouldin</th>\n",
       "      <th id=\"T_9fab9_level0_col3\" class=\"col_heading level0 col3\" >Homogeneity</th>\n",
       "      <th id=\"T_9fab9_level0_col4\" class=\"col_heading level0 col4\" >Rand Index</th>\n",
       "      <th id=\"T_9fab9_level0_col5\" class=\"col_heading level0 col5\" >Completeness</th>\n",
       "    </tr>\n",
       "  </thead>\n",
       "  <tbody>\n",
       "    <tr>\n",
       "      <th id=\"T_9fab9_level0_row0\" class=\"row_heading level0 row0\" >0</th>\n",
       "      <td id=\"T_9fab9_row0_col0\" class=\"data row0 col0\" >0.7217</td>\n",
       "      <td id=\"T_9fab9_row0_col1\" class=\"data row0 col1\" >5009.6748</td>\n",
       "      <td id=\"T_9fab9_row0_col2\" class=\"data row0 col2\" >0.4082</td>\n",
       "      <td id=\"T_9fab9_row0_col3\" class=\"data row0 col3\" >0</td>\n",
       "      <td id=\"T_9fab9_row0_col4\" class=\"data row0 col4\" >0</td>\n",
       "      <td id=\"T_9fab9_row0_col5\" class=\"data row0 col5\" >0</td>\n",
       "    </tr>\n",
       "  </tbody>\n",
       "</table>\n"
      ],
      "text/plain": [
       "<pandas.io.formats.style.Styler at 0x1ea1cf95010>"
      ]
     },
     "metadata": {},
     "output_type": "display_data"
    },
    {
     "data": {
      "text/html": [],
      "text/plain": [
       "<IPython.core.display.HTML object>"
      ]
     },
     "metadata": {},
     "output_type": "display_data"
    },
    {
     "data": {
      "text/html": [],
      "text/plain": [
       "<IPython.core.display.HTML object>"
      ]
     },
     "metadata": {},
     "output_type": "display_data"
    },
    {
     "data": {
      "image/png": "[encoded data removed]",
      "text/plain": [
       "<Figure size 800x550 with 1 Axes>"
      ]
     },
     "metadata": {},
     "output_type": "display_data"
    }
   ],
   "source": [
    "setup(data = jewelleryDataSet, pca = True, pca_method = 'linear', verbose=False)\n",
    "x = create_model('kmeans')\n",
    "plot_model(x, plot = 'elbow')"
   ]
  },
  {
   "cell_type": "code",
   "execution_count": 44,
   "id": "f02852df",
   "metadata": {},
   "outputs": [
    {
     "name": "stdout",
     "output_type": "stream",
     "text": [
      "For Cluster = 3\n"
     ]
    },
    {
     "data": {
      "text/html": [],
      "text/plain": [
       "<IPython.core.display.HTML object>"
      ]
     },
     "metadata": {},
     "output_type": "display_data"
    },
    {
     "data": {
      "text/html": [
       "<style type=\"text/css\">\n",
       "</style>\n",
       "<table id=\"T_f72e2\">\n",
       "  <thead>\n",
       "    <tr>\n",
       "      <th class=\"blank level0\" >&nbsp;</th>\n",
       "      <th id=\"T_f72e2_level0_col0\" class=\"col_heading level0 col0\" >Silhouette</th>\n",
       "      <th id=\"T_f72e2_level0_col1\" class=\"col_heading level0 col1\" >Calinski-Harabasz</th>\n",
       "      <th id=\"T_f72e2_level0_col2\" class=\"col_heading level0 col2\" >Davies-Bouldin</th>\n",
       "      <th id=\"T_f72e2_level0_col3\" class=\"col_heading level0 col3\" >Homogeneity</th>\n",
       "      <th id=\"T_f72e2_level0_col4\" class=\"col_heading level0 col4\" >Rand Index</th>\n",
       "      <th id=\"T_f72e2_level0_col5\" class=\"col_heading level0 col5\" >Completeness</th>\n",
       "    </tr>\n",
       "  </thead>\n",
       "  <tbody>\n",
       "    <tr>\n",
       "      <th id=\"T_f72e2_level0_row0\" class=\"row_heading level0 row0\" >0</th>\n",
       "      <td id=\"T_f72e2_row0_col0\" class=\"data row0 col0\" >0.7393</td>\n",
       "      <td id=\"T_f72e2_row0_col1\" class=\"data row0 col1\" >3567.5370</td>\n",
       "      <td id=\"T_f72e2_row0_col2\" class=\"data row0 col2\" >0.3435</td>\n",
       "      <td id=\"T_f72e2_row0_col3\" class=\"data row0 col3\" >0</td>\n",
       "      <td id=\"T_f72e2_row0_col4\" class=\"data row0 col4\" >0</td>\n",
       "      <td id=\"T_f72e2_row0_col5\" class=\"data row0 col5\" >0</td>\n",
       "    </tr>\n",
       "  </tbody>\n",
       "</table>\n"
      ],
      "text/plain": [
       "<pandas.io.formats.style.Styler at 0x1ea1cda98d0>"
      ]
     },
     "metadata": {},
     "output_type": "display_data"
    },
    {
     "data": {
      "text/html": [],
      "text/plain": [
       "<IPython.core.display.HTML object>"
      ]
     },
     "metadata": {},
     "output_type": "display_data"
    },
    {
     "name": "stdout",
     "output_type": "stream",
     "text": [
      "For Cluster = 4\n"
     ]
    },
    {
     "data": {
      "text/html": [],
      "text/plain": [
       "<IPython.core.display.HTML object>"
      ]
     },
     "metadata": {},
     "output_type": "display_data"
    },
    {
     "data": {
      "text/html": [
       "<style type=\"text/css\">\n",
       "</style>\n",
       "<table id=\"T_33934\">\n",
       "  <thead>\n",
       "    <tr>\n",
       "      <th class=\"blank level0\" >&nbsp;</th>\n",
       "      <th id=\"T_33934_level0_col0\" class=\"col_heading level0 col0\" >Silhouette</th>\n",
       "      <th id=\"T_33934_level0_col1\" class=\"col_heading level0 col1\" >Calinski-Harabasz</th>\n",
       "      <th id=\"T_33934_level0_col2\" class=\"col_heading level0 col2\" >Davies-Bouldin</th>\n",
       "      <th id=\"T_33934_level0_col3\" class=\"col_heading level0 col3\" >Homogeneity</th>\n",
       "      <th id=\"T_33934_level0_col4\" class=\"col_heading level0 col4\" >Rand Index</th>\n",
       "      <th id=\"T_33934_level0_col5\" class=\"col_heading level0 col5\" >Completeness</th>\n",
       "    </tr>\n",
       "  </thead>\n",
       "  <tbody>\n",
       "    <tr>\n",
       "      <th id=\"T_33934_level0_row0\" class=\"row_heading level0 row0\" >0</th>\n",
       "      <td id=\"T_33934_row0_col0\" class=\"data row0 col0\" >0.7207</td>\n",
       "      <td id=\"T_33934_row0_col1\" class=\"data row0 col1\" >5011.8115</td>\n",
       "      <td id=\"T_33934_row0_col2\" class=\"data row0 col2\" >0.4114</td>\n",
       "      <td id=\"T_33934_row0_col3\" class=\"data row0 col3\" >0</td>\n",
       "      <td id=\"T_33934_row0_col4\" class=\"data row0 col4\" >0</td>\n",
       "      <td id=\"T_33934_row0_col5\" class=\"data row0 col5\" >0</td>\n",
       "    </tr>\n",
       "  </tbody>\n",
       "</table>\n"
      ],
      "text/plain": [
       "<pandas.io.formats.style.Styler at 0x1ea1cdc98d0>"
      ]
     },
     "metadata": {},
     "output_type": "display_data"
    },
    {
     "data": {
      "text/html": [],
      "text/plain": [
       "<IPython.core.display.HTML object>"
      ]
     },
     "metadata": {},
     "output_type": "display_data"
    },
    {
     "name": "stdout",
     "output_type": "stream",
     "text": [
      "For Cluster = 5\n"
     ]
    },
    {
     "data": {
      "text/html": [],
      "text/plain": [
       "<IPython.core.display.HTML object>"
      ]
     },
     "metadata": {},
     "output_type": "display_data"
    },
    {
     "data": {
      "text/html": [
       "<style type=\"text/css\">\n",
       "</style>\n",
       "<table id=\"T_6adac\">\n",
       "  <thead>\n",
       "    <tr>\n",
       "      <th class=\"blank level0\" >&nbsp;</th>\n",
       "      <th id=\"T_6adac_level0_col0\" class=\"col_heading level0 col0\" >Silhouette</th>\n",
       "      <th id=\"T_6adac_level0_col1\" class=\"col_heading level0 col1\" >Calinski-Harabasz</th>\n",
       "      <th id=\"T_6adac_level0_col2\" class=\"col_heading level0 col2\" >Davies-Bouldin</th>\n",
       "      <th id=\"T_6adac_level0_col3\" class=\"col_heading level0 col3\" >Homogeneity</th>\n",
       "      <th id=\"T_6adac_level0_col4\" class=\"col_heading level0 col4\" >Rand Index</th>\n",
       "      <th id=\"T_6adac_level0_col5\" class=\"col_heading level0 col5\" >Completeness</th>\n",
       "    </tr>\n",
       "  </thead>\n",
       "  <tbody>\n",
       "    <tr>\n",
       "      <th id=\"T_6adac_level0_row0\" class=\"row_heading level0 row0\" >0</th>\n",
       "      <td id=\"T_6adac_row0_col0\" class=\"data row0 col0\" >0.6377</td>\n",
       "      <td id=\"T_6adac_row0_col1\" class=\"data row0 col1\" >4632.2753</td>\n",
       "      <td id=\"T_6adac_row0_col2\" class=\"data row0 col2\" >0.5179</td>\n",
       "      <td id=\"T_6adac_row0_col3\" class=\"data row0 col3\" >0</td>\n",
       "      <td id=\"T_6adac_row0_col4\" class=\"data row0 col4\" >0</td>\n",
       "      <td id=\"T_6adac_row0_col5\" class=\"data row0 col5\" >0</td>\n",
       "    </tr>\n",
       "  </tbody>\n",
       "</table>\n"
      ],
      "text/plain": [
       "<pandas.io.formats.style.Styler at 0x1ea184098d0>"
      ]
     },
     "metadata": {},
     "output_type": "display_data"
    },
    {
     "data": {
      "text/html": [],
      "text/plain": [
       "<IPython.core.display.HTML object>"
      ]
     },
     "metadata": {},
     "output_type": "display_data"
    },
    {
     "name": "stdout",
     "output_type": "stream",
     "text": [
      "For Cluster = 6\n"
     ]
    },
    {
     "data": {
      "text/html": [],
      "text/plain": [
       "<IPython.core.display.HTML object>"
      ]
     },
     "metadata": {},
     "output_type": "display_data"
    },
    {
     "data": {
      "text/html": [
       "<style type=\"text/css\">\n",
       "</style>\n",
       "<table id=\"T_73ea7\">\n",
       "  <thead>\n",
       "    <tr>\n",
       "      <th class=\"blank level0\" >&nbsp;</th>\n",
       "      <th id=\"T_73ea7_level0_col0\" class=\"col_heading level0 col0\" >Silhouette</th>\n",
       "      <th id=\"T_73ea7_level0_col1\" class=\"col_heading level0 col1\" >Calinski-Harabasz</th>\n",
       "      <th id=\"T_73ea7_level0_col2\" class=\"col_heading level0 col2\" >Davies-Bouldin</th>\n",
       "      <th id=\"T_73ea7_level0_col3\" class=\"col_heading level0 col3\" >Homogeneity</th>\n",
       "      <th id=\"T_73ea7_level0_col4\" class=\"col_heading level0 col4\" >Rand Index</th>\n",
       "      <th id=\"T_73ea7_level0_col5\" class=\"col_heading level0 col5\" >Completeness</th>\n",
       "    </tr>\n",
       "  </thead>\n",
       "  <tbody>\n",
       "    <tr>\n",
       "      <th id=\"T_73ea7_level0_row0\" class=\"row_heading level0 row0\" >0</th>\n",
       "      <td id=\"T_73ea7_row0_col0\" class=\"data row0 col0\" >0.6063</td>\n",
       "      <td id=\"T_73ea7_row0_col1\" class=\"data row0 col1\" >4780.1767</td>\n",
       "      <td id=\"T_73ea7_row0_col2\" class=\"data row0 col2\" >0.5414</td>\n",
       "      <td id=\"T_73ea7_row0_col3\" class=\"data row0 col3\" >0</td>\n",
       "      <td id=\"T_73ea7_row0_col4\" class=\"data row0 col4\" >0</td>\n",
       "      <td id=\"T_73ea7_row0_col5\" class=\"data row0 col5\" >0</td>\n",
       "    </tr>\n",
       "  </tbody>\n",
       "</table>\n"
      ],
      "text/plain": [
       "<pandas.io.formats.style.Styler at 0x1ea1d17c150>"
      ]
     },
     "metadata": {},
     "output_type": "display_data"
    },
    {
     "data": {
      "text/html": [],
      "text/plain": [
       "<IPython.core.display.HTML object>"
      ]
     },
     "metadata": {},
     "output_type": "display_data"
    }
   ],
   "source": [
    "setup(data = jewelleryDataSet, pca = True, pca_method = 'linear', verbose=False)\n",
    "\n",
    "print(\"For Cluster = 3\")\n",
    "x = create_model('kmeans', num_clusters = 3)\n",
    "\n",
    "print(\"For Cluster = 4\")\n",
    "x = create_model('kmeans', num_clusters = 4)\n",
    "\n",
    "print(\"For Cluster = 5\")\n",
    "x = create_model('kmeans', num_clusters = 5)\n",
    "\n",
    "print(\"For Cluster = 6\")\n",
    "x = create_model('kmeans', num_clusters = 6)"
   ]
  },
  {
   "cell_type": "code",
   "execution_count": 45,
   "id": "f15085b1",
   "metadata": {},
   "outputs": [
    {
     "data": {
      "text/html": [],
      "text/plain": [
       "<IPython.core.display.HTML object>"
      ]
     },
     "metadata": {},
     "output_type": "display_data"
    },
    {
     "data": {
      "text/html": [
       "<style type=\"text/css\">\n",
       "</style>\n",
       "<table id=\"T_6ca71\">\n",
       "  <thead>\n",
       "    <tr>\n",
       "      <th class=\"blank level0\" >&nbsp;</th>\n",
       "      <th id=\"T_6ca71_level0_col0\" class=\"col_heading level0 col0\" >Silhouette</th>\n",
       "      <th id=\"T_6ca71_level0_col1\" class=\"col_heading level0 col1\" >Calinski-Harabasz</th>\n",
       "      <th id=\"T_6ca71_level0_col2\" class=\"col_heading level0 col2\" >Davies-Bouldin</th>\n",
       "      <th id=\"T_6ca71_level0_col3\" class=\"col_heading level0 col3\" >Homogeneity</th>\n",
       "      <th id=\"T_6ca71_level0_col4\" class=\"col_heading level0 col4\" >Rand Index</th>\n",
       "      <th id=\"T_6ca71_level0_col5\" class=\"col_heading level0 col5\" >Completeness</th>\n",
       "    </tr>\n",
       "  </thead>\n",
       "  <tbody>\n",
       "    <tr>\n",
       "      <th id=\"T_6ca71_level0_row0\" class=\"row_heading level0 row0\" >0</th>\n",
       "      <td id=\"T_6ca71_row0_col0\" class=\"data row0 col0\" >0.7544</td>\n",
       "      <td id=\"T_6ca71_row0_col1\" class=\"data row0 col1\" >1467.4682</td>\n",
       "      <td id=\"T_6ca71_row0_col2\" class=\"data row0 col2\" >0.3868</td>\n",
       "      <td id=\"T_6ca71_row0_col3\" class=\"data row0 col3\" >0</td>\n",
       "      <td id=\"T_6ca71_row0_col4\" class=\"data row0 col4\" >0</td>\n",
       "      <td id=\"T_6ca71_row0_col5\" class=\"data row0 col5\" >0</td>\n",
       "    </tr>\n",
       "  </tbody>\n",
       "</table>\n"
      ],
      "text/plain": [
       "<pandas.io.formats.style.Styler at 0x1ea1cdd7cd0>"
      ]
     },
     "metadata": {},
     "output_type": "display_data"
    },
    {
     "data": {
      "text/html": [],
      "text/plain": [
       "<IPython.core.display.HTML object>"
      ]
     },
     "metadata": {},
     "output_type": "display_data"
    },
    {
     "data": {
      "text/html": [],
      "text/plain": [
       "<IPython.core.display.HTML object>"
      ]
     },
     "metadata": {},
     "output_type": "display_data"
    },
    {
     "data": {
      "image/png": "[encoded data removed]",
      "text/plain": [
       "<Figure size 800x550 with 1 Axes>"
      ]
     },
     "metadata": {},
     "output_type": "display_data"
    }
   ],
   "source": [
    "setup(data = jewelleryDataSet, transformation = True, normalize = True,\n",
    "      normalize_method = 'zscore', transformation_method = 'yeo-johnson', verbose=False)\n",
    "x = create_model('kmeans')\n",
    "plot_model(x, plot = 'elbow')"
   ]
  },
  {
   "cell_type": "code",
   "execution_count": 46,
   "id": "c6fc827a",
   "metadata": {},
   "outputs": [
    {
     "name": "stdout",
     "output_type": "stream",
     "text": [
      "For Cluster = 3\n"
     ]
    },
    {
     "data": {
      "text/html": [],
      "text/plain": [
       "<IPython.core.display.HTML object>"
      ]
     },
     "metadata": {},
     "output_type": "display_data"
    },
    {
     "data": {
      "text/html": [
       "<style type=\"text/css\">\n",
       "</style>\n",
       "<table id=\"T_8bfc4\">\n",
       "  <thead>\n",
       "    <tr>\n",
       "      <th class=\"blank level0\" >&nbsp;</th>\n",
       "      <th id=\"T_8bfc4_level0_col0\" class=\"col_heading level0 col0\" >Silhouette</th>\n",
       "      <th id=\"T_8bfc4_level0_col1\" class=\"col_heading level0 col1\" >Calinski-Harabasz</th>\n",
       "      <th id=\"T_8bfc4_level0_col2\" class=\"col_heading level0 col2\" >Davies-Bouldin</th>\n",
       "      <th id=\"T_8bfc4_level0_col3\" class=\"col_heading level0 col3\" >Homogeneity</th>\n",
       "      <th id=\"T_8bfc4_level0_col4\" class=\"col_heading level0 col4\" >Rand Index</th>\n",
       "      <th id=\"T_8bfc4_level0_col5\" class=\"col_heading level0 col5\" >Completeness</th>\n",
       "    </tr>\n",
       "  </thead>\n",
       "  <tbody>\n",
       "    <tr>\n",
       "      <th id=\"T_8bfc4_level0_row0\" class=\"row_heading level0 row0\" >0</th>\n",
       "      <td id=\"T_8bfc4_row0_col0\" class=\"data row0 col0\" >0.6912</td>\n",
       "      <td id=\"T_8bfc4_row0_col1\" class=\"data row0 col1\" >1016.4677</td>\n",
       "      <td id=\"T_8bfc4_row0_col2\" class=\"data row0 col2\" >0.5410</td>\n",
       "      <td id=\"T_8bfc4_row0_col3\" class=\"data row0 col3\" >0</td>\n",
       "      <td id=\"T_8bfc4_row0_col4\" class=\"data row0 col4\" >0</td>\n",
       "      <td id=\"T_8bfc4_row0_col5\" class=\"data row0 col5\" >0</td>\n",
       "    </tr>\n",
       "  </tbody>\n",
       "</table>\n"
      ],
      "text/plain": [
       "<pandas.io.formats.style.Styler at 0x1ea1d1698d0>"
      ]
     },
     "metadata": {},
     "output_type": "display_data"
    },
    {
     "data": {
      "text/html": [],
      "text/plain": [
       "<IPython.core.display.HTML object>"
      ]
     },
     "metadata": {},
     "output_type": "display_data"
    },
    {
     "name": "stdout",
     "output_type": "stream",
     "text": [
      "For Cluster = 4\n"
     ]
    },
    {
     "data": {
      "text/html": [],
      "text/plain": [
       "<IPython.core.display.HTML object>"
      ]
     },
     "metadata": {},
     "output_type": "display_data"
    },
    {
     "data": {
      "text/html": [
       "<style type=\"text/css\">\n",
       "</style>\n",
       "<table id=\"T_5086f\">\n",
       "  <thead>\n",
       "    <tr>\n",
       "      <th class=\"blank level0\" >&nbsp;</th>\n",
       "      <th id=\"T_5086f_level0_col0\" class=\"col_heading level0 col0\" >Silhouette</th>\n",
       "      <th id=\"T_5086f_level0_col1\" class=\"col_heading level0 col1\" >Calinski-Harabasz</th>\n",
       "      <th id=\"T_5086f_level0_col2\" class=\"col_heading level0 col2\" >Davies-Bouldin</th>\n",
       "      <th id=\"T_5086f_level0_col3\" class=\"col_heading level0 col3\" >Homogeneity</th>\n",
       "      <th id=\"T_5086f_level0_col4\" class=\"col_heading level0 col4\" >Rand Index</th>\n",
       "      <th id=\"T_5086f_level0_col5\" class=\"col_heading level0 col5\" >Completeness</th>\n",
       "    </tr>\n",
       "  </thead>\n",
       "  <tbody>\n",
       "    <tr>\n",
       "      <th id=\"T_5086f_level0_row0\" class=\"row_heading level0 row0\" >0</th>\n",
       "      <td id=\"T_5086f_row0_col0\" class=\"data row0 col0\" >0.7544</td>\n",
       "      <td id=\"T_5086f_row0_col1\" class=\"data row0 col1\" >1467.4682</td>\n",
       "      <td id=\"T_5086f_row0_col2\" class=\"data row0 col2\" >0.3868</td>\n",
       "      <td id=\"T_5086f_row0_col3\" class=\"data row0 col3\" >0</td>\n",
       "      <td id=\"T_5086f_row0_col4\" class=\"data row0 col4\" >0</td>\n",
       "      <td id=\"T_5086f_row0_col5\" class=\"data row0 col5\" >0</td>\n",
       "    </tr>\n",
       "  </tbody>\n",
       "</table>\n"
      ],
      "text/plain": [
       "<pandas.io.formats.style.Styler at 0x1ea1d1698d0>"
      ]
     },
     "metadata": {},
     "output_type": "display_data"
    },
    {
     "data": {
      "text/html": [],
      "text/plain": [
       "<IPython.core.display.HTML object>"
      ]
     },
     "metadata": {},
     "output_type": "display_data"
    },
    {
     "name": "stdout",
     "output_type": "stream",
     "text": [
      "For Cluster = 5\n"
     ]
    },
    {
     "data": {
      "text/html": [],
      "text/plain": [
       "<IPython.core.display.HTML object>"
      ]
     },
     "metadata": {},
     "output_type": "display_data"
    },
    {
     "data": {
      "text/html": [
       "<style type=\"text/css\">\n",
       "</style>\n",
       "<table id=\"T_28ed5\">\n",
       "  <thead>\n",
       "    <tr>\n",
       "      <th class=\"blank level0\" >&nbsp;</th>\n",
       "      <th id=\"T_28ed5_level0_col0\" class=\"col_heading level0 col0\" >Silhouette</th>\n",
       "      <th id=\"T_28ed5_level0_col1\" class=\"col_heading level0 col1\" >Calinski-Harabasz</th>\n",
       "      <th id=\"T_28ed5_level0_col2\" class=\"col_heading level0 col2\" >Davies-Bouldin</th>\n",
       "      <th id=\"T_28ed5_level0_col3\" class=\"col_heading level0 col3\" >Homogeneity</th>\n",
       "      <th id=\"T_28ed5_level0_col4\" class=\"col_heading level0 col4\" >Rand Index</th>\n",
       "      <th id=\"T_28ed5_level0_col5\" class=\"col_heading level0 col5\" >Completeness</th>\n",
       "    </tr>\n",
       "  </thead>\n",
       "  <tbody>\n",
       "    <tr>\n",
       "      <th id=\"T_28ed5_level0_row0\" class=\"row_heading level0 row0\" >0</th>\n",
       "      <td id=\"T_28ed5_row0_col0\" class=\"data row0 col0\" >0.8063</td>\n",
       "      <td id=\"T_28ed5_row0_col1\" class=\"data row0 col1\" >3503.4024</td>\n",
       "      <td id=\"T_28ed5_row0_col2\" class=\"data row0 col2\" >0.2748</td>\n",
       "      <td id=\"T_28ed5_row0_col3\" class=\"data row0 col3\" >0</td>\n",
       "      <td id=\"T_28ed5_row0_col4\" class=\"data row0 col4\" >0</td>\n",
       "      <td id=\"T_28ed5_row0_col5\" class=\"data row0 col5\" >0</td>\n",
       "    </tr>\n",
       "  </tbody>\n",
       "</table>\n"
      ],
      "text/plain": [
       "<pandas.io.formats.style.Styler at 0x1ea1cfd8ed0>"
      ]
     },
     "metadata": {},
     "output_type": "display_data"
    },
    {
     "data": {
      "text/html": [],
      "text/plain": [
       "<IPython.core.display.HTML object>"
      ]
     },
     "metadata": {},
     "output_type": "display_data"
    },
    {
     "name": "stdout",
     "output_type": "stream",
     "text": [
      "For Cluster = 6\n"
     ]
    },
    {
     "data": {
      "text/html": [],
      "text/plain": [
       "<IPython.core.display.HTML object>"
      ]
     },
     "metadata": {},
     "output_type": "display_data"
    },
    {
     "data": {
      "text/html": [
       "<style type=\"text/css\">\n",
       "</style>\n",
       "<table id=\"T_cc404\">\n",
       "  <thead>\n",
       "    <tr>\n",
       "      <th class=\"blank level0\" >&nbsp;</th>\n",
       "      <th id=\"T_cc404_level0_col0\" class=\"col_heading level0 col0\" >Silhouette</th>\n",
       "      <th id=\"T_cc404_level0_col1\" class=\"col_heading level0 col1\" >Calinski-Harabasz</th>\n",
       "      <th id=\"T_cc404_level0_col2\" class=\"col_heading level0 col2\" >Davies-Bouldin</th>\n",
       "      <th id=\"T_cc404_level0_col3\" class=\"col_heading level0 col3\" >Homogeneity</th>\n",
       "      <th id=\"T_cc404_level0_col4\" class=\"col_heading level0 col4\" >Rand Index</th>\n",
       "      <th id=\"T_cc404_level0_col5\" class=\"col_heading level0 col5\" >Completeness</th>\n",
       "    </tr>\n",
       "  </thead>\n",
       "  <tbody>\n",
       "    <tr>\n",
       "      <th id=\"T_cc404_level0_row0\" class=\"row_heading level0 row0\" >0</th>\n",
       "      <td id=\"T_cc404_row0_col0\" class=\"data row0 col0\" >0.6170</td>\n",
       "      <td id=\"T_cc404_row0_col1\" class=\"data row0 col1\" >2980.5146</td>\n",
       "      <td id=\"T_cc404_row0_col2\" class=\"data row0 col2\" >0.7369</td>\n",
       "      <td id=\"T_cc404_row0_col3\" class=\"data row0 col3\" >0</td>\n",
       "      <td id=\"T_cc404_row0_col4\" class=\"data row0 col4\" >0</td>\n",
       "      <td id=\"T_cc404_row0_col5\" class=\"data row0 col5\" >0</td>\n",
       "    </tr>\n",
       "  </tbody>\n",
       "</table>\n"
      ],
      "text/plain": [
       "<pandas.io.formats.style.Styler at 0x1ea1d06ff50>"
      ]
     },
     "metadata": {},
     "output_type": "display_data"
    },
    {
     "data": {
      "text/html": [],
      "text/plain": [
       "<IPython.core.display.HTML object>"
      ]
     },
     "metadata": {},
     "output_type": "display_data"
    }
   ],
   "source": [
    "setup(data = jewelleryDataSet, transformation = True, normalize = True, pca = True,\n",
    "      normalize_method = 'zscore',\n",
    "      transformation_method = 'yeo-johnson',\n",
    "      pca_method = 'linear', verbose=False)\n",
    "\n",
    "print(\"For Cluster = 3\")\n",
    "x = create_model('kmeans', num_clusters = 3)\n",
    "\n",
    "print(\"For Cluster = 4\")\n",
    "x = create_model('kmeans', num_clusters = 4)\n",
    "\n",
    "print(\"For Cluster = 5\")\n",
    "x = create_model('kmeans', num_clusters = 5)\n",
    "\n",
    "print(\"For Cluster = 6\")\n",
    "x = create_model('kmeans', num_clusters = 6)"
   ]
  },
  {
   "cell_type": "code",
   "execution_count": 47,
   "id": "d517a63b",
   "metadata": {},
   "outputs": [],
   "source": [
    "#Clustering Techniques\n",
    "# K-Means clustering                 'kmeans'\n",
    "# Affinity Propagation               'ap'\n",
    "# Mean shift clustering              'meanshift'\n",
    "# Spectral Clustering                'sc'\n",
    "# Agglomerative Clustering           'hclust'\n",
    "# Density-Based Spatial Clustering   'dbscan'\n",
    "# OPTICS Clustering                  'optics'\n",
    "# Birch Clustering                   'birch'\n",
    "# K-Modes clustering                 'kmodes'"
   ]
  },
  {
   "cell_type": "code",
   "execution_count": 48,
   "id": "ea9ecb85",
   "metadata": {},
   "outputs": [
    {
     "data": {
      "text/html": [],
      "text/plain": [
       "<IPython.core.display.HTML object>"
      ]
     },
     "metadata": {},
     "output_type": "display_data"
    },
    {
     "data": {
      "text/html": [
       "<style type=\"text/css\">\n",
       "</style>\n",
       "<table id=\"T_59235\">\n",
       "  <thead>\n",
       "    <tr>\n",
       "      <th class=\"blank level0\" >&nbsp;</th>\n",
       "      <th id=\"T_59235_level0_col0\" class=\"col_heading level0 col0\" >Silhouette</th>\n",
       "      <th id=\"T_59235_level0_col1\" class=\"col_heading level0 col1\" >Calinski-Harabasz</th>\n",
       "      <th id=\"T_59235_level0_col2\" class=\"col_heading level0 col2\" >Davies-Bouldin</th>\n",
       "      <th id=\"T_59235_level0_col3\" class=\"col_heading level0 col3\" >Homogeneity</th>\n",
       "      <th id=\"T_59235_level0_col4\" class=\"col_heading level0 col4\" >Rand Index</th>\n",
       "      <th id=\"T_59235_level0_col5\" class=\"col_heading level0 col5\" >Completeness</th>\n",
       "    </tr>\n",
       "  </thead>\n",
       "  <tbody>\n",
       "    <tr>\n",
       "      <th id=\"T_59235_level0_row0\" class=\"row_heading level0 row0\" >0</th>\n",
       "      <td id=\"T_59235_row0_col0\" class=\"data row0 col0\" >0.7060</td>\n",
       "      <td id=\"T_59235_row0_col1\" class=\"data row0 col1\" >4827.2243</td>\n",
       "      <td id=\"T_59235_row0_col2\" class=\"data row0 col2\" >0.4339</td>\n",
       "      <td id=\"T_59235_row0_col3\" class=\"data row0 col3\" >0</td>\n",
       "      <td id=\"T_59235_row0_col4\" class=\"data row0 col4\" >0</td>\n",
       "      <td id=\"T_59235_row0_col5\" class=\"data row0 col5\" >0</td>\n",
       "    </tr>\n",
       "  </tbody>\n",
       "</table>\n"
      ],
      "text/plain": [
       "<pandas.io.formats.style.Styler at 0x1ea1d07e610>"
      ]
     },
     "metadata": {},
     "output_type": "display_data"
    },
    {
     "data": {
      "text/html": [],
      "text/plain": [
       "<IPython.core.display.HTML object>"
      ]
     },
     "metadata": {},
     "output_type": "display_data"
    },
    {
     "data": {
      "text/html": [],
      "text/plain": [
       "<IPython.core.display.HTML object>"
      ]
     },
     "metadata": {},
     "output_type": "display_data"
    },
    {
     "data": {
      "image/png": "[encoded data removed]",
      "text/plain": [
       "<Figure size 800x550 with 1 Axes>"
      ]
     },
     "metadata": {},
     "output_type": "display_data"
    }
   ],
   "source": [
    "from pycaret.datasets import get_data\n",
    "from pycaret.clustering import *\n",
    "\n",
    "jewelleryDataSet = get_data('jewellery', verbose=False)\n",
    "setup(data = jewelleryDataSet, verbose=False)\n",
    "\n",
    "x = create_model('hclust')\n",
    "plot_model(x, plot = 'elbow')"
   ]
  },
  {
   "cell_type": "code",
   "execution_count": 49,
   "id": "3b9fcb08",
   "metadata": {},
   "outputs": [
    {
     "data": {
      "text/html": [],
      "text/plain": [
       "<IPython.core.display.HTML object>"
      ]
     },
     "metadata": {},
     "output_type": "display_data"
    },
    {
     "data": {
      "text/html": [
       "<style type=\"text/css\">\n",
       "</style>\n",
       "<table id=\"T_182f0\">\n",
       "  <thead>\n",
       "    <tr>\n",
       "      <th class=\"blank level0\" >&nbsp;</th>\n",
       "      <th id=\"T_182f0_level0_col0\" class=\"col_heading level0 col0\" >Silhouette</th>\n",
       "      <th id=\"T_182f0_level0_col1\" class=\"col_heading level0 col1\" >Calinski-Harabasz</th>\n",
       "      <th id=\"T_182f0_level0_col2\" class=\"col_heading level0 col2\" >Davies-Bouldin</th>\n",
       "      <th id=\"T_182f0_level0_col3\" class=\"col_heading level0 col3\" >Homogeneity</th>\n",
       "      <th id=\"T_182f0_level0_col4\" class=\"col_heading level0 col4\" >Rand Index</th>\n",
       "      <th id=\"T_182f0_level0_col5\" class=\"col_heading level0 col5\" >Completeness</th>\n",
       "    </tr>\n",
       "  </thead>\n",
       "  <tbody>\n",
       "    <tr>\n",
       "      <th id=\"T_182f0_level0_row0\" class=\"row_heading level0 row0\" >0</th>\n",
       "      <td id=\"T_182f0_row0_col0\" class=\"data row0 col0\" >0.7391</td>\n",
       "      <td id=\"T_182f0_row0_col1\" class=\"data row0 col1\" >3542.6251</td>\n",
       "      <td id=\"T_182f0_row0_col2\" class=\"data row0 col2\" >0.3407</td>\n",
       "      <td id=\"T_182f0_row0_col3\" class=\"data row0 col3\" >0</td>\n",
       "      <td id=\"T_182f0_row0_col4\" class=\"data row0 col4\" >0</td>\n",
       "      <td id=\"T_182f0_row0_col5\" class=\"data row0 col5\" >0</td>\n",
       "    </tr>\n",
       "  </tbody>\n",
       "</table>\n"
      ],
      "text/plain": [
       "<pandas.io.formats.style.Styler at 0x1ea184098d0>"
      ]
     },
     "metadata": {},
     "output_type": "display_data"
    },
    {
     "data": {
      "text/html": [],
      "text/plain": [
       "<IPython.core.display.HTML object>"
      ]
     },
     "metadata": {},
     "output_type": "display_data"
    },
    {
     "data": {
      "text/html": [
       "<div>\n",
       "<style scoped>\n",
       "    .dataframe tbody tr th:only-of-type {\n",
       "        vertical-align: middle;\n",
       "    }\n",
       "\n",
       "    .dataframe tbody tr th {\n",
       "        vertical-align: top;\n",
       "    }\n",
       "\n",
       "    .dataframe thead th {\n",
       "        text-align: right;\n",
       "    }\n",
       "</style>\n",
       "<table border=\"1\" class=\"dataframe\">\n",
       "  <thead>\n",
       "    <tr style=\"text-align: right;\">\n",
       "      <th></th>\n",
       "      <th>Age</th>\n",
       "      <th>Income</th>\n",
       "      <th>SpendingScore</th>\n",
       "      <th>Savings</th>\n",
       "      <th>Cluster</th>\n",
       "    </tr>\n",
       "  </thead>\n",
       "  <tbody>\n",
       "    <tr>\n",
       "      <th>0</th>\n",
       "      <td>58</td>\n",
       "      <td>77769</td>\n",
       "      <td>0.791329</td>\n",
       "      <td>6559.830078</td>\n",
       "      <td>Cluster 2</td>\n",
       "    </tr>\n",
       "    <tr>\n",
       "      <th>1</th>\n",
       "      <td>59</td>\n",
       "      <td>81799</td>\n",
       "      <td>0.791082</td>\n",
       "      <td>5417.661621</td>\n",
       "      <td>Cluster 2</td>\n",
       "    </tr>\n",
       "    <tr>\n",
       "      <th>2</th>\n",
       "      <td>62</td>\n",
       "      <td>74751</td>\n",
       "      <td>0.702657</td>\n",
       "      <td>9258.993164</td>\n",
       "      <td>Cluster 2</td>\n",
       "    </tr>\n",
       "    <tr>\n",
       "      <th>3</th>\n",
       "      <td>59</td>\n",
       "      <td>74373</td>\n",
       "      <td>0.765680</td>\n",
       "      <td>7346.334473</td>\n",
       "      <td>Cluster 2</td>\n",
       "    </tr>\n",
       "    <tr>\n",
       "      <th>4</th>\n",
       "      <td>87</td>\n",
       "      <td>17760</td>\n",
       "      <td>0.348778</td>\n",
       "      <td>16869.507812</td>\n",
       "      <td>Cluster 1</td>\n",
       "    </tr>\n",
       "    <tr>\n",
       "      <th>...</th>\n",
       "      <td>...</td>\n",
       "      <td>...</td>\n",
       "      <td>...</td>\n",
       "      <td>...</td>\n",
       "      <td>...</td>\n",
       "    </tr>\n",
       "    <tr>\n",
       "      <th>500</th>\n",
       "      <td>28</td>\n",
       "      <td>101206</td>\n",
       "      <td>0.387441</td>\n",
       "      <td>14936.775391</td>\n",
       "      <td>Cluster 0</td>\n",
       "    </tr>\n",
       "    <tr>\n",
       "      <th>501</th>\n",
       "      <td>93</td>\n",
       "      <td>19934</td>\n",
       "      <td>0.203140</td>\n",
       "      <td>17969.693359</td>\n",
       "      <td>Cluster 1</td>\n",
       "    </tr>\n",
       "    <tr>\n",
       "      <th>502</th>\n",
       "      <td>90</td>\n",
       "      <td>35297</td>\n",
       "      <td>0.355149</td>\n",
       "      <td>16091.402344</td>\n",
       "      <td>Cluster 1</td>\n",
       "    </tr>\n",
       "    <tr>\n",
       "      <th>503</th>\n",
       "      <td>91</td>\n",
       "      <td>20681</td>\n",
       "      <td>0.354679</td>\n",
       "      <td>18401.087891</td>\n",
       "      <td>Cluster 1</td>\n",
       "    </tr>\n",
       "    <tr>\n",
       "      <th>504</th>\n",
       "      <td>89</td>\n",
       "      <td>30267</td>\n",
       "      <td>0.289310</td>\n",
       "      <td>14386.351562</td>\n",
       "      <td>Cluster 1</td>\n",
       "    </tr>\n",
       "  </tbody>\n",
       "</table>\n",
       "<p>505 rows × 5 columns</p>\n",
       "</div>"
      ],
      "text/plain": [
       "     Age  Income  SpendingScore       Savings    Cluster\n",
       "0     58   77769       0.791329   6559.830078  Cluster 2\n",
       "1     59   81799       0.791082   5417.661621  Cluster 2\n",
       "2     62   74751       0.702657   9258.993164  Cluster 2\n",
       "3     59   74373       0.765680   7346.334473  Cluster 2\n",
       "4     87   17760       0.348778  16869.507812  Cluster 1\n",
       "..   ...     ...            ...           ...        ...\n",
       "500   28  101206       0.387441  14936.775391  Cluster 0\n",
       "501   93   19934       0.203140  17969.693359  Cluster 1\n",
       "502   90   35297       0.355149  16091.402344  Cluster 1\n",
       "503   91   20681       0.354679  18401.087891  Cluster 1\n",
       "504   89   30267       0.289310  14386.351562  Cluster 1\n",
       "\n",
       "[505 rows x 5 columns]"
      ]
     },
     "execution_count": 49,
     "metadata": {},
     "output_type": "execute_result"
    }
   ],
   "source": [
    "hierarchicalModel = create_model('hclust', num_clusters=3)\n",
    "hierarchicalModelPrediction = assign_model(hierarchicalModel)\n",
    "hierarchicalModelPrediction"
   ]
  },
  {
   "cell_type": "code",
   "execution_count": 52,
   "id": "42103628",
   "metadata": {},
   "outputs": [
    {
     "data": {
      "application/vnd.jupyter.widget-view+json": {
       "model_id": "582da092acdd474da4764dff6ce93fe7",
       "version_major": 2,
       "version_minor": 0
      },
      "text/plain": [
       "interactive(children=(ToggleButtons(description='Plot Type:', icons=('',), options=(('Pipeline Plot', 'pipelin…"
      ]
     },
     "metadata": {},
     "output_type": "display_data"
    }
   ],
   "source": [
    "evaluate_model(hierarchicalModel)"
   ]
  },
  {
   "cell_type": "code",
   "execution_count": 53,
   "id": "bf2ee930",
   "metadata": {},
   "outputs": [
    {
     "data": {
      "text/html": [],
      "text/plain": [
       "<IPython.core.display.HTML object>"
      ]
     },
     "metadata": {},
     "output_type": "display_data"
    },
    {
     "data": {
      "text/html": [
       "<style type=\"text/css\">\n",
       "</style>\n",
       "<table id=\"T_25d9a\">\n",
       "  <thead>\n",
       "    <tr>\n",
       "      <th class=\"blank level0\" >&nbsp;</th>\n",
       "      <th id=\"T_25d9a_level0_col0\" class=\"col_heading level0 col0\" >Silhouette</th>\n",
       "      <th id=\"T_25d9a_level0_col1\" class=\"col_heading level0 col1\" >Calinski-Harabasz</th>\n",
       "      <th id=\"T_25d9a_level0_col2\" class=\"col_heading level0 col2\" >Davies-Bouldin</th>\n",
       "      <th id=\"T_25d9a_level0_col3\" class=\"col_heading level0 col3\" >Homogeneity</th>\n",
       "      <th id=\"T_25d9a_level0_col4\" class=\"col_heading level0 col4\" >Rand Index</th>\n",
       "      <th id=\"T_25d9a_level0_col5\" class=\"col_heading level0 col5\" >Completeness</th>\n",
       "    </tr>\n",
       "  </thead>\n",
       "  <tbody>\n",
       "    <tr>\n",
       "      <th id=\"T_25d9a_level0_row0\" class=\"row_heading level0 row0\" >0</th>\n",
       "      <td id=\"T_25d9a_row0_col0\" class=\"data row0 col0\" >0</td>\n",
       "      <td id=\"T_25d9a_row0_col1\" class=\"data row0 col1\" >0</td>\n",
       "      <td id=\"T_25d9a_row0_col2\" class=\"data row0 col2\" >0</td>\n",
       "      <td id=\"T_25d9a_row0_col3\" class=\"data row0 col3\" >0</td>\n",
       "      <td id=\"T_25d9a_row0_col4\" class=\"data row0 col4\" >0</td>\n",
       "      <td id=\"T_25d9a_row0_col5\" class=\"data row0 col5\" >0</td>\n",
       "    </tr>\n",
       "  </tbody>\n",
       "</table>\n"
      ],
      "text/plain": [
       "<pandas.io.formats.style.Styler at 0x1ea1ce0d450>"
      ]
     },
     "metadata": {},
     "output_type": "display_data"
    },
    {
     "data": {
      "text/html": [],
      "text/plain": [
       "<IPython.core.display.HTML object>"
      ]
     },
     "metadata": {},
     "output_type": "display_data"
    }
   ],
   "source": [
    "from pycaret.datasets import get_data\n",
    "from pycaret.clustering import *\n",
    "\n",
    "jewelleryDataSet = get_data('jewellery', verbose=False)\n",
    "setup(data = jewelleryDataSet, verbose=False)\n",
    "dbscanModel = create_model('dbscan')"
   ]
  },
  {
   "cell_type": "code",
   "execution_count": 54,
   "id": "18ff5771",
   "metadata": {},
   "outputs": [
    {
     "data": {
      "text/html": [
       "<div>\n",
       "<style scoped>\n",
       "    .dataframe tbody tr th:only-of-type {\n",
       "        vertical-align: middle;\n",
       "    }\n",
       "\n",
       "    .dataframe tbody tr th {\n",
       "        vertical-align: top;\n",
       "    }\n",
       "\n",
       "    .dataframe thead th {\n",
       "        text-align: right;\n",
       "    }\n",
       "</style>\n",
       "<table border=\"1\" class=\"dataframe\">\n",
       "  <thead>\n",
       "    <tr style=\"text-align: right;\">\n",
       "      <th></th>\n",
       "      <th>Age</th>\n",
       "      <th>Income</th>\n",
       "      <th>SpendingScore</th>\n",
       "      <th>Savings</th>\n",
       "      <th>Cluster</th>\n",
       "    </tr>\n",
       "  </thead>\n",
       "  <tbody>\n",
       "    <tr>\n",
       "      <th>0</th>\n",
       "      <td>58</td>\n",
       "      <td>77769</td>\n",
       "      <td>0.791329</td>\n",
       "      <td>6559.830078</td>\n",
       "      <td>Cluster -1</td>\n",
       "    </tr>\n",
       "    <tr>\n",
       "      <th>1</th>\n",
       "      <td>59</td>\n",
       "      <td>81799</td>\n",
       "      <td>0.791082</td>\n",
       "      <td>5417.661621</td>\n",
       "      <td>Cluster -1</td>\n",
       "    </tr>\n",
       "    <tr>\n",
       "      <th>2</th>\n",
       "      <td>62</td>\n",
       "      <td>74751</td>\n",
       "      <td>0.702657</td>\n",
       "      <td>9258.993164</td>\n",
       "      <td>Cluster -1</td>\n",
       "    </tr>\n",
       "    <tr>\n",
       "      <th>3</th>\n",
       "      <td>59</td>\n",
       "      <td>74373</td>\n",
       "      <td>0.765680</td>\n",
       "      <td>7346.334473</td>\n",
       "      <td>Cluster -1</td>\n",
       "    </tr>\n",
       "    <tr>\n",
       "      <th>4</th>\n",
       "      <td>87</td>\n",
       "      <td>17760</td>\n",
       "      <td>0.348778</td>\n",
       "      <td>16869.507812</td>\n",
       "      <td>Cluster -1</td>\n",
       "    </tr>\n",
       "    <tr>\n",
       "      <th>...</th>\n",
       "      <td>...</td>\n",
       "      <td>...</td>\n",
       "      <td>...</td>\n",
       "      <td>...</td>\n",
       "      <td>...</td>\n",
       "    </tr>\n",
       "    <tr>\n",
       "      <th>500</th>\n",
       "      <td>28</td>\n",
       "      <td>101206</td>\n",
       "      <td>0.387441</td>\n",
       "      <td>14936.775391</td>\n",
       "      <td>Cluster -1</td>\n",
       "    </tr>\n",
       "    <tr>\n",
       "      <th>501</th>\n",
       "      <td>93</td>\n",
       "      <td>19934</td>\n",
       "      <td>0.203140</td>\n",
       "      <td>17969.693359</td>\n",
       "      <td>Cluster -1</td>\n",
       "    </tr>\n",
       "    <tr>\n",
       "      <th>502</th>\n",
       "      <td>90</td>\n",
       "      <td>35297</td>\n",
       "      <td>0.355149</td>\n",
       "      <td>16091.402344</td>\n",
       "      <td>Cluster -1</td>\n",
       "    </tr>\n",
       "    <tr>\n",
       "      <th>503</th>\n",
       "      <td>91</td>\n",
       "      <td>20681</td>\n",
       "      <td>0.354679</td>\n",
       "      <td>18401.087891</td>\n",
       "      <td>Cluster -1</td>\n",
       "    </tr>\n",
       "    <tr>\n",
       "      <th>504</th>\n",
       "      <td>89</td>\n",
       "      <td>30267</td>\n",
       "      <td>0.289310</td>\n",
       "      <td>14386.351562</td>\n",
       "      <td>Cluster -1</td>\n",
       "    </tr>\n",
       "  </tbody>\n",
       "</table>\n",
       "<p>505 rows × 5 columns</p>\n",
       "</div>"
      ],
      "text/plain": [
       "     Age  Income  SpendingScore       Savings     Cluster\n",
       "0     58   77769       0.791329   6559.830078  Cluster -1\n",
       "1     59   81799       0.791082   5417.661621  Cluster -1\n",
       "2     62   74751       0.702657   9258.993164  Cluster -1\n",
       "3     59   74373       0.765680   7346.334473  Cluster -1\n",
       "4     87   17760       0.348778  16869.507812  Cluster -1\n",
       "..   ...     ...            ...           ...         ...\n",
       "500   28  101206       0.387441  14936.775391  Cluster -1\n",
       "501   93   19934       0.203140  17969.693359  Cluster -1\n",
       "502   90   35297       0.355149  16091.402344  Cluster -1\n",
       "503   91   20681       0.354679  18401.087891  Cluster -1\n",
       "504   89   30267       0.289310  14386.351562  Cluster -1\n",
       "\n",
       "[505 rows x 5 columns]"
      ]
     },
     "execution_count": 54,
     "metadata": {},
     "output_type": "execute_result"
    }
   ],
   "source": [
    "dbscanModelPrediction = assign_model(dbscanModel)\n",
    "dbscanModelPrediction"
   ]
  },
  {
   "cell_type": "code",
   "execution_count": null,
   "id": "0f8d49ae",
   "metadata": {},
   "outputs": [],
   "source": []
  }
 ],
 "metadata": {
  "kernelspec": {
   "display_name": "Python 3 (ipykernel)",
   "language": "python",
   "name": "python3"
  },
  "language_info": {
   "codemirror_mode": {
    "name": "ipython",
    "version": 3
   },
   "file_extension": ".py",
   "mimetype": "text/x-python",
   "name": "python",
   "nbconvert_exporter": "python",
   "pygments_lexer": "ipython3",
   "version": "3.11.5"
  }
 },
 "nbformat": 4,
 "nbformat_minor": 5
}
